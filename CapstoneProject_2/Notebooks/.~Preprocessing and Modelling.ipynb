{
 "cells": [
  {
   "cell_type": "markdown",
   "id": "cfc17751",
   "metadata": {},
   "source": [
    "# 1. Imports"
   ]
  },
  {
   "cell_type": "code",
   "execution_count": 1,
   "id": "e8f2819b",
   "metadata": {},
   "outputs": [],
   "source": [
    "import pandas as pd\n",
    "import numpy as np\n",
    "import matplotlib.pyplot as plt\n",
    "%matplotlib inline\n",
    "import seaborn as sns\n",
    "sns.set_style(\"whitegrid\")\n",
    "sns.set_context(\"poster\")"
   ]
  },
  {
   "cell_type": "markdown",
   "id": "7336c4f4",
   "metadata": {},
   "source": [
    "# 2. Data"
   ]
  },
  {
   "cell_type": "code",
   "execution_count": 2,
   "id": "30802956",
   "metadata": {},
   "outputs": [],
   "source": [
    "attributes = pd.read_csv('attributes.csv', index_col=0)"
   ]
  },
  {
   "cell_type": "code",
   "execution_count": 3,
   "id": "ffdf50bd",
   "metadata": {},
   "outputs": [
    {
     "data": {
      "text/html": [
       "<div>\n",
       "<style scoped>\n",
       "    .dataframe tbody tr th:only-of-type {\n",
       "        vertical-align: middle;\n",
       "    }\n",
       "\n",
       "    .dataframe tbody tr th {\n",
       "        vertical-align: top;\n",
       "    }\n",
       "\n",
       "    .dataframe thead th {\n",
       "        text-align: right;\n",
       "    }\n",
       "</style>\n",
       "<table border=\"1\" class=\"dataframe\">\n",
       "  <thead>\n",
       "    <tr style=\"text-align: right;\">\n",
       "      <th></th>\n",
       "      <th>area_mean</th>\n",
       "      <th>area_se</th>\n",
       "      <th>area_worst</th>\n",
       "      <th>compactness_mean</th>\n",
       "      <th>compactness_se</th>\n",
       "      <th>compactness_worst</th>\n",
       "      <th>concave points_mean</th>\n",
       "      <th>concave points_se</th>\n",
       "      <th>concave points_worst</th>\n",
       "      <th>concavity_mean</th>\n",
       "      <th>...</th>\n",
       "      <th>radius_worst</th>\n",
       "      <th>smoothness_mean</th>\n",
       "      <th>smoothness_se</th>\n",
       "      <th>smoothness_worst</th>\n",
       "      <th>symmetry_mean</th>\n",
       "      <th>symmetry_se</th>\n",
       "      <th>symmetry_worst</th>\n",
       "      <th>texture_mean</th>\n",
       "      <th>texture_se</th>\n",
       "      <th>texture_worst</th>\n",
       "    </tr>\n",
       "  </thead>\n",
       "  <tbody>\n",
       "    <tr>\n",
       "      <th>0</th>\n",
       "      <td>1001.0</td>\n",
       "      <td>153.40</td>\n",
       "      <td>2019.0</td>\n",
       "      <td>0.27760</td>\n",
       "      <td>0.04904</td>\n",
       "      <td>0.6656</td>\n",
       "      <td>0.14710</td>\n",
       "      <td>0.01587</td>\n",
       "      <td>0.2654</td>\n",
       "      <td>0.3001</td>\n",
       "      <td>...</td>\n",
       "      <td>25.38</td>\n",
       "      <td>0.11840</td>\n",
       "      <td>0.006399</td>\n",
       "      <td>0.1622</td>\n",
       "      <td>0.2419</td>\n",
       "      <td>0.03003</td>\n",
       "      <td>0.4601</td>\n",
       "      <td>10.38</td>\n",
       "      <td>0.9053</td>\n",
       "      <td>17.33</td>\n",
       "    </tr>\n",
       "    <tr>\n",
       "      <th>1</th>\n",
       "      <td>1326.0</td>\n",
       "      <td>74.08</td>\n",
       "      <td>1956.0</td>\n",
       "      <td>0.07864</td>\n",
       "      <td>0.01308</td>\n",
       "      <td>0.1866</td>\n",
       "      <td>0.07017</td>\n",
       "      <td>0.01340</td>\n",
       "      <td>0.1860</td>\n",
       "      <td>0.0869</td>\n",
       "      <td>...</td>\n",
       "      <td>24.99</td>\n",
       "      <td>0.08474</td>\n",
       "      <td>0.005225</td>\n",
       "      <td>0.1238</td>\n",
       "      <td>0.1812</td>\n",
       "      <td>0.01389</td>\n",
       "      <td>0.2750</td>\n",
       "      <td>17.77</td>\n",
       "      <td>0.7339</td>\n",
       "      <td>23.41</td>\n",
       "    </tr>\n",
       "    <tr>\n",
       "      <th>2</th>\n",
       "      <td>1203.0</td>\n",
       "      <td>94.03</td>\n",
       "      <td>1709.0</td>\n",
       "      <td>0.15990</td>\n",
       "      <td>0.04006</td>\n",
       "      <td>0.4245</td>\n",
       "      <td>0.12790</td>\n",
       "      <td>0.02058</td>\n",
       "      <td>0.2430</td>\n",
       "      <td>0.1974</td>\n",
       "      <td>...</td>\n",
       "      <td>23.57</td>\n",
       "      <td>0.10960</td>\n",
       "      <td>0.006150</td>\n",
       "      <td>0.1444</td>\n",
       "      <td>0.2069</td>\n",
       "      <td>0.02250</td>\n",
       "      <td>0.3613</td>\n",
       "      <td>21.25</td>\n",
       "      <td>0.7869</td>\n",
       "      <td>25.53</td>\n",
       "    </tr>\n",
       "    <tr>\n",
       "      <th>3</th>\n",
       "      <td>386.1</td>\n",
       "      <td>27.23</td>\n",
       "      <td>567.7</td>\n",
       "      <td>0.28390</td>\n",
       "      <td>0.07458</td>\n",
       "      <td>0.8663</td>\n",
       "      <td>0.10520</td>\n",
       "      <td>0.01867</td>\n",
       "      <td>0.2575</td>\n",
       "      <td>0.2414</td>\n",
       "      <td>...</td>\n",
       "      <td>14.91</td>\n",
       "      <td>0.14250</td>\n",
       "      <td>0.009110</td>\n",
       "      <td>0.2098</td>\n",
       "      <td>0.2597</td>\n",
       "      <td>0.05963</td>\n",
       "      <td>0.6638</td>\n",
       "      <td>20.38</td>\n",
       "      <td>1.1560</td>\n",
       "      <td>26.50</td>\n",
       "    </tr>\n",
       "    <tr>\n",
       "      <th>4</th>\n",
       "      <td>1297.0</td>\n",
       "      <td>94.44</td>\n",
       "      <td>1575.0</td>\n",
       "      <td>0.13280</td>\n",
       "      <td>0.02461</td>\n",
       "      <td>0.2050</td>\n",
       "      <td>0.10430</td>\n",
       "      <td>0.01885</td>\n",
       "      <td>0.1625</td>\n",
       "      <td>0.1980</td>\n",
       "      <td>...</td>\n",
       "      <td>22.54</td>\n",
       "      <td>0.10030</td>\n",
       "      <td>0.011490</td>\n",
       "      <td>0.1374</td>\n",
       "      <td>0.1809</td>\n",
       "      <td>0.01756</td>\n",
       "      <td>0.2364</td>\n",
       "      <td>14.34</td>\n",
       "      <td>0.7813</td>\n",
       "      <td>16.67</td>\n",
       "    </tr>\n",
       "  </tbody>\n",
       "</table>\n",
       "<p>5 rows × 31 columns</p>\n",
       "</div>"
      ],
      "text/plain": [
       "   area_mean  area_se  area_worst  compactness_mean  compactness_se  \\\n",
       "0     1001.0   153.40      2019.0           0.27760         0.04904   \n",
       "1     1326.0    74.08      1956.0           0.07864         0.01308   \n",
       "2     1203.0    94.03      1709.0           0.15990         0.04006   \n",
       "3      386.1    27.23       567.7           0.28390         0.07458   \n",
       "4     1297.0    94.44      1575.0           0.13280         0.02461   \n",
       "\n",
       "   compactness_worst  concave points_mean  concave points_se  \\\n",
       "0             0.6656              0.14710            0.01587   \n",
       "1             0.1866              0.07017            0.01340   \n",
       "2             0.4245              0.12790            0.02058   \n",
       "3             0.8663              0.10520            0.01867   \n",
       "4             0.2050              0.10430            0.01885   \n",
       "\n",
       "   concave points_worst  concavity_mean  ...  radius_worst  smoothness_mean  \\\n",
       "0                0.2654          0.3001  ...         25.38          0.11840   \n",
       "1                0.1860          0.0869  ...         24.99          0.08474   \n",
       "2                0.2430          0.1974  ...         23.57          0.10960   \n",
       "3                0.2575          0.2414  ...         14.91          0.14250   \n",
       "4                0.1625          0.1980  ...         22.54          0.10030   \n",
       "\n",
       "  smoothness_se  smoothness_worst  symmetry_mean  symmetry_se  symmetry_worst  \\\n",
       "0      0.006399            0.1622         0.2419      0.03003          0.4601   \n",
       "1      0.005225            0.1238         0.1812      0.01389          0.2750   \n",
       "2      0.006150            0.1444         0.2069      0.02250          0.3613   \n",
       "3      0.009110            0.2098         0.2597      0.05963          0.6638   \n",
       "4      0.011490            0.1374         0.1809      0.01756          0.2364   \n",
       "\n",
       "   texture_mean  texture_se  texture_worst  \n",
       "0         10.38      0.9053          17.33  \n",
       "1         17.77      0.7339          23.41  \n",
       "2         21.25      0.7869          25.53  \n",
       "3         20.38      1.1560          26.50  \n",
       "4         14.34      0.7813          16.67  \n",
       "\n",
       "[5 rows x 31 columns]"
      ]
     },
     "execution_count": 3,
     "metadata": {},
     "output_type": "execute_result"
    }
   ],
   "source": [
    "attributes.head()"
   ]
  },
  {
   "cell_type": "code",
   "execution_count": 4,
   "id": "9c583d74",
   "metadata": {},
   "outputs": [
    {
     "data": {
      "text/plain": [
       "Index(['area_mean', 'area_se', 'area_worst', 'compactness_mean',\n",
       "       'compactness_se', 'compactness_worst', 'concave points_mean',\n",
       "       'concave points_se', 'concave points_worst', 'concavity_mean',\n",
       "       'concavity_se', 'concavity_worst', 'diagnosis',\n",
       "       'fractal_dimension_mean', 'fractal_dimension_se',\n",
       "       'fractal_dimension_worst', 'perimeter_mean', 'perimeter_se',\n",
       "       'perimeter_worst', 'radius_mean', 'radius_se', 'radius_worst',\n",
       "       'smoothness_mean', 'smoothness_se', 'smoothness_worst', 'symmetry_mean',\n",
       "       'symmetry_se', 'symmetry_worst', 'texture_mean', 'texture_se',\n",
       "       'texture_worst'],\n",
       "      dtype='object')"
      ]
     },
     "execution_count": 4,
     "metadata": {},
     "output_type": "execute_result"
    }
   ],
   "source": [
    "attributes.columns"
   ]
  },
  {
   "cell_type": "code",
   "execution_count": 5,
   "id": "91f93ad7",
   "metadata": {},
   "outputs": [],
   "source": [
    "clean_data = pd.read_csv('CleanData.csv', index_col = 0)"
   ]
  },
  {
   "cell_type": "code",
   "execution_count": 6,
   "id": "470d633d",
   "metadata": {},
   "outputs": [
    {
     "data": {
      "text/html": [
       "<div>\n",
       "<style scoped>\n",
       "    .dataframe tbody tr th:only-of-type {\n",
       "        vertical-align: middle;\n",
       "    }\n",
       "\n",
       "    .dataframe tbody tr th {\n",
       "        vertical-align: top;\n",
       "    }\n",
       "\n",
       "    .dataframe thead th {\n",
       "        text-align: right;\n",
       "    }\n",
       "</style>\n",
       "<table border=\"1\" class=\"dataframe\">\n",
       "  <thead>\n",
       "    <tr style=\"text-align: right;\">\n",
       "      <th></th>\n",
       "      <th>diagnosis</th>\n",
       "      <th>radius_mean</th>\n",
       "      <th>texture_mean</th>\n",
       "      <th>perimeter_mean</th>\n",
       "      <th>area_mean</th>\n",
       "      <th>smoothness_mean</th>\n",
       "      <th>compactness_mean</th>\n",
       "      <th>concavity_mean</th>\n",
       "      <th>concave points_mean</th>\n",
       "      <th>symmetry_mean</th>\n",
       "      <th>...</th>\n",
       "      <th>radius_worst</th>\n",
       "      <th>texture_worst</th>\n",
       "      <th>perimeter_worst</th>\n",
       "      <th>area_worst</th>\n",
       "      <th>smoothness_worst</th>\n",
       "      <th>compactness_worst</th>\n",
       "      <th>concavity_worst</th>\n",
       "      <th>concave points_worst</th>\n",
       "      <th>symmetry_worst</th>\n",
       "      <th>fractal_dimension_worst</th>\n",
       "    </tr>\n",
       "  </thead>\n",
       "  <tbody>\n",
       "    <tr>\n",
       "      <th>0</th>\n",
       "      <td>M</td>\n",
       "      <td>17.99</td>\n",
       "      <td>10.38</td>\n",
       "      <td>122.80</td>\n",
       "      <td>1001.0</td>\n",
       "      <td>0.11840</td>\n",
       "      <td>0.27760</td>\n",
       "      <td>0.3001</td>\n",
       "      <td>0.14710</td>\n",
       "      <td>0.2419</td>\n",
       "      <td>...</td>\n",
       "      <td>25.38</td>\n",
       "      <td>17.33</td>\n",
       "      <td>184.60</td>\n",
       "      <td>2019.0</td>\n",
       "      <td>0.1622</td>\n",
       "      <td>0.6656</td>\n",
       "      <td>0.7119</td>\n",
       "      <td>0.2654</td>\n",
       "      <td>0.4601</td>\n",
       "      <td>0.11890</td>\n",
       "    </tr>\n",
       "    <tr>\n",
       "      <th>1</th>\n",
       "      <td>M</td>\n",
       "      <td>20.57</td>\n",
       "      <td>17.77</td>\n",
       "      <td>132.90</td>\n",
       "      <td>1326.0</td>\n",
       "      <td>0.08474</td>\n",
       "      <td>0.07864</td>\n",
       "      <td>0.0869</td>\n",
       "      <td>0.07017</td>\n",
       "      <td>0.1812</td>\n",
       "      <td>...</td>\n",
       "      <td>24.99</td>\n",
       "      <td>23.41</td>\n",
       "      <td>158.80</td>\n",
       "      <td>1956.0</td>\n",
       "      <td>0.1238</td>\n",
       "      <td>0.1866</td>\n",
       "      <td>0.2416</td>\n",
       "      <td>0.1860</td>\n",
       "      <td>0.2750</td>\n",
       "      <td>0.08902</td>\n",
       "    </tr>\n",
       "    <tr>\n",
       "      <th>2</th>\n",
       "      <td>M</td>\n",
       "      <td>19.69</td>\n",
       "      <td>21.25</td>\n",
       "      <td>130.00</td>\n",
       "      <td>1203.0</td>\n",
       "      <td>0.10960</td>\n",
       "      <td>0.15990</td>\n",
       "      <td>0.1974</td>\n",
       "      <td>0.12790</td>\n",
       "      <td>0.2069</td>\n",
       "      <td>...</td>\n",
       "      <td>23.57</td>\n",
       "      <td>25.53</td>\n",
       "      <td>152.50</td>\n",
       "      <td>1709.0</td>\n",
       "      <td>0.1444</td>\n",
       "      <td>0.4245</td>\n",
       "      <td>0.4504</td>\n",
       "      <td>0.2430</td>\n",
       "      <td>0.3613</td>\n",
       "      <td>0.08758</td>\n",
       "    </tr>\n",
       "    <tr>\n",
       "      <th>3</th>\n",
       "      <td>M</td>\n",
       "      <td>11.42</td>\n",
       "      <td>20.38</td>\n",
       "      <td>77.58</td>\n",
       "      <td>386.1</td>\n",
       "      <td>0.14250</td>\n",
       "      <td>0.28390</td>\n",
       "      <td>0.2414</td>\n",
       "      <td>0.10520</td>\n",
       "      <td>0.2597</td>\n",
       "      <td>...</td>\n",
       "      <td>14.91</td>\n",
       "      <td>26.50</td>\n",
       "      <td>98.87</td>\n",
       "      <td>567.7</td>\n",
       "      <td>0.2098</td>\n",
       "      <td>0.8663</td>\n",
       "      <td>0.6869</td>\n",
       "      <td>0.2575</td>\n",
       "      <td>0.6638</td>\n",
       "      <td>0.17300</td>\n",
       "    </tr>\n",
       "    <tr>\n",
       "      <th>4</th>\n",
       "      <td>M</td>\n",
       "      <td>20.29</td>\n",
       "      <td>14.34</td>\n",
       "      <td>135.10</td>\n",
       "      <td>1297.0</td>\n",
       "      <td>0.10030</td>\n",
       "      <td>0.13280</td>\n",
       "      <td>0.1980</td>\n",
       "      <td>0.10430</td>\n",
       "      <td>0.1809</td>\n",
       "      <td>...</td>\n",
       "      <td>22.54</td>\n",
       "      <td>16.67</td>\n",
       "      <td>152.20</td>\n",
       "      <td>1575.0</td>\n",
       "      <td>0.1374</td>\n",
       "      <td>0.2050</td>\n",
       "      <td>0.4000</td>\n",
       "      <td>0.1625</td>\n",
       "      <td>0.2364</td>\n",
       "      <td>0.07678</td>\n",
       "    </tr>\n",
       "  </tbody>\n",
       "</table>\n",
       "<p>5 rows × 31 columns</p>\n",
       "</div>"
      ],
      "text/plain": [
       "  diagnosis  radius_mean  texture_mean  perimeter_mean  area_mean  \\\n",
       "0         M        17.99         10.38          122.80     1001.0   \n",
       "1         M        20.57         17.77          132.90     1326.0   \n",
       "2         M        19.69         21.25          130.00     1203.0   \n",
       "3         M        11.42         20.38           77.58      386.1   \n",
       "4         M        20.29         14.34          135.10     1297.0   \n",
       "\n",
       "   smoothness_mean  compactness_mean  concavity_mean  concave points_mean  \\\n",
       "0          0.11840           0.27760          0.3001              0.14710   \n",
       "1          0.08474           0.07864          0.0869              0.07017   \n",
       "2          0.10960           0.15990          0.1974              0.12790   \n",
       "3          0.14250           0.28390          0.2414              0.10520   \n",
       "4          0.10030           0.13280          0.1980              0.10430   \n",
       "\n",
       "   symmetry_mean  ...  radius_worst  texture_worst  perimeter_worst  \\\n",
       "0         0.2419  ...         25.38          17.33           184.60   \n",
       "1         0.1812  ...         24.99          23.41           158.80   \n",
       "2         0.2069  ...         23.57          25.53           152.50   \n",
       "3         0.2597  ...         14.91          26.50            98.87   \n",
       "4         0.1809  ...         22.54          16.67           152.20   \n",
       "\n",
       "   area_worst  smoothness_worst  compactness_worst  concavity_worst  \\\n",
       "0      2019.0            0.1622             0.6656           0.7119   \n",
       "1      1956.0            0.1238             0.1866           0.2416   \n",
       "2      1709.0            0.1444             0.4245           0.4504   \n",
       "3       567.7            0.2098             0.8663           0.6869   \n",
       "4      1575.0            0.1374             0.2050           0.4000   \n",
       "\n",
       "   concave points_worst  symmetry_worst  fractal_dimension_worst  \n",
       "0                0.2654          0.4601                  0.11890  \n",
       "1                0.1860          0.2750                  0.08902  \n",
       "2                0.2430          0.3613                  0.08758  \n",
       "3                0.2575          0.6638                  0.17300  \n",
       "4                0.1625          0.2364                  0.07678  \n",
       "\n",
       "[5 rows x 31 columns]"
      ]
     },
     "execution_count": 6,
     "metadata": {},
     "output_type": "execute_result"
    }
   ],
   "source": [
    "clean_data.head()"
   ]
  },
  {
   "cell_type": "markdown",
   "id": "41358c09",
   "metadata": {},
   "source": [
    "## 2.1 Feature Engineering"
   ]
  },
  {
   "cell_type": "code",
   "execution_count": 7,
   "id": "1dae1922",
   "metadata": {},
   "outputs": [],
   "source": [
    "df = clean_data\n",
    "encoded_data = pd.get_dummies(clean_data['diagnosis']).drop('M', axis = 1)\n",
    "df.drop(['diagnosis'], axis=1, inplace = True)\n",
    "data = pd.concat([df, encoded_data], axis = 1)"
   ]
  },
  {
   "cell_type": "code",
   "execution_count": 8,
   "id": "98c33654",
   "metadata": {},
   "outputs": [
    {
     "data": {
      "text/html": [
       "<div>\n",
       "<style scoped>\n",
       "    .dataframe tbody tr th:only-of-type {\n",
       "        vertical-align: middle;\n",
       "    }\n",
       "\n",
       "    .dataframe tbody tr th {\n",
       "        vertical-align: top;\n",
       "    }\n",
       "\n",
       "    .dataframe thead th {\n",
       "        text-align: right;\n",
       "    }\n",
       "</style>\n",
       "<table border=\"1\" class=\"dataframe\">\n",
       "  <thead>\n",
       "    <tr style=\"text-align: right;\">\n",
       "      <th></th>\n",
       "      <th>radius_mean</th>\n",
       "      <th>texture_mean</th>\n",
       "      <th>perimeter_mean</th>\n",
       "      <th>area_mean</th>\n",
       "      <th>smoothness_mean</th>\n",
       "      <th>compactness_mean</th>\n",
       "      <th>concavity_mean</th>\n",
       "      <th>concave points_mean</th>\n",
       "      <th>symmetry_mean</th>\n",
       "      <th>fractal_dimension_mean</th>\n",
       "      <th>...</th>\n",
       "      <th>texture_worst</th>\n",
       "      <th>perimeter_worst</th>\n",
       "      <th>area_worst</th>\n",
       "      <th>smoothness_worst</th>\n",
       "      <th>compactness_worst</th>\n",
       "      <th>concavity_worst</th>\n",
       "      <th>concave points_worst</th>\n",
       "      <th>symmetry_worst</th>\n",
       "      <th>fractal_dimension_worst</th>\n",
       "      <th>B</th>\n",
       "    </tr>\n",
       "  </thead>\n",
       "  <tbody>\n",
       "    <tr>\n",
       "      <th>0</th>\n",
       "      <td>17.99</td>\n",
       "      <td>10.38</td>\n",
       "      <td>122.80</td>\n",
       "      <td>1001.0</td>\n",
       "      <td>0.11840</td>\n",
       "      <td>0.27760</td>\n",
       "      <td>0.3001</td>\n",
       "      <td>0.14710</td>\n",
       "      <td>0.2419</td>\n",
       "      <td>0.07871</td>\n",
       "      <td>...</td>\n",
       "      <td>17.33</td>\n",
       "      <td>184.60</td>\n",
       "      <td>2019.0</td>\n",
       "      <td>0.1622</td>\n",
       "      <td>0.6656</td>\n",
       "      <td>0.7119</td>\n",
       "      <td>0.2654</td>\n",
       "      <td>0.4601</td>\n",
       "      <td>0.11890</td>\n",
       "      <td>0</td>\n",
       "    </tr>\n",
       "    <tr>\n",
       "      <th>1</th>\n",
       "      <td>20.57</td>\n",
       "      <td>17.77</td>\n",
       "      <td>132.90</td>\n",
       "      <td>1326.0</td>\n",
       "      <td>0.08474</td>\n",
       "      <td>0.07864</td>\n",
       "      <td>0.0869</td>\n",
       "      <td>0.07017</td>\n",
       "      <td>0.1812</td>\n",
       "      <td>0.05667</td>\n",
       "      <td>...</td>\n",
       "      <td>23.41</td>\n",
       "      <td>158.80</td>\n",
       "      <td>1956.0</td>\n",
       "      <td>0.1238</td>\n",
       "      <td>0.1866</td>\n",
       "      <td>0.2416</td>\n",
       "      <td>0.1860</td>\n",
       "      <td>0.2750</td>\n",
       "      <td>0.08902</td>\n",
       "      <td>0</td>\n",
       "    </tr>\n",
       "    <tr>\n",
       "      <th>2</th>\n",
       "      <td>19.69</td>\n",
       "      <td>21.25</td>\n",
       "      <td>130.00</td>\n",
       "      <td>1203.0</td>\n",
       "      <td>0.10960</td>\n",
       "      <td>0.15990</td>\n",
       "      <td>0.1974</td>\n",
       "      <td>0.12790</td>\n",
       "      <td>0.2069</td>\n",
       "      <td>0.05999</td>\n",
       "      <td>...</td>\n",
       "      <td>25.53</td>\n",
       "      <td>152.50</td>\n",
       "      <td>1709.0</td>\n",
       "      <td>0.1444</td>\n",
       "      <td>0.4245</td>\n",
       "      <td>0.4504</td>\n",
       "      <td>0.2430</td>\n",
       "      <td>0.3613</td>\n",
       "      <td>0.08758</td>\n",
       "      <td>0</td>\n",
       "    </tr>\n",
       "    <tr>\n",
       "      <th>3</th>\n",
       "      <td>11.42</td>\n",
       "      <td>20.38</td>\n",
       "      <td>77.58</td>\n",
       "      <td>386.1</td>\n",
       "      <td>0.14250</td>\n",
       "      <td>0.28390</td>\n",
       "      <td>0.2414</td>\n",
       "      <td>0.10520</td>\n",
       "      <td>0.2597</td>\n",
       "      <td>0.09744</td>\n",
       "      <td>...</td>\n",
       "      <td>26.50</td>\n",
       "      <td>98.87</td>\n",
       "      <td>567.7</td>\n",
       "      <td>0.2098</td>\n",
       "      <td>0.8663</td>\n",
       "      <td>0.6869</td>\n",
       "      <td>0.2575</td>\n",
       "      <td>0.6638</td>\n",
       "      <td>0.17300</td>\n",
       "      <td>0</td>\n",
       "    </tr>\n",
       "    <tr>\n",
       "      <th>4</th>\n",
       "      <td>20.29</td>\n",
       "      <td>14.34</td>\n",
       "      <td>135.10</td>\n",
       "      <td>1297.0</td>\n",
       "      <td>0.10030</td>\n",
       "      <td>0.13280</td>\n",
       "      <td>0.1980</td>\n",
       "      <td>0.10430</td>\n",
       "      <td>0.1809</td>\n",
       "      <td>0.05883</td>\n",
       "      <td>...</td>\n",
       "      <td>16.67</td>\n",
       "      <td>152.20</td>\n",
       "      <td>1575.0</td>\n",
       "      <td>0.1374</td>\n",
       "      <td>0.2050</td>\n",
       "      <td>0.4000</td>\n",
       "      <td>0.1625</td>\n",
       "      <td>0.2364</td>\n",
       "      <td>0.07678</td>\n",
       "      <td>0</td>\n",
       "    </tr>\n",
       "  </tbody>\n",
       "</table>\n",
       "<p>5 rows × 31 columns</p>\n",
       "</div>"
      ],
      "text/plain": [
       "   radius_mean  texture_mean  perimeter_mean  area_mean  smoothness_mean  \\\n",
       "0        17.99         10.38          122.80     1001.0          0.11840   \n",
       "1        20.57         17.77          132.90     1326.0          0.08474   \n",
       "2        19.69         21.25          130.00     1203.0          0.10960   \n",
       "3        11.42         20.38           77.58      386.1          0.14250   \n",
       "4        20.29         14.34          135.10     1297.0          0.10030   \n",
       "\n",
       "   compactness_mean  concavity_mean  concave points_mean  symmetry_mean  \\\n",
       "0           0.27760          0.3001              0.14710         0.2419   \n",
       "1           0.07864          0.0869              0.07017         0.1812   \n",
       "2           0.15990          0.1974              0.12790         0.2069   \n",
       "3           0.28390          0.2414              0.10520         0.2597   \n",
       "4           0.13280          0.1980              0.10430         0.1809   \n",
       "\n",
       "   fractal_dimension_mean  ...  texture_worst  perimeter_worst  area_worst  \\\n",
       "0                 0.07871  ...          17.33           184.60      2019.0   \n",
       "1                 0.05667  ...          23.41           158.80      1956.0   \n",
       "2                 0.05999  ...          25.53           152.50      1709.0   \n",
       "3                 0.09744  ...          26.50            98.87       567.7   \n",
       "4                 0.05883  ...          16.67           152.20      1575.0   \n",
       "\n",
       "   smoothness_worst  compactness_worst  concavity_worst  concave points_worst  \\\n",
       "0            0.1622             0.6656           0.7119                0.2654   \n",
       "1            0.1238             0.1866           0.2416                0.1860   \n",
       "2            0.1444             0.4245           0.4504                0.2430   \n",
       "3            0.2098             0.8663           0.6869                0.2575   \n",
       "4            0.1374             0.2050           0.4000                0.1625   \n",
       "\n",
       "   symmetry_worst  fractal_dimension_worst  B  \n",
       "0          0.4601                  0.11890  0  \n",
       "1          0.2750                  0.08902  0  \n",
       "2          0.3613                  0.08758  0  \n",
       "3          0.6638                  0.17300  0  \n",
       "4          0.2364                  0.07678  0  \n",
       "\n",
       "[5 rows x 31 columns]"
      ]
     },
     "execution_count": 8,
     "metadata": {},
     "output_type": "execute_result"
    }
   ],
   "source": [
    "data.head()"
   ]
  },
  {
   "cell_type": "code",
   "execution_count": 9,
   "id": "b9000ae2",
   "metadata": {},
   "outputs": [],
   "source": [
    "target = data[['B']]"
   ]
  },
  {
   "cell_type": "code",
   "execution_count": 10,
   "id": "3467bc6e",
   "metadata": {},
   "outputs": [],
   "source": [
    "attributes = data.drop('B', axis = 1)"
   ]
  },
  {
   "cell_type": "markdown",
   "id": "8c495e69",
   "metadata": {},
   "source": [
    "## 2.2 Splitting Data into Train and Test Data"
   ]
  },
  {
   "cell_type": "code",
   "execution_count": 11,
   "id": "8f7e3f8c",
   "metadata": {},
   "outputs": [],
   "source": [
    "from sklearn.model_selection import train_test_split\n",
    "from sklearn.preprocessing import StandardScaler"
   ]
  },
  {
   "cell_type": "code",
   "execution_count": 12,
   "id": "192b154c",
   "metadata": {},
   "outputs": [],
   "source": [
    "X = attributes\n",
    "y = target\n",
    "#training set = 75% testing set = 25%\n",
    "X_train, X_test, y_train, y_test = train_test_split(X, np.ravel(y), test_size = 0.25, random_state = 10)"
   ]
  },
  {
   "cell_type": "code",
   "execution_count": 13,
   "id": "5a238cab",
   "metadata": {},
   "outputs": [
    {
     "name": "stdout",
     "output_type": "stream",
     "text": [
      "(426, 30) (426,)\n"
     ]
    }
   ],
   "source": [
    "print(X_train.shape, y_train.shape)"
   ]
  },
  {
   "cell_type": "code",
   "execution_count": 14,
   "id": "92394982",
   "metadata": {},
   "outputs": [
    {
     "name": "stdout",
     "output_type": "stream",
     "text": [
      "(143, 30) (143,)\n"
     ]
    }
   ],
   "source": [
    "print(X_test.shape, y_test.shape)"
   ]
  },
  {
   "cell_type": "code",
   "execution_count": 15,
   "id": "34ac3fe3",
   "metadata": {},
   "outputs": [],
   "source": [
    "## should I split my data further into validation and training sets?"
   ]
  },
  {
   "cell_type": "code",
   "execution_count": null,
   "id": "26794eea",
   "metadata": {},
   "outputs": [],
   "source": []
  },
  {
   "cell_type": "code",
   "execution_count": null,
   "id": "4e49c903",
   "metadata": {},
   "outputs": [],
   "source": []
  },
  {
   "cell_type": "markdown",
   "id": "53e3682d",
   "metadata": {},
   "source": [
    "## 2.3 Scaling Data"
   ]
  },
  {
   "cell_type": "code",
   "execution_count": 16,
   "id": "9fd0e032",
   "metadata": {},
   "outputs": [],
   "source": [
    "# assuming data is normally distributed\n",
    "scaler = StandardScaler()\n",
    "scaler.fit(X_train)\n",
    "X_train_scaled = scaler.transform(X_train)\n",
    "X_test_scaled = scaler.transform(X_test)"
   ]
  },
  {
   "cell_type": "markdown",
   "id": "9ec76209",
   "metadata": {},
   "source": [
    "# 3. Imports for Evaluating Data"
   ]
  },
  {
   "cell_type": "code",
   "execution_count": 17,
   "id": "b64ab111",
   "metadata": {},
   "outputs": [],
   "source": [
    "from sklearn.metrics import accuracy_score, classification_report, confusion_matrix, matthews_corrcoef, roc_auc_score, roc_curve\n",
    "from sklearn.model_selection import GridSearchCV, cross_validate, learning_curve, validation_curve, RandomizedSearchCV, StratifiedKFold\n",
    "from bayes_opt import BayesianOptimization\n",
    "from sklearn.pipeline import make_pipeline\n",
    "from sklearn.feature_selection import SelectKBest"
   ]
  },
  {
   "cell_type": "markdown",
   "id": "0cadc00b",
   "metadata": {},
   "source": [
    "# 4. Training"
   ]
  },
  {
   "cell_type": "markdown",
   "id": "cf927e77",
   "metadata": {},
   "source": [
    "## 4.1 Dummy Classifier"
   ]
  },
  {
   "cell_type": "code",
   "execution_count": 18,
   "id": "b3156f70",
   "metadata": {},
   "outputs": [],
   "source": [
    "from sklearn.dummy import DummyClassifier"
   ]
  },
  {
   "cell_type": "code",
   "execution_count": 19,
   "id": "173682f0",
   "metadata": {},
   "outputs": [
    {
     "name": "stdout",
     "output_type": "stream",
     "text": [
      "Confusion Matrix: \n",
      " [[ 0 52]\n",
      " [ 0 91]]\n",
      "Classification Report:                precision    recall  f1-score   support\n",
      "\n",
      "           0       0.00      0.00      0.00        52\n",
      "           1       0.64      1.00      0.78        91\n",
      "\n",
      "    accuracy                           0.64       143\n",
      "   macro avg       0.32      0.50      0.39       143\n",
      "weighted avg       0.40      0.64      0.49       143\n",
      "\n"
     ]
    },
    {
     "name": "stderr",
     "output_type": "stream",
     "text": [
      "C:\\ProgramData\\Anaconda3\\lib\\site-packages\\sklearn\\metrics\\_classification.py:1245: UndefinedMetricWarning: Precision and F-score are ill-defined and being set to 0.0 in labels with no predicted samples. Use `zero_division` parameter to control this behavior.\n",
      "  _warn_prf(average, modifier, msg_start, len(result))\n",
      "C:\\ProgramData\\Anaconda3\\lib\\site-packages\\sklearn\\metrics\\_classification.py:1245: UndefinedMetricWarning: Precision and F-score are ill-defined and being set to 0.0 in labels with no predicted samples. Use `zero_division` parameter to control this behavior.\n",
      "  _warn_prf(average, modifier, msg_start, len(result))\n",
      "C:\\ProgramData\\Anaconda3\\lib\\site-packages\\sklearn\\metrics\\_classification.py:1245: UndefinedMetricWarning: Precision and F-score are ill-defined and being set to 0.0 in labels with no predicted samples. Use `zero_division` parameter to control this behavior.\n",
      "  _warn_prf(average, modifier, msg_start, len(result))\n"
     ]
    }
   ],
   "source": [
    "model_dummy = DummyClassifier(random_state=10)\n",
    "model_dummy.fit(X_train_scaled, y_train)\n",
    "print('Confusion Matrix: \\n', confusion_matrix(y_test, model_dummy.predict(X_test_scaled)))\n",
    "print('Classification Report: ', classification_report(y_test, model_dummy.predict(X_test_scaled)))\n",
    "#print('MCC: ', matthews_corrcoef(y_test, model_dummy.predict(X_test)));"
   ]
  },
  {
   "cell_type": "markdown",
   "id": "7fa6dd28",
   "metadata": {},
   "source": [
    "### 4.1.2 Comments\n",
    "The dummy classifier gives an accuracy score of 63%. This is a baseline score to compare suitable models to. "
   ]
  },
  {
   "cell_type": "markdown",
   "id": "cbe73a96",
   "metadata": {},
   "source": [
    "## 4.2 Logistic Regression"
   ]
  },
  {
   "cell_type": "markdown",
   "id": "8540f49c",
   "metadata": {},
   "source": [
    "### 4.2.1 Logistic Regression\n",
    "During EDA the different features were identified to vary significantly in scale. As a consequence the training and the testing set for this model will be scaled prior to fitting and prediticting. "
   ]
  },
  {
   "cell_type": "code",
   "execution_count": 20,
   "id": "f44faf9f",
   "metadata": {},
   "outputs": [],
   "source": [
    "from sklearn.linear_model import LogisticRegression"
   ]
  },
  {
   "cell_type": "code",
   "execution_count": 21,
   "id": "0547a528",
   "metadata": {},
   "outputs": [],
   "source": [
    "model_log = LogisticRegression(random_state = 10)\n",
    "model_log.fit(X_train_scaled, y_train)\n",
    "predictions_log = model_log.predict(X_test_scaled)"
   ]
  },
  {
   "cell_type": "code",
   "execution_count": 22,
   "id": "607d5f20",
   "metadata": {},
   "outputs": [
    {
     "name": "stdout",
     "output_type": "stream",
     "text": [
      "[[50  2]\n",
      " [ 4 87]]\n",
      "              precision    recall  f1-score   support\n",
      "\n",
      "           0       0.93      0.96      0.94        52\n",
      "           1       0.98      0.96      0.97        91\n",
      "\n",
      "    accuracy                           0.96       143\n",
      "   macro avg       0.95      0.96      0.96       143\n",
      "weighted avg       0.96      0.96      0.96       143\n",
      "\n",
      "0.9104908126965126\n"
     ]
    }
   ],
   "source": [
    "print(confusion_matrix(y_test, predictions_log))\n",
    "print(classification_report(y_test, predictions_log))\n",
    "print(matthews_corrcoef(y_test, predictions_log))"
   ]
  },
  {
   "cell_type": "markdown",
   "id": "dc1a0c67",
   "metadata": {},
   "source": [
    "### 4.2.2 Hyperparameter Tuning"
   ]
  },
  {
   "cell_type": "code",
   "execution_count": 23,
   "id": "81b2abdb",
   "metadata": {},
   "outputs": [
    {
     "name": "stdout",
     "output_type": "stream",
     "text": [
      "Best parameters  {'C': 0.1, 'penalty': 'l2', 'solver': 'liblinear'}\n"
     ]
    }
   ],
   "source": [
    "# Grid search cross validation\n",
    "from sklearn.model_selection import GridSearchCV\n",
    "from sklearn.linear_model import LogisticRegression\n",
    "#GridSearch can set off a lot of warnings that are not necessarily important \n",
    "import warnings\n",
    "warnings.filterwarnings('ignore') \n",
    "\n",
    "parameters ={\"C\":np.logspace(-3,3,7), \"penalty\":[\"l1\",\"l2\"], 'solver'  : ['newton-cg', 'lbfgs', 'liblinear']}# l1 lasso l2 ridge\n",
    "model_log=LogisticRegression(random_state = 10)\n",
    "model_log_grid=GridSearchCV(model_log,parameters,cv=10)\n",
    "model_log_grid.fit(X_train_scaled,y_train)\n",
    "predictions_logreg_grid = model_log_grid.predict(X_test_scaled)\n",
    "\n",
    "print(\"Best parameters \",model_log_grid.best_params_)"
   ]
  },
  {
   "cell_type": "markdown",
   "id": "9eed6916",
   "metadata": {},
   "source": [
    "### 4.2.3 Logistic Regression with best parameters"
   ]
  },
  {
   "cell_type": "code",
   "execution_count": 24,
   "id": "e961b012",
   "metadata": {
    "scrolled": true
   },
   "outputs": [
    {
     "name": "stdout",
     "output_type": "stream",
     "text": [
      "Confusion Matrix: \n",
      " [[51  1]\n",
      " [ 2 89]]\n",
      "Classification Report: \n",
      "               precision    recall  f1-score   support\n",
      "\n",
      "           0       0.96      0.98      0.97        52\n",
      "           1       0.99      0.98      0.98        91\n",
      "\n",
      "    accuracy                           0.98       143\n",
      "   macro avg       0.98      0.98      0.98       143\n",
      "weighted avg       0.98      0.98      0.98       143\n",
      "\n",
      "MCC:  0.9549644877199515\n"
     ]
    }
   ],
   "source": [
    "model_log_best_params = LogisticRegression(random_state = 10, solver='liblinear', penalty='l2', C=0.1)\n",
    "model_log_best_params.fit(X_train_scaled, y_train)\n",
    "predictions_logBest = model_log_best_params.predict(X_test_scaled)\n",
    "print('Confusion Matrix: \\n',confusion_matrix(y_test,predictions_logBest))\n",
    "print('Classification Report: \\n', classification_report(y_test, predictions_logBest))\n",
    "print('MCC: ', matthews_corrcoef(y_test, predictions_logBest))"
   ]
  },
  {
   "cell_type": "code",
   "execution_count": 25,
   "id": "c61eba70",
   "metadata": {},
   "outputs": [
    {
     "data": {
      "image/png": "[encoded data removed]",
      "text/plain": [
       "<Figure size 432x288 with 1 Axes>"
      ]
     },
     "metadata": {},
     "output_type": "display_data"
    },
    {
     "name": "stdout",
     "output_type": "stream",
     "text": [
      "Area Under Curve:  0.9989433643279797\n"
     ]
    }
   ],
   "source": [
    "# fpr, tpr, thresholds = roc_curve(y_test, y_pred_prob)\n",
    "y_pred_prob = model_log_best_params.predict_proba(X_test_scaled)[:,1]\n",
    "fpr, tpr, thresholds = roc_curve(y_test, y_pred_prob)\n",
    "auc = roc_auc_score(y_test, y_pred_prob)\n",
    "plt.plot(fpr, tpr)\n",
    "plt.xlabel('False Positive Rate')\n",
    "plt.ylabel('True Positive Rate')\n",
    "plt.title('ROC')\n",
    "plt.show()\n",
    "print('Area Under Curve: ',auc)"
   ]
  },
  {
   "cell_type": "markdown",
   "id": "b275738c",
   "metadata": {},
   "source": [
    "### 4.2.4 Conclusion\n",
    "The logistic model, prior to tuning hyperparameters, proved to be a good model as it has a f1-score of 94% and 96% percent for benign and malignant tumours respectively. After hyperparametet tuning, this score was imporved to 97% and 98% respectively.\n",
    "\n",
    "Problem: We do want our model to have a higher number of false positives compared to false negatives. Whilst the false negatives are only 1 higher than the false positives, it'll be interesting to see if we can futher improve upon this. "
   ]
  },
  {
   "cell_type": "markdown",
   "id": "b4cb521c",
   "metadata": {},
   "source": [
    "## 4.3 KNN"
   ]
  },
  {
   "cell_type": "markdown",
   "id": "dcda22c3",
   "metadata": {},
   "source": [
    "### 4.3.1 KNN with n_neighbors = 1"
   ]
  },
  {
   "cell_type": "code",
   "execution_count": 26,
   "id": "20019ea0",
   "metadata": {},
   "outputs": [],
   "source": [
    "from sklearn.neighbors import KNeighborsClassifier"
   ]
  },
  {
   "cell_type": "code",
   "execution_count": 27,
   "id": "075a39c7",
   "metadata": {},
   "outputs": [],
   "source": [
    "model_knn = KNeighborsClassifier(n_neighbors=1)"
   ]
  },
  {
   "cell_type": "code",
   "execution_count": 28,
   "id": "c13ebc74",
   "metadata": {},
   "outputs": [],
   "source": [
    "model_knn.fit(X_train, y_train)\n",
    "predictions_knn = model_knn.predict(X_test)"
   ]
  },
  {
   "cell_type": "code",
   "execution_count": 29,
   "id": "50d0a5ab",
   "metadata": {},
   "outputs": [
    {
     "name": "stdout",
     "output_type": "stream",
     "text": [
      "[[47  5]\n",
      " [ 6 85]]\n",
      "              precision    recall  f1-score   support\n",
      "\n",
      "           0       0.89      0.90      0.90        52\n",
      "           1       0.94      0.93      0.94        91\n",
      "\n",
      "    accuracy                           0.92       143\n",
      "   macro avg       0.92      0.92      0.92       143\n",
      "weighted avg       0.92      0.92      0.92       143\n",
      "\n"
     ]
    }
   ],
   "source": [
    "print(confusion_matrix(y_test, predictions_knn))\n",
    "print(classification_report(y_test, predictions_knn))"
   ]
  },
  {
   "cell_type": "markdown",
   "id": "38c32e1e",
   "metadata": {},
   "source": [
    "### 4.3.2 KNN with scaled data"
   ]
  },
  {
   "cell_type": "code",
   "execution_count": 30,
   "id": "8c85a280",
   "metadata": {},
   "outputs": [],
   "source": [
    "model_knn_scaled = KNeighborsClassifier(n_neighbors=1)\n",
    "model_knn_scaled.fit(X_train_scaled, y_train)\n",
    "predictions_knn_scaled = model_knn_scaled.predict(X_test_scaled)"
   ]
  },
  {
   "cell_type": "code",
   "execution_count": 31,
   "id": "2c4e18bd",
   "metadata": {},
   "outputs": [
    {
     "name": "stdout",
     "output_type": "stream",
     "text": [
      "[[51  1]\n",
      " [ 1 90]]\n",
      "              precision    recall  f1-score   support\n",
      "\n",
      "           0       0.98      0.98      0.98        52\n",
      "           1       0.99      0.99      0.99        91\n",
      "\n",
      "    accuracy                           0.99       143\n",
      "   macro avg       0.98      0.98      0.98       143\n",
      "weighted avg       0.99      0.99      0.99       143\n",
      "\n"
     ]
    }
   ],
   "source": [
    "print(confusion_matrix(y_test, predictions_knn_scaled))\n",
    "print(classification_report(y_test, predictions_knn_scaled))"
   ]
  },
  {
   "cell_type": "markdown",
   "id": "e4b38163",
   "metadata": {},
   "source": [
    "### 4.3.3 KNN - Determining best K"
   ]
  },
  {
   "cell_type": "code",
   "execution_count": 32,
   "id": "26f37f0a",
   "metadata": {},
   "outputs": [],
   "source": [
    "error_rate = []\n",
    "\n",
    "for k in range(1,10):\n",
    "    \n",
    "    knn = KNeighborsClassifier(n_neighbors=k)\n",
    "    knn.fit(X_train, y_train)\n",
    "    k_prediction = knn.predict(X_test)\n",
    "    error_rate.append(np.mean(k_prediction != y_test))"
   ]
  },
  {
   "cell_type": "code",
   "execution_count": 33,
   "id": "1dabcc33",
   "metadata": {},
   "outputs": [
    {
     "data": {
      "image/png": "[encoded data removed]",
      "text/plain": [
       "<Figure size 720x432 with 1 Axes>"
      ]
     },
     "metadata": {},
     "output_type": "display_data"
    }
   ],
   "source": [
    "_ = plt.figure(figsize=(10,6))\n",
    "_ = plt.plot(range(1,10),error_rate)\n",
    "_ = plt.title('Error Rate vs. K Values')\n",
    "_ = plt.xlabel('K')\n",
    "_ = plt.ylabel('Error Rate')"
   ]
  },
  {
   "cell_type": "markdown",
   "id": "160260ca",
   "metadata": {},
   "source": [
    "### 4.3.4 KNN with n=2"
   ]
  },
  {
   "cell_type": "code",
   "execution_count": 34,
   "id": "3b013e1f",
   "metadata": {},
   "outputs": [
    {
     "name": "stdout",
     "output_type": "stream",
     "text": [
      "[[48  4]\n",
      " [ 9 82]]\n",
      "              precision    recall  f1-score   support\n",
      "\n",
      "           0       0.84      0.92      0.88        52\n",
      "           1       0.95      0.90      0.93        91\n",
      "\n",
      "    accuracy                           0.91       143\n",
      "   macro avg       0.90      0.91      0.90       143\n",
      "weighted avg       0.91      0.91      0.91       143\n",
      "\n"
     ]
    }
   ],
   "source": [
    "knn_best_k = KNeighborsClassifier(n_neighbors=2)\n",
    "knn_best_k.fit(X_train, y_train)\n",
    "knn_best_k_predictions = knn_best_k.predict(X_test)\n",
    "print(confusion_matrix(y_test, knn_best_k_predictions))\n",
    "print(classification_report(y_test, knn_best_k_predictions))"
   ]
  },
  {
   "cell_type": "markdown",
   "id": "19c3393d",
   "metadata": {},
   "source": [
    "### 4.3.5 KNN with n=6"
   ]
  },
  {
   "cell_type": "code",
   "execution_count": 35,
   "id": "4adbdcb9",
   "metadata": {},
   "outputs": [
    {
     "name": "stdout",
     "output_type": "stream",
     "text": [
      "[[48  4]\n",
      " [ 5 86]]\n",
      "              precision    recall  f1-score   support\n",
      "\n",
      "           0       0.91      0.92      0.91        52\n",
      "           1       0.96      0.95      0.95        91\n",
      "\n",
      "    accuracy                           0.94       143\n",
      "   macro avg       0.93      0.93      0.93       143\n",
      "weighted avg       0.94      0.94      0.94       143\n",
      "\n"
     ]
    }
   ],
   "source": [
    "knn_best_k = KNeighborsClassifier(n_neighbors=6)\n",
    "knn_best_k.fit(X_train, y_train)\n",
    "knn_best_k_predictions = knn_best_k.predict(X_test)\n",
    "print(confusion_matrix(y_test, knn_best_k_predictions))\n",
    "print(classification_report(y_test, knn_best_k_predictions))"
   ]
  },
  {
   "cell_type": "markdown",
   "id": "4c2ba4b6",
   "metadata": {},
   "source": [
    "### 4.3.6 KNN - Hyperparameters Tuning"
   ]
  },
  {
   "cell_type": "code",
   "execution_count": 36,
   "id": "cf9286a3",
   "metadata": {},
   "outputs": [
    {
     "data": {
      "text/plain": [
       "GridSearchCV(cv=10, estimator=KNeighborsClassifier(),\n",
       "             param_grid={'leaf_size': [1, 2, 3, 4, 5, 6, 7, 8, 9, 10, 11, 12,\n",
       "                                       13, 14],\n",
       "                         'n_neighbors': [1, 2, 3, 4, 5, 6, 7, 8, 9, 10, 11, 12,\n",
       "                                         13, 14],\n",
       "                         'p': [1, 2]})"
      ]
     },
     "execution_count": 36,
     "metadata": {},
     "output_type": "execute_result"
    }
   ],
   "source": [
    "#parameters for KNN\n",
    "parameters = {'leaf_size':list(range(1,15)), 'n_neighbors':list(range(1,15)), 'p':[1,2]}\n",
    "knn_best_param = KNeighborsClassifier()\n",
    "knn_best_param_grid = GridSearchCV(knn_best_param, parameters, cv=10)\n",
    "knn_best_param_grid.fit(X_train_scaled, y_train)"
   ]
  },
  {
   "cell_type": "code",
   "execution_count": 37,
   "id": "97c03402",
   "metadata": {},
   "outputs": [
    {
     "name": "stdout",
     "output_type": "stream",
     "text": [
      "Best parameters:  {'leaf_size': 1, 'n_neighbors': 3, 'p': 2}\n"
     ]
    }
   ],
   "source": [
    "print(\"Best parameters: \",knn_best_param_grid.best_params_)"
   ]
  },
  {
   "cell_type": "markdown",
   "id": "b2bc2f77",
   "metadata": {},
   "source": [
    "### 4.3.7 KNearest Neighbor model with hypertuned parameters"
   ]
  },
  {
   "cell_type": "code",
   "execution_count": 38,
   "id": "7038afd3",
   "metadata": {},
   "outputs": [
    {
     "name": "stdout",
     "output_type": "stream",
     "text": [
      "Confusion Matrix: \n",
      " [[50  2]\n",
      " [ 0 91]]\n",
      "Calssification Report: \n",
      "               precision    recall  f1-score   support\n",
      "\n",
      "           0       1.00      0.96      0.98        52\n",
      "           1       0.98      1.00      0.99        91\n",
      "\n",
      "    accuracy                           0.99       143\n",
      "   macro avg       0.99      0.98      0.98       143\n",
      "weighted avg       0.99      0.99      0.99       143\n",
      "\n",
      "MCC:  0.9699794920789632\n"
     ]
    }
   ],
   "source": [
    "knn_hypertuned = KNeighborsClassifier(n_neighbors=3, leaf_size = 1, p=2)\n",
    "knn_hypertuned.fit(X_train_scaled, y_train)\n",
    "predictions_knn_hypertuned = knn_hypertuned.predict(X_test_scaled)\n",
    "print('Confusion Matrix: \\n', confusion_matrix(y_test, predictions_knn_hypertuned))\n",
    "print('Calssification Report: \\n', classification_report(y_test, predictions_knn_hypertuned))\n",
    "print('MCC: ', matthews_corrcoef(y_test, predictions_knn_hypertuned))"
   ]
  },
  {
   "cell_type": "code",
   "execution_count": 39,
   "id": "fd82227f",
   "metadata": {},
   "outputs": [
    {
     "name": "stdout",
     "output_type": "stream",
     "text": [
      "Confusion Matrix: \n",
      " [[51  1]\n",
      " [ 2 89]]\n",
      "Calssification Report: \n",
      "               precision    recall  f1-score   support\n",
      "\n",
      "           0       0.96      0.98      0.97        52\n",
      "           1       0.99      0.98      0.98        91\n",
      "\n",
      "    accuracy                           0.98       143\n",
      "   macro avg       0.98      0.98      0.98       143\n",
      "weighted avg       0.98      0.98      0.98       143\n",
      "\n",
      "MCC:  0.9549644877199515\n"
     ]
    }
   ],
   "source": [
    "knn_hypertuned = KNeighborsClassifier(n_neighbors=2, leaf_size = 1, p=2)\n",
    "knn_hypertuned.fit(X_train_scaled, y_train)\n",
    "predictions_knn_hypertuned = knn_hypertuned.predict(X_test_scaled)\n",
    "print('Confusion Matrix: \\n', confusion_matrix(y_test, predictions_knn_hypertuned))\n",
    "print('Calssification Report: \\n', classification_report(y_test, predictions_knn_hypertuned))\n",
    "print('MCC: ', matthews_corrcoef(y_test, predictions_knn_hypertuned))"
   ]
  },
  {
   "cell_type": "code",
   "execution_count": 40,
   "id": "c61977b4",
   "metadata": {},
   "outputs": [
    {
     "name": "stdout",
     "output_type": "stream",
     "text": [
      "Confusion Matrix: \n",
      " [[51  1]\n",
      " [ 0 91]]\n",
      "Calssification Report: \n",
      "               precision    recall  f1-score   support\n",
      "\n",
      "           0       1.00      0.98      0.99        52\n",
      "           1       0.99      1.00      0.99        91\n",
      "\n",
      "    accuracy                           0.99       143\n",
      "   macro avg       0.99      0.99      0.99       143\n",
      "weighted avg       0.99      0.99      0.99       143\n",
      "\n",
      "MCC:  0.9849409604906144\n"
     ]
    }
   ],
   "source": [
    "knn_hypertuned = KNeighborsClassifier(n_neighbors=6, leaf_size = 1, p=2)\n",
    "knn_hypertuned.fit(X_train_scaled, y_train)\n",
    "predictions_knn_hypertuned = knn_hypertuned.predict(X_test_scaled)\n",
    "print('Confusion Matrix: \\n', confusion_matrix(y_test, predictions_knn_hypertuned))\n",
    "print('Calssification Report: \\n', classification_report(y_test, predictions_knn_hypertuned))\n",
    "print('MCC: ', matthews_corrcoef(y_test, predictions_knn_hypertuned))"
   ]
  },
  {
   "cell_type": "code",
   "execution_count": 41,
   "id": "dc342525",
   "metadata": {},
   "outputs": [
    {
     "data": {
      "image/png": "[encoded data removed]",
      "text/plain": [
       "<Figure size 432x288 with 1 Axes>"
      ]
     },
     "metadata": {},
     "output_type": "display_data"
    },
    {
     "name": "stdout",
     "output_type": "stream",
     "text": [
      "Area Under Curve:  0.9998943364327979\n"
     ]
    }
   ],
   "source": [
    "# fpr, tpr, thresholds = roc_curve(y_test, y_pred_prob)\n",
    "y_pred_prob = knn_hypertuned.predict_proba(X_test_scaled)[:,1]\n",
    "fpr, tpr, thresholds = roc_curve(y_test, y_pred_prob)\n",
    "auc = roc_auc_score(y_test, y_pred_prob)\n",
    "plt.plot(fpr, tpr)\n",
    "plt.xlabel('False Positive Rate')\n",
    "plt.ylabel('True Positive Rate')\n",
    "plt.title('ROC')\n",
    "plt.show()\n",
    "print('Area Under Curve: ',auc)"
   ]
  },
  {
   "cell_type": "markdown",
   "id": "88509edf",
   "metadata": {},
   "source": [
    "### 4.3 Conclusion\n",
    "The gridsearch proved that k=3 is the optimal value for k, however this contradicts the error-rate plot. When we use the hypertuned parameters for k=2, 3, and 6 we notice that k=3 and 6 gives us the higher accuracy score (99% compared to 98% for n=2), and both of them have a lower number of false nagatives than false positives. When comparing the MCC scores, the model with k=6 has the highest score which is why it can be concluded that KNN with k=6 is the best model so far. \n",
    "\n"
   ]
  },
  {
   "cell_type": "markdown",
   "id": "191418c2",
   "metadata": {},
   "source": [
    "## 4.4 Support Vector Classifier"
   ]
  },
  {
   "cell_type": "code",
   "execution_count": 42,
   "id": "2c64afb1",
   "metadata": {},
   "outputs": [],
   "source": [
    "from sklearn.svm import SVC\n",
    "X = attributes\n",
    "y = target\n",
    "#training set = 75% testing set = 25%\n",
    "X_train, X_test, y_train, y_test = train_test_split(X, np.ravel(y), test_size = 0.25, random_state = 10)"
   ]
  },
  {
   "cell_type": "markdown",
   "id": "f0a2f377",
   "metadata": {},
   "source": [
    "### 4.4.1 Support Vector Classifier without scaling"
   ]
  },
  {
   "cell_type": "code",
   "execution_count": 43,
   "id": "de47d5b4",
   "metadata": {},
   "outputs": [],
   "source": [
    "model_svc = SVC(random_state = 10, probability = True)\n",
    "model_svc.fit(X_train, y_train)\n",
    "predictions = model_svc.predict(X_test)"
   ]
  },
  {
   "cell_type": "code",
   "execution_count": 44,
   "id": "ad01c16d",
   "metadata": {},
   "outputs": [
    {
     "name": "stdout",
     "output_type": "stream",
     "text": [
      "[[44  8]\n",
      " [ 3 88]]\n",
      "              precision    recall  f1-score   support\n",
      "\n",
      "           0       0.94      0.85      0.89        52\n",
      "           1       0.92      0.97      0.94        91\n",
      "\n",
      "    accuracy                           0.92       143\n",
      "   macro avg       0.93      0.91      0.92       143\n",
      "weighted avg       0.92      0.92      0.92       143\n",
      "\n",
      "0.8327759027217357\n"
     ]
    }
   ],
   "source": [
    "print(confusion_matrix(y_test, predictions))\n",
    "print(classification_report(y_test, predictions))\n",
    "print(matthews_corrcoef(y_test, predictions))"
   ]
  },
  {
   "cell_type": "code",
   "execution_count": 45,
   "id": "efde59da",
   "metadata": {},
   "outputs": [
    {
     "data": {
      "image/png": "[encoded data removed]",
      "text/plain": [
       "<Figure size 432x288 with 1 Axes>"
      ]
     },
     "metadata": {},
     "output_type": "display_data"
    },
    {
     "name": "stdout",
     "output_type": "stream",
     "text": [
      "Area Under Curve:  0.9689349112426036\n"
     ]
    }
   ],
   "source": [
    "# fpr, tpr, thresholds = roc_curve(y_test, y_pred_prob)\n",
    "y_pred_prob = model_svc.predict_proba(X_test)[:,1]\n",
    "fpr, tpr, thresholds = roc_curve(y_test, y_pred_prob)\n",
    "auc = roc_auc_score(y_test, y_pred_prob)\n",
    "plt.plot(fpr, tpr)\n",
    "plt.xlabel('False Positive Rate')\n",
    "plt.ylabel('True Positive Rate')\n",
    "plt.title('ROC')\n",
    "plt.show()\n",
    "print('Area Under Curve: ',auc)"
   ]
  },
  {
   "cell_type": "markdown",
   "id": "e9567842",
   "metadata": {},
   "source": [
    "### 4.4.2 SVC with scaling of data"
   ]
  },
  {
   "cell_type": "code",
   "execution_count": 46,
   "id": "f8d6722d",
   "metadata": {},
   "outputs": [],
   "source": [
    "model_svc_scaled = SVC(random_state = 10)\n",
    "model_svc_scaled.fit(X_train_scaled, y_train)\n",
    "predictions_scaled = model_svc.predict(X_test_scaled)"
   ]
  },
  {
   "cell_type": "code",
   "execution_count": 47,
   "id": "7bd97043",
   "metadata": {},
   "outputs": [
    {
     "name": "stdout",
     "output_type": "stream",
     "text": [
      "[[ 0 52]\n",
      " [ 0 91]]\n",
      "              precision    recall  f1-score   support\n",
      "\n",
      "           0       0.00      0.00      0.00        52\n",
      "           1       0.64      1.00      0.78        91\n",
      "\n",
      "    accuracy                           0.64       143\n",
      "   macro avg       0.32      0.50      0.39       143\n",
      "weighted avg       0.40      0.64      0.49       143\n",
      "\n",
      "0.0\n"
     ]
    }
   ],
   "source": [
    "print(confusion_matrix(y_test, predictions_scaled))\n",
    "print(classification_report(y_test, predictions_scaled))\n",
    "print(matthews_corrcoef(y_test, predictions_scaled))"
   ]
  },
  {
   "cell_type": "code",
   "execution_count": 48,
   "id": "7817b96f",
   "metadata": {},
   "outputs": [],
   "source": [
    "X = attributes\n",
    "y = target\n",
    "X_train, X_test, y_train, y_test = train_test_split(X, np.ravel(y), test_size = 0.25, random_state = 10)"
   ]
  },
  {
   "cell_type": "code",
   "execution_count": 49,
   "id": "99017b28",
   "metadata": {},
   "outputs": [],
   "source": [
    "from sklearn.preprocessing import PowerTransformer"
   ]
  },
  {
   "cell_type": "code",
   "execution_count": 50,
   "id": "3dc2dc2a",
   "metadata": {},
   "outputs": [],
   "source": [
    "scaler = PowerTransformer()\n",
    "scaler.fit(X_train)\n",
    "X_scaled_test = scaler.transform(X_test)\n",
    "X_scaled_train = scaler.transform(X_train)"
   ]
  },
  {
   "cell_type": "code",
   "execution_count": 51,
   "id": "25f5c5d6",
   "metadata": {},
   "outputs": [
    {
     "name": "stdout",
     "output_type": "stream",
     "text": [
      "[[ 0 52]\n",
      " [ 0 91]]\n",
      "              precision    recall  f1-score   support\n",
      "\n",
      "           0       0.00      0.00      0.00        52\n",
      "           1       0.64      1.00      0.78        91\n",
      "\n",
      "    accuracy                           0.64       143\n",
      "   macro avg       0.32      0.50      0.39       143\n",
      "weighted avg       0.40      0.64      0.49       143\n",
      "\n",
      "0.0\n"
     ]
    }
   ],
   "source": [
    "model_svc_scaled = SVC(random_state = 10)\n",
    "model_svc_scaled.fit(X_train_scaled, y_train)\n",
    "predictions_scaled = model_svc.predict(X_test_scaled)\n",
    "print(confusion_matrix(y_test, predictions_scaled))\n",
    "print(classification_report(y_test, predictions_scaled))\n",
    "print(matthews_corrcoef(y_test, predictions_scaled))"
   ]
  },
  {
   "cell_type": "markdown",
   "id": "8c4ed314",
   "metadata": {},
   "source": [
    "### 4.4.3 Hyperparameters Tuning"
   ]
  },
  {
   "cell_type": "code",
   "execution_count": 52,
   "id": "fdc9a028",
   "metadata": {},
   "outputs": [
    {
     "name": "stdout",
     "output_type": "stream",
     "text": [
      "Fitting 5 folds for each of 25 candidates, totalling 125 fits\n",
      "[CV 1/5] END .....................C=0.1, gamma=1, kernel=rbf; total time=   0.0s\n",
      "[CV 2/5] END .....................C=0.1, gamma=1, kernel=rbf; total time=   0.0s\n",
      "[CV 3/5] END .....................C=0.1, gamma=1, kernel=rbf; total time=   0.0s\n",
      "[CV 4/5] END .....................C=0.1, gamma=1, kernel=rbf; total time=   0.0s\n",
      "[CV 5/5] END .....................C=0.1, gamma=1, kernel=rbf; total time=   0.0s\n",
      "[CV 1/5] END ...................C=0.1, gamma=0.1, kernel=rbf; total time=   0.0s\n",
      "[CV 2/5] END ...................C=0.1, gamma=0.1, kernel=rbf; total time=   0.0s\n",
      "[CV 3/5] END ...................C=0.1, gamma=0.1, kernel=rbf; total time=   0.0s\n",
      "[CV 4/5] END ...................C=0.1, gamma=0.1, kernel=rbf; total time=   0.0s\n",
      "[CV 5/5] END ...................C=0.1, gamma=0.1, kernel=rbf; total time=   0.0s\n",
      "[CV 1/5] END ..................C=0.1, gamma=0.01, kernel=rbf; total time=   0.0s\n",
      "[CV 2/5] END ..................C=0.1, gamma=0.01, kernel=rbf; total time=   0.0s\n",
      "[CV 3/5] END ..................C=0.1, gamma=0.01, kernel=rbf; total time=   0.0s\n",
      "[CV 4/5] END ..................C=0.1, gamma=0.01, kernel=rbf; total time=   0.0s\n",
      "[CV 5/5] END ..................C=0.1, gamma=0.01, kernel=rbf; total time=   0.0s\n",
      "[CV 1/5] END .................C=0.1, gamma=0.001, kernel=rbf; total time=   0.0s\n",
      "[CV 2/5] END .................C=0.1, gamma=0.001, kernel=rbf; total time=   0.0s\n",
      "[CV 3/5] END .................C=0.1, gamma=0.001, kernel=rbf; total time=   0.0s\n",
      "[CV 4/5] END .................C=0.1, gamma=0.001, kernel=rbf; total time=   0.0s\n",
      "[CV 5/5] END .................C=0.1, gamma=0.001, kernel=rbf; total time=   0.0s\n",
      "[CV 1/5] END ................C=0.1, gamma=0.0001, kernel=rbf; total time=   0.0s\n",
      "[CV 2/5] END ................C=0.1, gamma=0.0001, kernel=rbf; total time=   0.0s\n",
      "[CV 3/5] END ................C=0.1, gamma=0.0001, kernel=rbf; total time=   0.0s\n",
      "[CV 4/5] END ................C=0.1, gamma=0.0001, kernel=rbf; total time=   0.0s\n",
      "[CV 5/5] END ................C=0.1, gamma=0.0001, kernel=rbf; total time=   0.0s\n",
      "[CV 1/5] END .......................C=1, gamma=1, kernel=rbf; total time=   0.0s\n",
      "[CV 2/5] END .......................C=1, gamma=1, kernel=rbf; total time=   0.0s\n",
      "[CV 3/5] END .......................C=1, gamma=1, kernel=rbf; total time=   0.0s\n",
      "[CV 4/5] END .......................C=1, gamma=1, kernel=rbf; total time=   0.0s\n",
      "[CV 5/5] END .......................C=1, gamma=1, kernel=rbf; total time=   0.0s\n",
      "[CV 1/5] END .....................C=1, gamma=0.1, kernel=rbf; total time=   0.0s\n",
      "[CV 2/5] END .....................C=1, gamma=0.1, kernel=rbf; total time=   0.0s\n",
      "[CV 3/5] END .....................C=1, gamma=0.1, kernel=rbf; total time=   0.0s\n",
      "[CV 4/5] END .....................C=1, gamma=0.1, kernel=rbf; total time=   0.0s\n",
      "[CV 5/5] END .....................C=1, gamma=0.1, kernel=rbf; total time=   0.0s\n",
      "[CV 1/5] END ....................C=1, gamma=0.01, kernel=rbf; total time=   0.0s\n",
      "[CV 2/5] END ....................C=1, gamma=0.01, kernel=rbf; total time=   0.0s\n",
      "[CV 3/5] END ....................C=1, gamma=0.01, kernel=rbf; total time=   0.0s\n",
      "[CV 4/5] END ....................C=1, gamma=0.01, kernel=rbf; total time=   0.0s\n",
      "[CV 5/5] END ....................C=1, gamma=0.01, kernel=rbf; total time=   0.0s\n",
      "[CV 1/5] END ...................C=1, gamma=0.001, kernel=rbf; total time=   0.0s\n",
      "[CV 2/5] END ...................C=1, gamma=0.001, kernel=rbf; total time=   0.0s\n",
      "[CV 3/5] END ...................C=1, gamma=0.001, kernel=rbf; total time=   0.0s\n",
      "[CV 4/5] END ...................C=1, gamma=0.001, kernel=rbf; total time=   0.0s\n",
      "[CV 5/5] END ...................C=1, gamma=0.001, kernel=rbf; total time=   0.0s\n",
      "[CV 1/5] END ..................C=1, gamma=0.0001, kernel=rbf; total time=   0.0s\n",
      "[CV 2/5] END ..................C=1, gamma=0.0001, kernel=rbf; total time=   0.0s\n",
      "[CV 3/5] END ..................C=1, gamma=0.0001, kernel=rbf; total time=   0.0s\n",
      "[CV 4/5] END ..................C=1, gamma=0.0001, kernel=rbf; total time=   0.0s\n",
      "[CV 5/5] END ..................C=1, gamma=0.0001, kernel=rbf; total time=   0.0s\n",
      "[CV 1/5] END ......................C=10, gamma=1, kernel=rbf; total time=   0.0s\n",
      "[CV 2/5] END ......................C=10, gamma=1, kernel=rbf; total time=   0.0s\n",
      "[CV 3/5] END ......................C=10, gamma=1, kernel=rbf; total time=   0.0s\n",
      "[CV 4/5] END ......................C=10, gamma=1, kernel=rbf; total time=   0.0s\n",
      "[CV 5/5] END ......................C=10, gamma=1, kernel=rbf; total time=   0.0s\n",
      "[CV 1/5] END ....................C=10, gamma=0.1, kernel=rbf; total time=   0.0s\n",
      "[CV 2/5] END ....................C=10, gamma=0.1, kernel=rbf; total time=   0.0s\n",
      "[CV 3/5] END ....................C=10, gamma=0.1, kernel=rbf; total time=   0.0s\n",
      "[CV 4/5] END ....................C=10, gamma=0.1, kernel=rbf; total time=   0.0s\n",
      "[CV 5/5] END ....................C=10, gamma=0.1, kernel=rbf; total time=   0.0s\n",
      "[CV 1/5] END ...................C=10, gamma=0.01, kernel=rbf; total time=   0.0s\n",
      "[CV 2/5] END ...................C=10, gamma=0.01, kernel=rbf; total time=   0.0s\n",
      "[CV 3/5] END ...................C=10, gamma=0.01, kernel=rbf; total time=   0.0s\n",
      "[CV 4/5] END ...................C=10, gamma=0.01, kernel=rbf; total time=   0.0s\n",
      "[CV 5/5] END ...................C=10, gamma=0.01, kernel=rbf; total time=   0.0s\n",
      "[CV 1/5] END ..................C=10, gamma=0.001, kernel=rbf; total time=   0.0s\n",
      "[CV 2/5] END ..................C=10, gamma=0.001, kernel=rbf; total time=   0.0s\n",
      "[CV 3/5] END ..................C=10, gamma=0.001, kernel=rbf; total time=   0.0s\n",
      "[CV 4/5] END ..................C=10, gamma=0.001, kernel=rbf; total time=   0.0s\n",
      "[CV 5/5] END ..................C=10, gamma=0.001, kernel=rbf; total time=   0.0s\n",
      "[CV 1/5] END .................C=10, gamma=0.0001, kernel=rbf; total time=   0.0s\n",
      "[CV 2/5] END .................C=10, gamma=0.0001, kernel=rbf; total time=   0.0s\n",
      "[CV 3/5] END .................C=10, gamma=0.0001, kernel=rbf; total time=   0.0s\n",
      "[CV 4/5] END .................C=10, gamma=0.0001, kernel=rbf; total time=   0.0s\n",
      "[CV 5/5] END .................C=10, gamma=0.0001, kernel=rbf; total time=   0.0s\n",
      "[CV 1/5] END .....................C=100, gamma=1, kernel=rbf; total time=   0.0s\n",
      "[CV 2/5] END .....................C=100, gamma=1, kernel=rbf; total time=   0.0s\n",
      "[CV 3/5] END .....................C=100, gamma=1, kernel=rbf; total time=   0.0s\n",
      "[CV 4/5] END .....................C=100, gamma=1, kernel=rbf; total time=   0.0s\n",
      "[CV 5/5] END .....................C=100, gamma=1, kernel=rbf; total time=   0.0s\n",
      "[CV 1/5] END ...................C=100, gamma=0.1, kernel=rbf; total time=   0.0s\n",
      "[CV 2/5] END ...................C=100, gamma=0.1, kernel=rbf; total time=   0.0s\n",
      "[CV 3/5] END ...................C=100, gamma=0.1, kernel=rbf; total time=   0.0s\n",
      "[CV 4/5] END ...................C=100, gamma=0.1, kernel=rbf; total time=   0.0s\n",
      "[CV 5/5] END ...................C=100, gamma=0.1, kernel=rbf; total time=   0.0s\n",
      "[CV 1/5] END ..................C=100, gamma=0.01, kernel=rbf; total time=   0.0s\n",
      "[CV 2/5] END ..................C=100, gamma=0.01, kernel=rbf; total time=   0.0s\n",
      "[CV 3/5] END ..................C=100, gamma=0.01, kernel=rbf; total time=   0.0s\n",
      "[CV 4/5] END ..................C=100, gamma=0.01, kernel=rbf; total time=   0.0s\n",
      "[CV 5/5] END ..................C=100, gamma=0.01, kernel=rbf; total time=   0.0s\n",
      "[CV 1/5] END .................C=100, gamma=0.001, kernel=rbf; total time=   0.0s\n",
      "[CV 2/5] END .................C=100, gamma=0.001, kernel=rbf; total time=   0.0s\n",
      "[CV 3/5] END .................C=100, gamma=0.001, kernel=rbf; total time=   0.0s\n",
      "[CV 4/5] END .................C=100, gamma=0.001, kernel=rbf; total time=   0.0s\n",
      "[CV 5/5] END .................C=100, gamma=0.001, kernel=rbf; total time=   0.0s\n",
      "[CV 1/5] END ................C=100, gamma=0.0001, kernel=rbf; total time=   0.0s\n",
      "[CV 2/5] END ................C=100, gamma=0.0001, kernel=rbf; total time=   0.0s\n",
      "[CV 3/5] END ................C=100, gamma=0.0001, kernel=rbf; total time=   0.0s\n",
      "[CV 4/5] END ................C=100, gamma=0.0001, kernel=rbf; total time=   0.0s\n",
      "[CV 5/5] END ................C=100, gamma=0.0001, kernel=rbf; total time=   0.0s\n",
      "[CV 1/5] END ....................C=1000, gamma=1, kernel=rbf; total time=   0.0s\n"
     ]
    },
    {
     "name": "stdout",
     "output_type": "stream",
     "text": [
      "[CV 2/5] END ....................C=1000, gamma=1, kernel=rbf; total time=   0.0s\n",
      "[CV 3/5] END ....................C=1000, gamma=1, kernel=rbf; total time=   0.0s\n",
      "[CV 4/5] END ....................C=1000, gamma=1, kernel=rbf; total time=   0.0s\n",
      "[CV 5/5] END ....................C=1000, gamma=1, kernel=rbf; total time=   0.0s\n",
      "[CV 1/5] END ..................C=1000, gamma=0.1, kernel=rbf; total time=   0.0s\n",
      "[CV 2/5] END ..................C=1000, gamma=0.1, kernel=rbf; total time=   0.0s\n",
      "[CV 3/5] END ..................C=1000, gamma=0.1, kernel=rbf; total time=   0.0s\n",
      "[CV 4/5] END ..................C=1000, gamma=0.1, kernel=rbf; total time=   0.0s\n",
      "[CV 5/5] END ..................C=1000, gamma=0.1, kernel=rbf; total time=   0.0s\n",
      "[CV 1/5] END .................C=1000, gamma=0.01, kernel=rbf; total time=   0.0s\n",
      "[CV 2/5] END .................C=1000, gamma=0.01, kernel=rbf; total time=   0.0s\n",
      "[CV 3/5] END .................C=1000, gamma=0.01, kernel=rbf; total time=   0.0s\n",
      "[CV 4/5] END .................C=1000, gamma=0.01, kernel=rbf; total time=   0.0s\n",
      "[CV 5/5] END .................C=1000, gamma=0.01, kernel=rbf; total time=   0.0s\n",
      "[CV 1/5] END ................C=1000, gamma=0.001, kernel=rbf; total time=   0.0s\n",
      "[CV 2/5] END ................C=1000, gamma=0.001, kernel=rbf; total time=   0.0s\n",
      "[CV 3/5] END ................C=1000, gamma=0.001, kernel=rbf; total time=   0.0s\n",
      "[CV 4/5] END ................C=1000, gamma=0.001, kernel=rbf; total time=   0.0s\n",
      "[CV 5/5] END ................C=1000, gamma=0.001, kernel=rbf; total time=   0.0s\n",
      "[CV 1/5] END ...............C=1000, gamma=0.0001, kernel=rbf; total time=   0.0s\n",
      "[CV 2/5] END ...............C=1000, gamma=0.0001, kernel=rbf; total time=   0.0s\n",
      "[CV 3/5] END ...............C=1000, gamma=0.0001, kernel=rbf; total time=   0.0s\n",
      "[CV 4/5] END ...............C=1000, gamma=0.0001, kernel=rbf; total time=   0.0s\n",
      "[CV 5/5] END ...............C=1000, gamma=0.0001, kernel=rbf; total time=   0.0s\n"
     ]
    },
    {
     "data": {
      "text/plain": [
       "GridSearchCV(estimator=SVC(),\n",
       "             param_grid={'C': [0.1, 1, 10, 100, 1000],\n",
       "                         'gamma': [1, 0.1, 0.01, 0.001, 0.0001],\n",
       "                         'kernel': ['rbf']},\n",
       "             verbose=3)"
      ]
     },
     "execution_count": 52,
     "metadata": {},
     "output_type": "execute_result"
    }
   ],
   "source": [
    "X = attributes\n",
    "y = target\n",
    "X_train, X_test, y_train, y_test = train_test_split(X, np.ravel(y), test_size = 0.25, random_state = 10)\n",
    "parameters = {'C': [0.1,1, 10, 100, 1000], 'gamma': [1,0.1,0.01,0.001,0.0001], 'kernel': ['rbf']} \n",
    "grid = GridSearchCV(SVC(), parameters, refit = True, verbose = 3)\n",
    "grid.fit(X_train, y_train)"
   ]
  },
  {
   "cell_type": "code",
   "execution_count": 53,
   "id": "32cc13aa",
   "metadata": {},
   "outputs": [
    {
     "name": "stdout",
     "output_type": "stream",
     "text": [
      "Best Parameters:  {'C': 1, 'gamma': 0.0001, 'kernel': 'rbf'}\n",
      "Best Estimator:  SVC(C=1, gamma=0.0001)\n"
     ]
    }
   ],
   "source": [
    "predictions_grid_svc = grid.predict(X_test)\n",
    "print('Best Parameters: ', grid.best_params_)\n",
    "print('Best Estimator: ', grid.best_estimator_)"
   ]
  },
  {
   "cell_type": "markdown",
   "id": "41f09a62",
   "metadata": {},
   "source": [
    "### 4.4.4 SVC with Optimal Parameters"
   ]
  },
  {
   "cell_type": "code",
   "execution_count": 54,
   "id": "0ba76c8e",
   "metadata": {},
   "outputs": [],
   "source": [
    "model_svc = SVC(random_state = 10, C = 1, gamma = 0.0001, kernel = 'rbf', probability=True)\n",
    "model_svc.fit(X_train, y_train)\n",
    "predictions_SVC_hypertuned = model_svc.predict(X_test)"
   ]
  },
  {
   "cell_type": "code",
   "execution_count": 55,
   "id": "bc2749f2",
   "metadata": {},
   "outputs": [
    {
     "name": "stdout",
     "output_type": "stream",
     "text": [
      "Confusion Matrix: \n",
      " [[47  5]\n",
      " [ 5 86]]\n",
      "Classification Report: \n",
      "               precision    recall  f1-score   support\n",
      "\n",
      "           0       0.90      0.90      0.90        52\n",
      "           1       0.95      0.95      0.95        91\n",
      "\n",
      "    accuracy                           0.93       143\n",
      "   macro avg       0.92      0.92      0.92       143\n",
      "weighted avg       0.93      0.93      0.93       143\n",
      "\n",
      "MCC:  0.8489010989010989\n"
     ]
    }
   ],
   "source": [
    "print('Confusion Matrix: \\n', confusion_matrix(y_test, predictions_SVC_hypertuned))\n",
    "print('Classification Report: \\n',classification_report(y_test, predictions_SVC_hypertuned))\n",
    "print('MCC: ', matthews_corrcoef(y_test, predictions_SVC_hypertuned))"
   ]
  },
  {
   "cell_type": "code",
   "execution_count": 56,
   "id": "01592464",
   "metadata": {},
   "outputs": [
    {
     "data": {
      "image/png": "[encoded data removed]",
      "text/plain": [
       "<Figure size 432x288 with 1 Axes>"
      ]
     },
     "metadata": {},
     "output_type": "display_data"
    },
    {
     "name": "stdout",
     "output_type": "stream",
     "text": [
      "Area Under Curve:  0.04120879120879121\n"
     ]
    }
   ],
   "source": [
    "# fpr, tpr, thresholds = roc_curve(y_test, y_pred_prob)\n",
    "y_pred_prob = model_svc.predict_proba(X_test_scaled)[:,1]\n",
    "fpr, tpr, thresholds = roc_curve(y_test, y_pred_prob)\n",
    "auc = roc_auc_score(y_test, y_pred_prob)\n",
    "plt.plot(fpr, tpr)\n",
    "plt.xlabel('False Positive Rate')\n",
    "plt.ylabel('True Positive Rate')\n",
    "plt.title('ROC')\n",
    "plt.show()\n",
    "print('Area Under Curve: ',auc)"
   ]
  },
  {
   "cell_type": "markdown",
   "id": "73e84ff3",
   "metadata": {},
   "source": [
    "### 4.4.5 Conclusion\n",
    "Not as great as the KNN and Logistic Models. "
   ]
  },
  {
   "cell_type": "markdown",
   "id": "fd0ebbbd",
   "metadata": {},
   "source": [
    "## 4.5 Random Forest Classifier"
   ]
  },
  {
   "cell_type": "markdown",
   "id": "5febdd6a",
   "metadata": {},
   "source": [
    "### 4.5.1 Random Forest Classifier"
   ]
  },
  {
   "cell_type": "code",
   "execution_count": 57,
   "id": "7e759d12",
   "metadata": {},
   "outputs": [],
   "source": [
    "from sklearn.ensemble import RandomForestClassifier\n",
    "from sklearn import tree\n",
    "import graphviz"
   ]
  },
  {
   "cell_type": "code",
   "execution_count": 58,
   "id": "e99acb2f",
   "metadata": {},
   "outputs": [],
   "source": [
    "X = attributes\n",
    "y = target\n",
    "X_train, X_test, y_train, y_test = train_test_split(X, np.ravel(y), test_size = 0.25, random_state = 10)"
   ]
  },
  {
   "cell_type": "code",
   "execution_count": 59,
   "id": "a550ceb3",
   "metadata": {},
   "outputs": [],
   "source": [
    "model_rfc = RandomForestClassifier(n_estimators = 10, random_state = 10)\n",
    "model_rfc.fit(X_train, y_train)\n",
    "predictions_rfc = model_rfc.predict(X_test)"
   ]
  },
  {
   "cell_type": "code",
   "execution_count": 60,
   "id": "0b804816",
   "metadata": {},
   "outputs": [
    {
     "name": "stdout",
     "output_type": "stream",
     "text": [
      "[[51  1]\n",
      " [ 2 89]]\n",
      "              precision    recall  f1-score   support\n",
      "\n",
      "           0       0.96      0.98      0.97        52\n",
      "           1       0.99      0.98      0.98        91\n",
      "\n",
      "    accuracy                           0.98       143\n",
      "   macro avg       0.98      0.98      0.98       143\n",
      "weighted avg       0.98      0.98      0.98       143\n",
      "\n",
      "0.9549644877199515\n"
     ]
    }
   ],
   "source": [
    "print(confusion_matrix(y_test, predictions_rfc))\n",
    "print(classification_report(y_test, predictions_rfc))\n",
    "print(matthews_corrcoef(y_test, predictions_rfc))"
   ]
  },
  {
   "cell_type": "markdown",
   "id": "1d394bbf",
   "metadata": {},
   "source": [
    "### 4.5.2 Hyperparameters Tuning Through GridSearch"
   ]
  },
  {
   "cell_type": "code",
   "execution_count": 61,
   "id": "2936804e",
   "metadata": {},
   "outputs": [
    {
     "data": {
      "text/plain": [
       "GridSearchCV(cv=10, estimator=RandomForestClassifier(random_state=10),\n",
       "             param_grid={'max_depth': array([1, 2, 3, 4, 5, 6, 7, 8, 9]),\n",
       "                         'n_estimators': array([ 1,  2,  3,  4,  5,  6,  7,  8,  9, 10, 11, 12, 13, 14, 15, 16, 17,\n",
       "       18, 19, 20, 21, 22, 23, 24, 25, 26, 27, 28, 29, 30, 31, 32, 33, 34,\n",
       "       35, 36, 37, 38, 39, 40, 41, 42, 43, 44, 45, 46, 47, 48, 49])})"
      ]
     },
     "execution_count": 61,
     "metadata": {},
     "output_type": "execute_result"
    }
   ],
   "source": [
    "parameters = {'n_estimators':np.arange(1,50), 'max_depth': np.arange(1,10)}\n",
    "model_rfc_grid = RandomForestClassifier(random_state = 10)\n",
    "model_rfc_grid_cv = GridSearchCV(model_rfc_grid, parameters, cv=10)\n",
    "model_rfc_grid_cv.fit(X_test, y_test)"
   ]
  },
  {
   "cell_type": "code",
   "execution_count": 62,
   "id": "03469409",
   "metadata": {},
   "outputs": [
    {
     "name": "stdout",
     "output_type": "stream",
     "text": [
      "{'max_depth': 4, 'n_estimators': 23}\n"
     ]
    }
   ],
   "source": [
    "print(model_rfc_grid_cv.best_params_)"
   ]
  },
  {
   "cell_type": "code",
   "execution_count": 63,
   "id": "a5a3991e",
   "metadata": {},
   "outputs": [
    {
     "name": "stdout",
     "output_type": "stream",
     "text": [
      "0.9576190476190476\n"
     ]
    }
   ],
   "source": [
    "print(model_rfc_grid_cv.best_score_)"
   ]
  },
  {
   "cell_type": "markdown",
   "id": "7720be54",
   "metadata": {},
   "source": [
    "### 4.5.3 Random Forest Model using hyperparameters from GridSearch"
   ]
  },
  {
   "cell_type": "code",
   "execution_count": 64,
   "id": "9fee63a7",
   "metadata": {},
   "outputs": [],
   "source": [
    "model_rfc_best = RandomForestClassifier(n_estimators = 23, max_depth=4, random_state = 10)\n",
    "model_rfc_best.fit(X_train, y_train)\n",
    "predictions_rfc_best = model_rfc_best.predict(X_test)"
   ]
  },
  {
   "cell_type": "code",
   "execution_count": 65,
   "id": "17cdaaff",
   "metadata": {},
   "outputs": [
    {
     "name": "stdout",
     "output_type": "stream",
     "text": [
      "[[50  2]\n",
      " [ 2 89]]\n",
      "              precision    recall  f1-score   support\n",
      "\n",
      "           0       0.96      0.96      0.96        52\n",
      "           1       0.98      0.98      0.98        91\n",
      "\n",
      "    accuracy                           0.97       143\n",
      "   macro avg       0.97      0.97      0.97       143\n",
      "weighted avg       0.97      0.97      0.97       143\n",
      "\n",
      "0.9395604395604396\n"
     ]
    }
   ],
   "source": [
    "print(confusion_matrix(y_test, predictions_rfc_best))\n",
    "print(classification_report(y_test, predictions_rfc_best))\n",
    "print(matthews_corrcoef(y_test, predictions_rfc_best ))"
   ]
  },
  {
   "cell_type": "code",
   "execution_count": 66,
   "id": "98ee2afc",
   "metadata": {},
   "outputs": [
    {
     "data": {
      "image/png": "[encoded data removed]",
      "text/plain": [
       "<Figure size 432x288 with 1 Axes>"
      ]
     },
     "metadata": {},
     "output_type": "display_data"
    },
    {
     "data": {
      "text/plain": [
       "<Figure size 720x432 with 0 Axes>"
      ]
     },
     "metadata": {},
     "output_type": "display_data"
    }
   ],
   "source": [
    "sorted_importances = model_rfc_best.feature_importances_.argsort()\n",
    "_ = plt.barh(attributes.columns[sorted_importances], model_rfc_best.feature_importances_[sorted_importances])\n",
    "_ = plt.xlabel('Feature Importance using GridSearch for Hyperparameter Tuning')\n",
    "_ = plt.figure(figsize=(10,6))"
   ]
  },
  {
   "cell_type": "code",
   "execution_count": 67,
   "id": "4a5bb54c",
   "metadata": {},
   "outputs": [],
   "source": [
    "from sklearn.inspection import permutation_importance\n",
    "permutation_importance = permutation_importance(model_rfc_best, X_test, y_test)"
   ]
  },
  {
   "cell_type": "code",
   "execution_count": 68,
   "id": "45e94f41",
   "metadata": {},
   "outputs": [
    {
     "data": {
      "image/png": "[encoded data removed]",
      "text/plain": [
       "<Figure size 432x288 with 1 Axes>"
      ]
     },
     "metadata": {},
     "output_type": "display_data"
    },
    {
     "data": {
      "text/plain": [
       "<Figure size 720x432 with 0 Axes>"
      ]
     },
     "metadata": {},
     "output_type": "display_data"
    }
   ],
   "source": [
    "sorted_importances = permutation_importance.importances_mean.argsort()\n",
    "_ = plt.barh(attributes.columns[sorted_importances], permutation_importance.importances_mean[sorted_importances])\n",
    "_ = plt.xlabel('Permutation Based Feature Importance')\n",
    "_ = plt.figure(figsize=(10,6))"
   ]
  },
  {
   "cell_type": "code",
   "execution_count": 69,
   "id": "1cdf0485",
   "metadata": {},
   "outputs": [],
   "source": [
    "## so i think i should remove the negative features..."
   ]
  },
  {
   "cell_type": "code",
   "execution_count": 70,
   "id": "b70aa6a6",
   "metadata": {},
   "outputs": [
    {
     "data": {
      "text/plain": [
       "Index(['area_mean', 'radius_worst', 'radius_mean', 'radius_se',\n",
       "       'perimeter_mean', 'area_se', 'perimeter_worst', 'smoothness_worst',\n",
       "       'fractal_dimension_se', 'symmetry_se', 'concave points_se',\n",
       "       'concavity_se', 'compactness_se', 'symmetry_worst', 'smoothness_se',\n",
       "       'texture_se', 'fractal_dimension_mean', 'compactness_mean',\n",
       "       'texture_mean', 'texture_worst', 'concavity_mean', 'smoothness_mean',\n",
       "       'perimeter_se', 'symmetry_mean', 'fractal_dimension_worst',\n",
       "       'compactness_worst', 'concave points_mean', 'concavity_worst',\n",
       "       'area_worst', 'concave points_worst'],\n",
       "      dtype='object')"
      ]
     },
     "execution_count": 70,
     "metadata": {},
     "output_type": "execute_result"
    }
   ],
   "source": [
    "attributes.columns[sorted_importances]"
   ]
  },
  {
   "cell_type": "code",
   "execution_count": 71,
   "id": "fbe0b5e2",
   "metadata": {},
   "outputs": [],
   "source": [
    "removing_features = attributes.drop(['perimeter_worst', 'area_se', 'perimeter_mean',\n",
    "                                    'radius_se'], axis = 1)"
   ]
  },
  {
   "cell_type": "code",
   "execution_count": 72,
   "id": "cadd92d7",
   "metadata": {},
   "outputs": [
    {
     "name": "stdout",
     "output_type": "stream",
     "text": [
      "[[50  2]\n",
      " [ 1 90]]\n",
      "              precision    recall  f1-score   support\n",
      "\n",
      "           0       0.98      0.96      0.97        52\n",
      "           1       0.98      0.99      0.98        91\n",
      "\n",
      "    accuracy                           0.98       143\n",
      "   macro avg       0.98      0.98      0.98       143\n",
      "weighted avg       0.98      0.98      0.98       143\n",
      "\n",
      "0.9545926395791389\n"
     ]
    }
   ],
   "source": [
    "X = removing_features\n",
    "y = target\n",
    "X_train, X_test, y_train, y_test = train_test_split(X, np.ravel(y), test_size = 0.25, random_state = 10)\n",
    "model_rfc_removed_features = RandomForestClassifier(n_estimators = 23, max_depth=4, random_state = 10)\n",
    "model_rfc_removed_features.fit(X_train, y_train)\n",
    "predictions_rfc_removed_features = model_rfc_removed_features.predict(X_test)\n",
    "print(confusion_matrix(y_test, predictions_rfc_removed_features))\n",
    "print(classification_report(y_test, predictions_rfc_removed_features))\n",
    "print(matthews_corrcoef(y_test, predictions_rfc_removed_features))"
   ]
  },
  {
   "cell_type": "code",
   "execution_count": 73,
   "id": "e0ba607a",
   "metadata": {},
   "outputs": [],
   "source": [
    "removing_features = attributes.drop(['perimeter_worst', 'area_se', 'perimeter_mean', 'area_mean',\n",
    "       'radius_se', 'radius_mean', 'smoothness_worst', 'fractal_dimension_se',\n",
    "       'symmetry_se', 'concavity_se', 'compactness_se', 'symmetry_worst',\n",
    "       'smoothness_se', 'texture_se', 'fractal_dimension_mean',\n",
    "       'compactness_mean'], axis = 1)"
   ]
  },
  {
   "cell_type": "code",
   "execution_count": 74,
   "id": "1065eba2",
   "metadata": {},
   "outputs": [
    {
     "name": "stdout",
     "output_type": "stream",
     "text": [
      "[[51  1]\n",
      " [ 2 89]]\n",
      "              precision    recall  f1-score   support\n",
      "\n",
      "           0       0.96      0.98      0.97        52\n",
      "           1       0.99      0.98      0.98        91\n",
      "\n",
      "    accuracy                           0.98       143\n",
      "   macro avg       0.98      0.98      0.98       143\n",
      "weighted avg       0.98      0.98      0.98       143\n",
      "\n",
      "0.9549644877199515\n"
     ]
    }
   ],
   "source": [
    "X = removing_features\n",
    "y = target\n",
    "X_train, X_test, y_train, y_test = train_test_split(X, np.ravel(y), test_size = 0.25, random_state = 10)\n",
    "model_rfc_removed_features = RandomForestClassifier(n_estimators = 23, max_depth=4, random_state = 10)\n",
    "model_rfc_removed_features.fit(X_train, y_train)\n",
    "predictions_rfc_removed_features = model_rfc_removed_features.predict(X_test)\n",
    "print(confusion_matrix(y_test, predictions_rfc_removed_features))\n",
    "print(classification_report(y_test, predictions_rfc_removed_features))\n",
    "print(matthews_corrcoef(y_test, predictions_rfc_removed_features))"
   ]
  },
  {
   "cell_type": "markdown",
   "id": "2920d47e",
   "metadata": {},
   "source": [
    "So the important features can be concluded to be 'radius_worst', 'texture_mean', 'texture_worst',\n",
    "       'concave points_se', 'perimeter_se', 'symmetry_mean',\n",
    "       'compactness_worst', 'fractal_dimension_worst', 'smoothness_mean',\n",
    "       'concavity_mean', 'concavity_worst', 'concave points_mean',\n",
    "       'area_worst', 'concave points_worst'"
   ]
  },
  {
   "cell_type": "markdown",
   "id": "e14b5d38",
   "metadata": {},
   "source": [
    "### 4.5.4 Bayesian Optimisation"
   ]
  },
  {
   "cell_type": "code",
   "execution_count": 75,
   "id": "d21883a9",
   "metadata": {},
   "outputs": [],
   "source": [
    "rf = RandomForestClassifier()"
   ]
  },
  {
   "cell_type": "code",
   "execution_count": 76,
   "id": "644b83ca",
   "metadata": {},
   "outputs": [],
   "source": [
    "X = attributes\n",
    "y = target\n",
    "X_train, X_test, y_train, y_test = train_test_split(X, np.ravel(y), test_size = 0.25, random_state = 10)"
   ]
  },
  {
   "cell_type": "code",
   "execution_count": 77,
   "id": "9c2c025e",
   "metadata": {},
   "outputs": [],
   "source": [
    "#rf.get_params()"
   ]
  },
  {
   "cell_type": "code",
   "execution_count": 78,
   "id": "15705631",
   "metadata": {},
   "outputs": [],
   "source": [
    "def stratified_kfold_score(classifier,X, y, n_fold):\n",
    "    X = X.values \n",
    "    y = y\n",
    "    strat_kfold = StratifiedKFold(n_splits = n_fold, shuffle = True, random_state = 10)\n",
    "    accuracy_list = []\n",
    "    \n",
    "    for train_index, test_index in strat_kfold.split(X,y):\n",
    "        x_train_fold, x_test_fold = X[train_index], X[test_index]\n",
    "        y_train_fold, y_test_fold = y[train_index], y[test_index]\n",
    "        classifier.fit(x_train_fold, y_train_fold)\n",
    "        predictions = classifier.predict(x_test_fold)\n",
    "        accuracy_test = accuracy_score(predictions, y_test_fold)\n",
    "        accuracy_list.append(accuracy_test)\n",
    "    \n",
    "    return np.array(accuracy_list).mean()"
   ]
  },
  {
   "cell_type": "code",
   "execution_count": 79,
   "id": "89333273",
   "metadata": {},
   "outputs": [],
   "source": [
    "def bo_params_rfc(max_samples, n_estimators, max_features, max_depth):\n",
    "    parameters = {'max_samples': max_samples, \n",
    "                  'max_features': max_features, \n",
    "                  'n_estimators': int(n_estimators), \n",
    "                 'max_depth': int(10)}\n",
    "    classifier = RandomForestClassifier(max_samples = parameters['max_samples'],\n",
    "                                       n_estimators = parameters['n_estimators'],\n",
    "                                       max_features= parameters['max_features'],\n",
    "                                       random_state = 10,\n",
    "                                       max_depth = parameters['max_depth'])\n",
    "    score = stratified_kfold_score(classifier, X_train, y_train, n_fold = 5)\n",
    "    return score"
   ]
  },
  {
   "cell_type": "code",
   "execution_count": 80,
   "id": "1069fc8c",
   "metadata": {},
   "outputs": [],
   "source": [
    "rf_bo = BayesianOptimization(bo_params_rfc, {'max_samples':(0.5,1), \n",
    "                                            'max_features': (0.5,1), \n",
    "                                            'n_estimators': (100,200), \n",
    "                                            'max_depth':(1,10)})"
   ]
  },
  {
   "cell_type": "code",
   "execution_count": 81,
   "id": "ee6e0934",
   "metadata": {},
   "outputs": [
    {
     "name": "stdout",
     "output_type": "stream",
     "text": [
      "|   iter    |  target   | max_depth | max_fe... | max_sa... | n_esti... |\n",
      "-------------------------------------------------------------------------\n",
      "| \u001b[0m 1       \u001b[0m | \u001b[0m 0.9531  \u001b[0m | \u001b[0m 4.618   \u001b[0m | \u001b[0m 0.6021  \u001b[0m | \u001b[0m 0.9928  \u001b[0m | \u001b[0m 169.5   \u001b[0m |\n",
      "| \u001b[0m 2       \u001b[0m | \u001b[0m 0.9483  \u001b[0m | \u001b[0m 3.41    \u001b[0m | \u001b[0m 0.6325  \u001b[0m | \u001b[0m 0.8765  \u001b[0m | \u001b[0m 139.3   \u001b[0m |\n",
      "| \u001b[0m 3       \u001b[0m | \u001b[0m 0.9531  \u001b[0m | \u001b[0m 3.204   \u001b[0m | \u001b[0m 0.9074  \u001b[0m | \u001b[0m 0.5985  \u001b[0m | \u001b[0m 143.5   \u001b[0m |\n",
      "| \u001b[0m 4       \u001b[0m | \u001b[0m 0.9531  \u001b[0m | \u001b[0m 6.132   \u001b[0m | \u001b[0m 0.8205  \u001b[0m | \u001b[0m 0.9968  \u001b[0m | \u001b[0m 178.4   \u001b[0m |\n",
      "| \u001b[0m 5       \u001b[0m | \u001b[0m 0.9531  \u001b[0m | \u001b[0m 9.561   \u001b[0m | \u001b[0m 0.6686  \u001b[0m | \u001b[0m 0.7637  \u001b[0m | \u001b[0m 183.4   \u001b[0m |\n",
      "| \u001b[0m 6       \u001b[0m | \u001b[0m 0.9483  \u001b[0m | \u001b[0m 4.791   \u001b[0m | \u001b[0m 0.8812  \u001b[0m | \u001b[0m 0.9431  \u001b[0m | \u001b[0m 149.2   \u001b[0m |\n",
      "| \u001b[0m 7       \u001b[0m | \u001b[0m 0.9531  \u001b[0m | \u001b[0m 7.411   \u001b[0m | \u001b[0m 0.8989  \u001b[0m | \u001b[0m 0.5492  \u001b[0m | \u001b[0m 136.1   \u001b[0m |\n",
      "| \u001b[0m 8       \u001b[0m | \u001b[0m 0.9483  \u001b[0m | \u001b[0m 5.02    \u001b[0m | \u001b[0m 0.8905  \u001b[0m | \u001b[0m 0.9044  \u001b[0m | \u001b[0m 182.6   \u001b[0m |\n",
      "| \u001b[0m 9       \u001b[0m | \u001b[0m 0.9507  \u001b[0m | \u001b[0m 8.215   \u001b[0m | \u001b[0m 0.8671  \u001b[0m | \u001b[0m 0.9401  \u001b[0m | \u001b[0m 140.7   \u001b[0m |\n",
      "| \u001b[95m 10      \u001b[0m | \u001b[95m 0.9554  \u001b[0m | \u001b[95m 7.618   \u001b[0m | \u001b[95m 0.9947  \u001b[0m | \u001b[95m 0.6342  \u001b[0m | \u001b[95m 189.8   \u001b[0m |\n",
      "| \u001b[0m 11      \u001b[0m | \u001b[0m 0.9507  \u001b[0m | \u001b[0m 3.127   \u001b[0m | \u001b[0m 0.5856  \u001b[0m | \u001b[0m 0.7492  \u001b[0m | \u001b[0m 187.6   \u001b[0m |\n",
      "| \u001b[0m 12      \u001b[0m | \u001b[0m 0.9507  \u001b[0m | \u001b[0m 2.295   \u001b[0m | \u001b[0m 0.7789  \u001b[0m | \u001b[0m 0.5605  \u001b[0m | \u001b[0m 190.4   \u001b[0m |\n",
      "| \u001b[0m 13      \u001b[0m | \u001b[0m 0.9531  \u001b[0m | \u001b[0m 5.962   \u001b[0m | \u001b[0m 0.6642  \u001b[0m | \u001b[0m 0.7562  \u001b[0m | \u001b[0m 176.2   \u001b[0m |\n",
      "| \u001b[0m 14      \u001b[0m | \u001b[0m 0.9483  \u001b[0m | \u001b[0m 5.699   \u001b[0m | \u001b[0m 0.8946  \u001b[0m | \u001b[0m 0.9659  \u001b[0m | \u001b[0m 182.8   \u001b[0m |\n",
      "| \u001b[0m 15      \u001b[0m | \u001b[0m 0.9483  \u001b[0m | \u001b[0m 1.384   \u001b[0m | \u001b[0m 0.9402  \u001b[0m | \u001b[0m 0.5264  \u001b[0m | \u001b[0m 124.6   \u001b[0m |\n",
      "| \u001b[0m 16      \u001b[0m | \u001b[0m 0.9507  \u001b[0m | \u001b[0m 6.788   \u001b[0m | \u001b[0m 0.5369  \u001b[0m | \u001b[0m 0.738   \u001b[0m | \u001b[0m 182.2   \u001b[0m |\n",
      "| \u001b[0m 17      \u001b[0m | \u001b[0m 0.9483  \u001b[0m | \u001b[0m 8.659   \u001b[0m | \u001b[0m 0.7272  \u001b[0m | \u001b[0m 0.7826  \u001b[0m | \u001b[0m 154.6   \u001b[0m |\n",
      "| \u001b[0m 18      \u001b[0m | \u001b[0m 0.9507  \u001b[0m | \u001b[0m 7.066   \u001b[0m | \u001b[0m 0.9978  \u001b[0m | \u001b[0m 0.8577  \u001b[0m | \u001b[0m 105.1   \u001b[0m |\n",
      "| \u001b[0m 19      \u001b[0m | \u001b[0m 0.9483  \u001b[0m | \u001b[0m 8.296   \u001b[0m | \u001b[0m 0.8644  \u001b[0m | \u001b[0m 0.7909  \u001b[0m | \u001b[0m 142.9   \u001b[0m |\n",
      "| \u001b[0m 20      \u001b[0m | \u001b[0m 0.9507  \u001b[0m | \u001b[0m 5.684   \u001b[0m | \u001b[0m 0.6797  \u001b[0m | \u001b[0m 0.877   \u001b[0m | \u001b[0m 186.7   \u001b[0m |\n",
      "| \u001b[0m 21      \u001b[0m | \u001b[0m 0.9554  \u001b[0m | \u001b[0m 8.44    \u001b[0m | \u001b[0m 1.0     \u001b[0m | \u001b[0m 0.6414  \u001b[0m | \u001b[0m 190.2   \u001b[0m |\n",
      "| \u001b[0m 22      \u001b[0m | \u001b[0m 0.9531  \u001b[0m | \u001b[0m 7.651   \u001b[0m | \u001b[0m 0.7964  \u001b[0m | \u001b[0m 0.9122  \u001b[0m | \u001b[0m 190.9   \u001b[0m |\n",
      "| \u001b[0m 23      \u001b[0m | \u001b[0m 0.9507  \u001b[0m | \u001b[0m 8.325   \u001b[0m | \u001b[0m 1.0     \u001b[0m | \u001b[0m 0.5     \u001b[0m | \u001b[0m 189.3   \u001b[0m |\n",
      "| \u001b[0m 24      \u001b[0m | \u001b[0m 0.9483  \u001b[0m | \u001b[0m 8.052   \u001b[0m | \u001b[0m 0.7741  \u001b[0m | \u001b[0m 0.5081  \u001b[0m | \u001b[0m 190.4   \u001b[0m |\n",
      "| \u001b[0m 25      \u001b[0m | \u001b[0m 0.9554  \u001b[0m | \u001b[0m 9.368   \u001b[0m | \u001b[0m 0.5431  \u001b[0m | \u001b[0m 0.8037  \u001b[0m | \u001b[0m 180.1   \u001b[0m |\n",
      "| \u001b[0m 26      \u001b[0m | \u001b[0m 0.9507  \u001b[0m | \u001b[0m 2.582   \u001b[0m | \u001b[0m 0.5464  \u001b[0m | \u001b[0m 0.7359  \u001b[0m | \u001b[0m 180.5   \u001b[0m |\n",
      "| \u001b[0m 27      \u001b[0m | \u001b[0m 0.9554  \u001b[0m | \u001b[0m 8.607   \u001b[0m | \u001b[0m 0.8376  \u001b[0m | \u001b[0m 0.9695  \u001b[0m | \u001b[0m 122.9   \u001b[0m |\n",
      "| \u001b[0m 28      \u001b[0m | \u001b[0m 0.9531  \u001b[0m | \u001b[0m 2.252   \u001b[0m | \u001b[0m 0.6262  \u001b[0m | \u001b[0m 0.8579  \u001b[0m | \u001b[0m 115.7   \u001b[0m |\n",
      "| \u001b[0m 29      \u001b[0m | \u001b[0m 0.946   \u001b[0m | \u001b[0m 3.412   \u001b[0m | \u001b[0m 0.805   \u001b[0m | \u001b[0m 0.7564  \u001b[0m | \u001b[0m 108.7   \u001b[0m |\n",
      "| \u001b[0m 30      \u001b[0m | \u001b[0m 0.9531  \u001b[0m | \u001b[0m 5.372   \u001b[0m | \u001b[0m 0.5835  \u001b[0m | \u001b[0m 0.8852  \u001b[0m | \u001b[0m 168.1   \u001b[0m |\n",
      "=========================================================================\n"
     ]
    }
   ],
   "source": [
    "rf_bo.maximize(n_iter= 10, init_points = 20, acq = 'ei')"
   ]
  },
  {
   "cell_type": "code",
   "execution_count": 82,
   "id": "08d15ce2",
   "metadata": {},
   "outputs": [
    {
     "name": "stdout",
     "output_type": "stream",
     "text": [
      "{'max_depth': 7, 'max_features': 0.9947280244132605, 'max_samples': 0.6342244676244502, 'n_estimators': 189}\n"
     ]
    }
   ],
   "source": [
    "best_parameters = rf_bo.max['params']\n",
    "best_parameters['n_estimators']= int(best_parameters['n_estimators'])\n",
    "best_parameters['max_depth']=int(best_parameters['max_depth'])\n",
    "print(best_parameters)"
   ]
  },
  {
   "cell_type": "code",
   "execution_count": 83,
   "id": "89ea4d09",
   "metadata": {},
   "outputs": [
    {
     "name": "stdout",
     "output_type": "stream",
     "text": [
      "Confusion Matrix: \n",
      " [[52  0]\n",
      " [ 2 89]]\n",
      "Classification Report: \n",
      "               precision    recall  f1-score   support\n",
      "\n",
      "           0       0.96      1.00      0.98        52\n",
      "           1       1.00      0.98      0.99        91\n",
      "\n",
      "    accuracy                           0.99       143\n",
      "   macro avg       0.98      0.99      0.99       143\n",
      "weighted avg       0.99      0.99      0.99       143\n",
      "\n",
      "MCC:  0.9704632614370013\n"
     ]
    }
   ],
   "source": [
    "baye_rfc = RandomForestClassifier(n_estimators = best_parameters['n_estimators'], \n",
    "                                  random_state = 10, \n",
    "                                  max_samples = best_parameters['max_samples'], \n",
    "                                  max_features = best_parameters['max_features'], \n",
    "                                 max_depth = best_parameters['max_depth'])\n",
    "baye_rfc.fit(X_train, y_train)\n",
    "predictions_baye_rfc = baye_rfc.predict(X_test)\n",
    "print('Confusion Matrix: \\n',confusion_matrix(y_test, predictions_baye_rfc))\n",
    "print('Classification Report: \\n', classification_report(y_test, predictions_baye_rfc))\n",
    "print('MCC: ',matthews_corrcoef(y_test, predictions_baye_rfc ))\n",
    "\n",
    "## max depth"
   ]
  },
  {
   "cell_type": "code",
   "execution_count": 84,
   "id": "de3f9577",
   "metadata": {},
   "outputs": [
    {
     "data": {
      "image/png": "[encoded data removed]",
      "text/plain": [
       "<Figure size 432x288 with 1 Axes>"
      ]
     },
     "metadata": {},
     "output_type": "display_data"
    },
    {
     "name": "stdout",
     "output_type": "stream",
     "text": [
      "Area Under Curve:  0.9974640743871512\n"
     ]
    }
   ],
   "source": [
    "# fpr, tpr, thresholds = roc_curve(y_test, y_pred_prob)\n",
    "y_pred_prob = baye_rfc.predict_proba(X_test)[:,1]\n",
    "fpr, tpr, thresholds = roc_curve(y_test, y_pred_prob)\n",
    "auc = roc_auc_score(y_test, y_pred_prob)\n",
    "plt.plot(fpr, tpr)\n",
    "plt.xlabel('False Positive Rate')\n",
    "plt.ylabel('True Positive Rate')\n",
    "plt.title('ROC')\n",
    "plt.show()\n",
    "print('Area Under Curve: ',auc)"
   ]
  },
  {
   "cell_type": "code",
   "execution_count": 85,
   "id": "13d0bc98",
   "metadata": {},
   "outputs": [
    {
     "data": {
      "image/png": "[encoded data removed]",
      "text/plain": [
       "<Figure size 432x288 with 1 Axes>"
      ]
     },
     "metadata": {},
     "output_type": "display_data"
    },
    {
     "data": {
      "text/plain": [
       "<Figure size 720x432 with 0 Axes>"
      ]
     },
     "metadata": {},
     "output_type": "display_data"
    }
   ],
   "source": [
    "sorted_importances = baye_rfc.feature_importances_.argsort()\n",
    "_ = plt.barh(attributes.columns[sorted_importances], baye_rfc.feature_importances_[sorted_importances])\n",
    "_ = plt.xlabel('Feature Importance after Bayesian Optimisation')\n",
    "_ = plt.figure(figsize=(10,6))"
   ]
  },
  {
   "cell_type": "markdown",
   "id": "b94fdabb",
   "metadata": {},
   "source": [
    "Same = concavity points mean, concave points worst,  radius worst, area worst, \n",
    "different = perimeter worst"
   ]
  },
  {
   "cell_type": "markdown",
   "id": "ea07c1a3",
   "metadata": {},
   "source": [
    "### 4.5.5 Validation Curves"
   ]
  },
  {
   "cell_type": "code",
   "execution_count": 86,
   "id": "c5e5d8c4",
   "metadata": {},
   "outputs": [],
   "source": [
    "from yellowbrick.model_selection import validation_curve"
   ]
  },
  {
   "cell_type": "code",
   "execution_count": 87,
   "id": "573d2adb",
   "metadata": {},
   "outputs": [
    {
     "data": {
      "image/png": "[encoded data removed]",
      "text/plain": [
       "<Figure size 576x396 with 1 Axes>"
      ]
     },
     "metadata": {},
     "output_type": "display_data"
    }
   ],
   "source": [
    "rfc_hypertuning =  RandomForestClassifier(n_estimators = best_parameters['n_estimators'], \n",
    "                                          random_state = 10, \n",
    "                                          max_samples = best_parameters['max_samples'], \n",
    "                                          max_features = best_parameters['max_features'],\n",
    "                                         criterion = 'gini')\n",
    "validation_curve = validation_curve(rfc_hypertuning, X = X_train, y= y_train,\n",
    "                 param_name = 'max_depth',\n",
    "                 n_jobs = -1,\n",
    "                 param_range = np.arange(1,11),\n",
    "                 cv = 10, \n",
    "                 scoring = 'accuracy'\n",
    "                )"
   ]
  },
  {
   "cell_type": "code",
   "execution_count": null,
   "id": "4167b09a",
   "metadata": {},
   "outputs": [],
   "source": [
    "from yellowbrick.model_selection import validation_curve\n",
    "rfc_hypertuning =  RandomForestClassifier(n_estimators = best_parameters['n_estimators'], \n",
    "                                  random_state = 10, \n",
    "                                  max_samples = best_parameters['max_samples'], \n",
    "                                  max_features = best_parameters['max_features'], criterion = 'entropy')\n",
    "validation_curve(rfc_hypertuning, X_train, y_train,param_name = 'max_depth',n_jobs = -1,\n",
    "                 param_range = np.arange(1,11),cv = 10,scoring = 'accuracy')"
   ]
  },
  {
   "cell_type": "markdown",
   "id": "7010f97e",
   "metadata": {},
   "source": [
    "## 4.6 Gradient Boosting Classifier"
   ]
  },
  {
   "cell_type": "code",
   "execution_count": null,
   "id": "365c1c91",
   "metadata": {},
   "outputs": [],
   "source": [
    "from sklearn.ensemble import GradientBoostingClassifier\n",
    "X = attributes\n",
    "y = target\n",
    "X_train, X_test, y_train, y_test = train_test_split(X, np.ravel(y), test_size = 0.25, random_state = 10)"
   ]
  },
  {
   "cell_type": "markdown",
   "id": "fe24b847",
   "metadata": {},
   "source": [
    "### 4.6.1"
   ]
  },
  {
   "cell_type": "code",
   "execution_count": null,
   "id": "7df9077f",
   "metadata": {},
   "outputs": [],
   "source": [
    "model_gb = GradientBoostingClassifier(random_state = 10)\n",
    "model_gb.fit(X_train, y_train)\n",
    "predictions_gb = model_gb.predict(X_test)"
   ]
  },
  {
   "cell_type": "code",
   "execution_count": null,
   "id": "e7222b75",
   "metadata": {},
   "outputs": [],
   "source": [
    "print(confusion_matrix(y_test, predictions_gb))\n",
    "print(classification_report(y_test, predictions_gb))\n",
    "print(matthews_corrcoef(y_test, predictions_gb))"
   ]
  },
  {
   "cell_type": "markdown",
   "id": "9abc753b",
   "metadata": {},
   "source": [
    "### 4.6.2 Hyperparameters Tuning"
   ]
  },
  {
   "cell_type": "code",
   "execution_count": null,
   "id": "3982afc6",
   "metadata": {},
   "outputs": [],
   "source": [
    "from scipy.stats import uniform as sp_randFloat\n",
    "from scipy.stats import randint as sp_randInt\n",
    "parameters = {'learning_rate': sp_randFloat(), \n",
    "             'subsample': sp_randFloat(),\n",
    "             'n_estimators': sp_randInt(100,1000),\n",
    "             'max_depth': sp_randInt(4,10)}"
   ]
  },
  {
   "cell_type": "code",
   "execution_count": null,
   "id": "06d0e6b2",
   "metadata": {},
   "outputs": [],
   "source": [
    "model_gb_cv = RandomizedSearchCV(GradientBoostingClassifier(random_state=10),\n",
    "                                 parameters,\n",
    "                                 random_state = 10, \n",
    "                                 cv=10, \n",
    "                                 n_iter=10, \n",
    "                                 n_jobs=-1)"
   ]
  },
  {
   "cell_type": "code",
   "execution_count": null,
   "id": "eb89f7e2",
   "metadata": {},
   "outputs": [],
   "source": [
    "model_gb_cv.fit(X_train, y_train)"
   ]
  },
  {
   "cell_type": "code",
   "execution_count": null,
   "id": "1e6b7021",
   "metadata": {},
   "outputs": [],
   "source": [
    "predictions = model_gb_cv.predict(X_test)"
   ]
  },
  {
   "cell_type": "code",
   "execution_count": null,
   "id": "1b384d46",
   "metadata": {},
   "outputs": [],
   "source": [
    "print(model_gb_cv.best_estimator_)\n",
    "print(model_gb_cv.best_params_)\n",
    "print(model_gb_cv.best_score_)"
   ]
  },
  {
   "cell_type": "markdown",
   "id": "a4487aeb",
   "metadata": {},
   "source": [
    "### 4.6.3 Gradient Boosting with Optimal Parameteters"
   ]
  },
  {
   "cell_type": "code",
   "execution_count": null,
   "id": "9a57d086",
   "metadata": {},
   "outputs": [],
   "source": [
    "model_gb_best = GradientBoostingClassifier(learning_rate = 0.088,\n",
    "                                           max_depth = 8, \n",
    "                                           n_estimators = 471,\n",
    "                                           subsample = 0.9533,\n",
    "                                           random_state = 10)\n",
    "model_gb_best.fit(X_train, y_train)\n",
    "predictions_gbBest = model_gb_best.predict(X_test)\n",
    "print('Confusion Matrix: \\n', confusion_matrix(y_test, predictions_gbBest))\n",
    "print('Classification Report: \\n', classification_report(y_test, predictions_gbBest))\n",
    "print('MCC: ', matthews_corrcoef(y_test, predictions_gbBest))"
   ]
  },
  {
   "cell_type": "code",
   "execution_count": null,
   "id": "9c587f94",
   "metadata": {},
   "outputs": [],
   "source": [
    "# fpr, tpr, thresholds = roc_curve(y_test, y_pred_prob)\n",
    "y_pred_prob = model_gb_best.predict_proba(X_test_scaled)[:,1]\n",
    "fpr, tpr, thresholds = roc_curve(y_test, y_pred_prob)\n",
    "auc = roc_auc_score(y_test, y_pred_prob)\n",
    "plt.plot(fpr, tpr)\n",
    "plt.xlabel('False Positive Rate')\n",
    "plt.ylabel('True Positive Rate')\n",
    "plt.title('ROC')\n",
    "plt.show()\n",
    "print('Area Under Curve: ',auc)"
   ]
  },
  {
   "cell_type": "code",
   "execution_count": null,
   "id": "163a8fe0",
   "metadata": {},
   "outputs": [],
   "source": [
    "model_gb_best.feature_importances_"
   ]
  },
  {
   "cell_type": "code",
   "execution_count": null,
   "id": "89142ca7",
   "metadata": {},
   "outputs": [],
   "source": [
    "sorted_importances = model_gb_best.feature_importances_.argsort()\n",
    "_ = plt.barh(attributes.columns[sorted_importances], model_gb_best.feature_importances_[sorted_importances])\n",
    "_ = plt.xlabel('Feature Importance')"
   ]
  },
  {
   "cell_type": "markdown",
   "id": "4ebb02e4",
   "metadata": {},
   "source": [
    "Top 3 features:  perimeter worst, concave points worst, texture worst\n"
   ]
  },
  {
   "cell_type": "code",
   "execution_count": null,
   "id": "01551524",
   "metadata": {},
   "outputs": [],
   "source": []
  },
  {
   "cell_type": "code",
   "execution_count": null,
   "id": "e311ae80",
   "metadata": {},
   "outputs": [],
   "source": [
    "##https://stackabuse.com/gradient-boosting-classifiers-in-python-with-scikit-lear\n",
    "##why are they scaling?"
   ]
  },
  {
   "cell_type": "markdown",
   "id": "f2519ab4",
   "metadata": {},
   "source": [
    "### Conclusion"
   ]
  },
  {
   "cell_type": "markdown",
   "id": "95abf8e1",
   "metadata": {},
   "source": [
    "## 4.7 XGBoost Classifier"
   ]
  },
  {
   "cell_type": "markdown",
   "id": "db71dc5b",
   "metadata": {},
   "source": [
    "## 4.7.1"
   ]
  },
  {
   "cell_type": "code",
   "execution_count": null,
   "id": "03e2b49d",
   "metadata": {},
   "outputs": [],
   "source": [
    "from xgboost import XGBClassifier\n",
    "X = attributes\n",
    "y = target\n",
    "X_train, X_test, y_train, y_test = train_test_split(X, np.ravel(y), test_size = 0.25, random_state = 10)"
   ]
  },
  {
   "cell_type": "code",
   "execution_count": null,
   "id": "2c244b8b",
   "metadata": {},
   "outputs": [],
   "source": [
    "model_xgb = XGBClassifier(random_state = 10)\n",
    "model_xgb.fit(X_train, y_train)\n",
    "predictions_xgb = model_xgb.predict(X_test)"
   ]
  },
  {
   "cell_type": "code",
   "execution_count": null,
   "id": "600431a6",
   "metadata": {},
   "outputs": [],
   "source": [
    "print(confusion_matrix(y_test, predictions_xgb))\n",
    "print(classification_report(y_test, predictions_xgb))\n",
    "print(matthews_corrcoef(y_test, predictions_xgb))"
   ]
  },
  {
   "cell_type": "code",
   "execution_count": null,
   "id": "1d684015",
   "metadata": {},
   "outputs": [],
   "source": [
    "# fpr, tpr, thresholds = roc_curve(y_test, y_pred_prob)\n",
    "y_pred_prob = model_xgb.predict_proba(X_test)[:,1]\n",
    "fpr, tpr, thresholds = roc_curve(y_test, y_pred_prob)\n",
    "auc = roc_auc_score(y_test, y_pred_prob)\n",
    "plt.plot(fpr, tpr)\n",
    "plt.xlabel('False Positive Rate')\n",
    "plt.ylabel('True Positive Rate')\n",
    "plt.title('ROC')\n",
    "plt.show()\n",
    "print('Area Under Curve: ',auc)"
   ]
  },
  {
   "cell_type": "code",
   "execution_count": null,
   "id": "e80af224",
   "metadata": {
    "scrolled": true
   },
   "outputs": [],
   "source": [
    "sorted_importances = model_xgb.feature_importances_.argsort()\n",
    "_ = plt.barh(attributes.columns[sorted_importances], model_xgb.feature_importances_[sorted_importances])\n",
    "_ = plt.xlabel('Feature Importance')"
   ]
  },
  {
   "cell_type": "markdown",
   "id": "5826dbbd",
   "metadata": {},
   "source": [
    "Top 3 important features: perimeter worst, radius worst and concave points worst"
   ]
  },
  {
   "cell_type": "markdown",
   "id": "eff38d4d",
   "metadata": {},
   "source": [
    "### 4.7.2 Hyperparameter Tuning"
   ]
  },
  {
   "cell_type": "code",
   "execution_count": null,
   "id": "6afa27ae",
   "metadata": {},
   "outputs": [],
   "source": [
    "parameters = {'objective':['reg:squarederror'],\n",
    "              'booster':['gbtree','gblinear'],\n",
    "              'learning_rate': [0.1], \n",
    "              'max_depth': [7,10,15,20],\n",
    "              'min_child_weight': [10,15,20,25],\n",
    "              'colsample_bytree': [0.8, 0.9, 1],\n",
    "              'n_estimators': [300,400,500,600],\n",
    "              \"reg_alpha\"   : [0.5,0.2,1],\n",
    "              \"reg_lambda\"  : [2,3,5],\n",
    "              \"gamma\"       : [1,2,3]}\n",
    "model_xgb_cv =RandomizedSearchCV(XGBClassifier(random_state=10),\n",
    "                                 parameters,\n",
    "                                 cv=10, \n",
    "                                 n_jobs=-1)\n",
    "model_xgb_cv.fit(X_train, y_train)"
   ]
  },
  {
   "cell_type": "code",
   "execution_count": null,
   "id": "9f83c9e2",
   "metadata": {},
   "outputs": [],
   "source": [
    "print(model_xgb_cv.best_estimator_)\n",
    "print('\\n')\n",
    "print(model_xgb_cv.best_params_)\n",
    "print('\\n')\n",
    "print(model_xgb_cv.best_score_)"
   ]
  },
  {
   "cell_type": "markdown",
   "id": "2cc8407f",
   "metadata": {},
   "source": [
    "### 4.7.2 XGBoost with Optimal Parameters"
   ]
  },
  {
   "cell_type": "code",
   "execution_count": null,
   "id": "e4537c02",
   "metadata": {},
   "outputs": [],
   "source": [
    "model_xgb_best = XGBClassifier(random_state = 10, reg_lambda= 3, reg_alpha = 0.5, objective = 'reg:squarederror',\n",
    "                               n_estimators= 500, min_child_weight= 15, max_depth= 10, \n",
    "                               learning_rate = 0.1, gamma = 3, colsample_bytree= 0.8, \n",
    "                               booster = 'gbtree')\n",
    "model_xgb_best.fit(X_train, y_train)\n",
    "predictions_xgb_best = model_xgb_best.predict(X_test)\n",
    "print('Confusion Matrix: \\n',confusion_matrix(y_test, predictions_xgb_best))\n",
    "print('Classification Report: \\n',classification_report(y_test, predictions_xgb_best))\n",
    "print('MCC: ',matthews_corrcoef(y_test, predictions_xgb_best))"
   ]
  },
  {
   "cell_type": "code",
   "execution_count": null,
   "id": "b868ec0a",
   "metadata": {},
   "outputs": [],
   "source": [
    "# fpr, tpr, thresholds = roc_curve(y_test, y_pred_prob)\n",
    "y_pred_prob = model_xgb_best.predict_proba(X_test)[:,1]\n",
    "fpr, tpr, thresholds = roc_curve(y_test, y_pred_prob)\n",
    "auc = roc_auc_score(y_test, y_pred_prob)\n",
    "plt.plot(fpr, tpr)\n",
    "plt.xlabel('False Positive Rate')\n",
    "plt.ylabel('True Positive Rate')\n",
    "plt.title('ROC')\n",
    "plt.show()\n",
    "print('Area Under Curve: ',auc)"
   ]
  },
  {
   "cell_type": "code",
   "execution_count": null,
   "id": "632b4d4c",
   "metadata": {},
   "outputs": [],
   "source": [
    "sorted_importances = model_xgb_best.feature_importances_.argsort()\n",
    "_ = plt.barh(attributes.columns[sorted_importances], model_xgb_best.feature_importances_[sorted_importances])\n",
    "_ = plt.xlabel('Feature Importance')"
   ]
  },
  {
   "cell_type": "code",
   "execution_count": null,
   "id": "795d3c24",
   "metadata": {},
   "outputs": [],
   "source": [
    "removing_features = attributes.drop(['radius_mean', 'concavity_worst', 'compactness_worst',\n",
    "       'smoothness_worst', 'area_worst', 'fractal_dimension_se', 'symmetry_se',\n",
    "       'concave points_se', 'concavity_se', 'compactness_se', 'symmetry_worst',\n",
    "       'perimeter_se', 'smoothness_se', 'fractal_dimension_worst', 'radius_se',\n",
    "       'fractal_dimension_mean', 'symmetry_mean', 'texture_mean',\n",
    "       'concavity_mean', 'compactness_mean', 'perimeter_mean', 'texture_se',\n",
    "       'area_mean', 'smoothness_mean'], axis = 1)"
   ]
  },
  {
   "cell_type": "code",
   "execution_count": null,
   "id": "dd2cbee3",
   "metadata": {},
   "outputs": [],
   "source": [
    "X = removing_features\n",
    "y = target\n",
    "X_train, X_test, y_train, y_test = train_test_split(X, np.ravel(y), test_size = 0.25, random_state = 10)\n",
    "model_removed_features = model_xgb_best\n",
    "model_removed_features.fit(X_train, y_train)\n",
    "predictions_removed_features = model_removed_features.predict(X_test)\n",
    "print(confusion_matrix(y_test, predictions_removed_features))\n",
    "print(classification_report(y_test, predictions_removed_features))\n",
    "print(matthews_corrcoef(y_test, predictions_removed_features))"
   ]
  },
  {
   "cell_type": "markdown",
   "id": "f425ab9a",
   "metadata": {},
   "source": [
    "### Conclusions"
   ]
  },
  {
   "cell_type": "markdown",
   "id": "88d74629",
   "metadata": {},
   "source": [
    "Whilst the top three features are still the same, the accuracy of the hypertuned model is lower. "
   ]
  },
  {
   "cell_type": "markdown",
   "id": "9a7d62a5",
   "metadata": {},
   "source": [
    "# Conclusions"
   ]
  },
  {
   "cell_type": "markdown",
   "id": "26c92360",
   "metadata": {},
   "source": [
    "Best Model: KNN with n=6 "
   ]
  },
  {
   "cell_type": "code",
   "execution_count": null,
   "id": "a2a2512d",
   "metadata": {},
   "outputs": [],
   "source": [
    "evaluation_parameters = ['Model','FP > FN', 'Accuracy', ' MCC', 'AUC']\n",
    "summary_df = pd.DataFrame(columns=evaluation_parameters)\n",
    "data = [pd.Series(['Logistic Regression', 'No', 0.98, 0.9549, 0.9989], index=summary_df.columns),\n",
    "       pd.Series(['KNN n=6', 'Yes', 0.99,0.9849, 0.9999], index=summary_df.columns), \n",
    "       pd.Series(['SVC', 'Yes', 0.92, 0.8328, 0.8675], index = summary_df.columns),\n",
    "       pd.Series(['Random Forest', 'No', 0.99, 0.970, 0.9], index= summary_df.columns),\n",
    "       pd.Series(['Gradient Boosting', 'No', 0.98, 0.9562, 0.9466], index = summary_df.columns),\n",
    "       pd.Series(['XGBoost', 'No', 0.98, 0.95, 0.99], index = summary_df.columns)]\n",
    "summary_df2 = summary_df.append(data, ignore_index = True)"
   ]
  },
  {
   "cell_type": "code",
   "execution_count": null,
   "id": "6165787a",
   "metadata": {},
   "outputs": [],
   "source": [
    "summary_df2.set_index('Model')"
   ]
  },
  {
   "cell_type": "code",
   "execution_count": null,
   "id": "d1edd995",
   "metadata": {},
   "outputs": [],
   "source": [
    "top_features_rfc = set(['concave points mean', 'concave points worst', 'area worst'])\n",
    "top_features_gb = set(['perimeter worst', 'concave points worst', 'texture worst'])\n",
    "top_features_xgb = set(['perimeter worst', 'radius worst', 'concave points worst'])"
   ]
  },
  {
   "cell_type": "code",
   "execution_count": null,
   "id": "5876268f",
   "metadata": {},
   "outputs": [],
   "source": [
    "from matplotlib_venn import venn3\n",
    "plt.figure(figsize=(10,10))\n",
    "venn3([top_features_gb,top_features_rfc, top_features_xgb],('Gradient Boosting', 'Random Forest','XGBoost'),)"
   ]
  },
  {
   "cell_type": "markdown",
   "id": "a40155cb",
   "metadata": {},
   "source": []
  },
  {
   "cell_type": "markdown",
   "id": "8a887645",
   "metadata": {},
   "source": [
    "##### https://www.kaggle.com/neerajmohan/randomforest-model-with-bayesian-optimization\n",
    "##### https://towardsdatascience.com/validation-curve-explained-plot-the-influence-of-a-single-hyperparameter-1ac4864deaf8"
   ]
  },
  {
   "cell_type": "code",
   "execution_count": null,
   "id": "f2d924a7",
   "metadata": {},
   "outputs": [],
   "source": [
    "#feature importance - eda with the features"
   ]
  },
  {
   "cell_type": "code",
   "execution_count": null,
   "id": "fdcabde6",
   "metadata": {},
   "outputs": [],
   "source": []
  }
 ],
 "metadata": {
  "kernelspec": {
   "display_name": "Python 3",
   "language": "python",
   "name": "python3"
  },
  "language_info": {
   "codemirror_mode": {
    "name": "ipython",
    "version": 3
   },
   "file_extension": ".py",
   "mimetype": "text/x-python",
   "name": "python",
   "nbconvert_exporter": "python",
   "pygments_lexer": "ipython3",
   "version": "3.8.8"
  }
 },
 "nbformat": 4,
 "nbformat_minor": 5
}
