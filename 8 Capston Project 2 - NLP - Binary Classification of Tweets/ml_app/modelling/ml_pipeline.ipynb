{
 "cells": [
  {
   "cell_type": "code",
   "execution_count": null,
   "id": "134a9866",
   "metadata": {},
   "outputs": [],
   "source": [
    "from ml_app.utils.config import LR_ML_ARTIFACT_PATH\n",
    "from ml_app.utils.ml_model_management import load_model_artifacts\n",
    "from ml_app.data_processing.pre_processor import clean_tweets\n",
    "from ml_app.modelling.ml_interface import make_lr_model_predictions"
   ]
  },
  {
   "cell_type": "code",
   "execution_count": null,
   "id": "6f77052d",
   "metadata": {},
   "outputs": [],
   "source": [
    "def load_lr_ml_artifacts(path = LR_ML_ARTIFACT_PATH):\n",
    "    \n",
    "    ml_artifacts = load_model_artifacts(path = path\n",
    "                                       )\n",
    "    return ml_artifacts\n",
    "\n",
    "\n",
    "def run_lr_ml_pipeline(request_data, ml_artifacts):\n",
    "    \n",
    "    request_data = clean_tweets(tweets = request_data)\n",
    "    \n",
    "    pred_response = make_lr_model_predictions(request_df = request_data, \n",
    "                                             ml_model-artifacts = ml_artifacts)\n",
    "    \n",
    "    return pred_response "
   ]
  },
  {
   "cell_type": "code",
   "execution_count": null,
   "id": "d7eb4267",
   "metadata": {},
   "outputs": [],
   "source": []
  }
 ],
 "metadata": {
  "kernelspec": {
   "display_name": "Python 3",
   "language": "python",
   "name": "python3"
  },
  "language_info": {
   "codemirror_mode": {
    "name": "ipython",
    "version": 3
   },
   "file_extension": ".py",
   "mimetype": "text/x-python",
   "name": "python",
   "nbconvert_exporter": "python",
   "pygments_lexer": "ipython3",
   "version": "3.8.8"
  }
 },
 "nbformat": 4,
 "nbformat_minor": 5
}
