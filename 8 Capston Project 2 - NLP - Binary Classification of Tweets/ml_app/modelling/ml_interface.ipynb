{
 "cells": [
  {
   "cell_type": "code",
   "execution_count": 1,
   "id": "a562b58b",
   "metadata": {},
   "outputs": [],
   "source": [
    "def make_lr_model_predictions(request_df, ml_model_artifacts):\n",
    "    ml_model = ml_model_artifacts['lr_model']\n",
    "    \n",
    "    predictions = ml_model.predict(request_df)\n",
    "    \n",
    "    return {'predicted_classes': list(predictions)}"
   ]
  },
  {
   "cell_type": "code",
   "execution_count": null,
   "id": "5af1c209",
   "metadata": {},
   "outputs": [],
   "source": []
  }
 ],
 "metadata": {
  "kernelspec": {
   "display_name": "Python 3",
   "language": "python",
   "name": "python3"
  },
  "language_info": {
   "codemirror_mode": {
    "name": "ipython",
    "version": 3
   },
   "file_extension": ".py",
   "mimetype": "text/x-python",
   "name": "python",
   "nbconvert_exporter": "python",
   "pygments_lexer": "ipython3",
   "version": "3.8.8"
  }
 },
 "nbformat": 4,
 "nbformat_minor": 5
}
