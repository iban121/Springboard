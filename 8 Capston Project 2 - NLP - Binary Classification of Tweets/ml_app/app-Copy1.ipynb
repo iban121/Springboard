{
 "cells": [
  {
   "cell_type": "code",
   "execution_count": null,
   "id": "6b1780da",
   "metadata": {},
   "outputs": [],
   "source": [
    "from flask import Flask, request, jsonify\n",
    "#from flask_cors import CORS \n",
    "import numpy as np\n",
    "import pickle\n",
    "import sys\n",
    "import os.path\n",
    "from sklearn.feature_extraction.text import TfidfVectorizer\n",
    "#from ml_app.modeling import ml_pipeline as mp"
   ]
  },
  {
   "cell_type": "code",
   "execution_count": null,
   "id": "6c640fcc",
   "metadata": {},
   "outputs": [],
   "source": [
    "PACKAGE_PARENT = '..'\n",
    "SCRIPT_DIR = os.path.dirname(os.path.realpath(os.path.join(os.getcwd(), os.path.expanduser(__file__))))\n",
    "sys.path.append(os.path.normpath(os.path.join(SCRIPT_DIR, PACKAGE_PARENT)))\n",
    "#####"
   ]
  },
  {
   "cell_type": "code",
   "execution_count": null,
   "id": "83bbd62f",
   "metadata": {},
   "outputs": [],
   "source": [
    "app = Flask(__name__)\n",
    "#load model\n",
    "model = pickle.load(open('ML_Model.pkl', 'rb'))\n",
    "vectorizer = TfidfVectorizer(max_df = 0.25, ngram_range = (1,2))"
   ]
  },
  {
   "cell_type": "code",
   "execution_count": null,
   "id": "b9de452c",
   "metadata": {},
   "outputs": [],
   "source": [
    "@app.route('/api', method = ['POST'])\n",
    "def predict():\n",
    "    data = request.get_json(force=True)\n",
    "    prediction = model.predict(vectorizer.transform(data.value))\n",
    "    output = prediction[0]\n",
    "    return jsonify(output)"
   ]
  },
  {
   "cell_type": "code",
   "execution_count": null,
   "id": "833e21da",
   "metadata": {},
   "outputs": [],
   "source": [
    "if __name__ == '__main__':\n",
    "    app.reun(port=5000, debug=True)"
   ]
  },
  {
   "cell_type": "code",
   "execution_count": null,
   "id": "97b72682",
   "metadata": {},
   "outputs": [],
   "source": []
  },
  {
   "cell_type": "code",
   "execution_count": null,
   "id": "af04f59b",
   "metadata": {},
   "outputs": [],
   "source": []
  },
  {
   "cell_type": "markdown",
   "id": "5eeb62e7",
   "metadata": {},
   "source": [
    "https://curiousily.com/posts/deploy-keras-deep-learning-project-to-production-with-flask/"
   ]
  },
  {
   "cell_type": "code",
   "execution_count": null,
   "id": "73623999",
   "metadata": {},
   "outputs": [],
   "source": [
    "'''\n",
    "export FLASK_APP = classify.py #this is your classification model so should mine be model.py\n",
    "python -m flas run -- host = 0.0.0.0 -port = 8080 #we tell python run the flask app, host = makes available other than locally\n",
    "\n",
    "curl --data 'OPTIONS YOU NEED FOR THE DATA '\\ 'url'\n",
    "'''"
   ]
  }
 ],
 "metadata": {
  "kernelspec": {
   "display_name": "Python 3",
   "language": "python",
   "name": "python3"
  },
  "language_info": {
   "codemirror_mode": {
    "name": "ipython",
    "version": 3
   },
   "file_extension": ".py",
   "mimetype": "text/x-python",
   "name": "python",
   "nbconvert_exporter": "python",
   "pygments_lexer": "ipython3",
   "version": "3.8.8"
  }
 },
 "nbformat": 4,
 "nbformat_minor": 5
}
