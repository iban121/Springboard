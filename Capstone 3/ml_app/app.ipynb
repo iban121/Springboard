{
 "cells": [
  {
   "cell_type": "code",
   "execution_count": null,
   "id": "6b1780da",
   "metadata": {},
   "outputs": [],
   "source": [
    "from flask import Flask, request, jsonify\n",
    "from flask_cors import CORS\n",
    "import numpy as np\n",
    "import pickle\n",
    "import sys\n",
    "import os.path\n",
    "from ml_app.modelling import ml_pipeline as mp\n"
   ]
  },
  {
   "cell_type": "code",
   "execution_count": null,
   "id": "6c640fcc",
   "metadata": {},
   "outputs": [],
   "source": [
    "PACKAGE_PARENT = '..'\n",
    "SCRIPT_DIR = os.path.dirname(os.path.realpath(os.path.join(os.getcwd(), os.path.expanduser(__file__))))\n",
    "sys.path.append(os.path.normpath(os.path.join(SCRIPT_DIR, PACKAGE_PARENT)))\n",
    "#####"
   ]
  },
  {
   "cell_type": "code",
   "execution_count": null,
   "id": "3d5e15d6",
   "metadata": {},
   "outputs": [],
   "source": [
    "Headers = {'content-type': 'application/json'}"
   ]
  },
  {
   "cell_type": "code",
   "execution_count": null,
   "id": "83bbd62f",
   "metadata": {},
   "outputs": [],
   "source": [
    "app = Flask(__name__)\n",
    "CORS(app)\n",
    "#load model\n",
    "#model = pickle.load(open('ML_Model.pkl', 'rb'))"
   ]
  },
  {
   "cell_type": "code",
   "execution_count": null,
   "id": "6906c314",
   "metadata": {},
   "outputs": [],
   "source": [
    "LR_ML_ARTIFACTS = mp.load_lr_ml_artifacts()"
   ]
  },
  {
   "cell_type": "code",
   "execution_count": null,
   "id": "b3d6912a",
   "metadata": {},
   "outputs": [],
   "source": [
    "@app.route('/tweets_classifier/api/v1/liveness', methods=['GET', 'POST'])\n",
    "def liveness():\n",
    "    return 'API Live!'"
   ]
  },
  {
   "cell_type": "code",
   "execution_count": null,
   "id": "b9de452c",
   "metadata": {},
   "outputs": [],
   "source": [
    "@app.route('/tweet_classifier/api/v1/predict', method = ['POST'])\n",
    "def predict():\n",
    "    data = request.get_json(force=True)\n",
    "    response = mp.run_lr_ml_pipeline(data, LR_ML_ARTIFACTS)\n",
    "    return jsonify(output)"
   ]
  },
  {
   "cell_type": "code",
   "execution_count": null,
   "id": "833e21da",
   "metadata": {},
   "outputs": [],
   "source": [
    "if __name__ == '__main__':\n",
    "    app.reun(port=5000, debug=True, host = '0.0.0.0')"
   ]
  }
 ],
 "metadata": {
  "kernelspec": {
   "display_name": "Python 3",
   "language": "python",
   "name": "python3"
  },
  "language_info": {
   "codemirror_mode": {
    "name": "ipython",
    "version": 3
   },
   "file_extension": ".py",
   "mimetype": "text/x-python",
   "name": "python",
   "nbconvert_exporter": "python",
   "pygments_lexer": "ipython3",
   "version": "3.8.8"
  }
 },
 "nbformat": 4,
 "nbformat_minor": 5
}
