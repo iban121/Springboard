{
 "cells": [
  {
   "cell_type": "code",
   "execution_count": null,
   "id": "f3011933",
   "metadata": {},
   "outputs": [],
   "source": [
    "import os\n",
    "\n",
    "PARENT_DIR = os.path.dirname(os.path.dirname(os.path.realpath(__file__))) # get location of parent dir automatically\n",
    "LR_ML_ARTIFACT_PATH = PARENT_DIR+'/saved_models/ML_Model.pkl'\n",
    "\n",
    "\n",
    "MODEL_HISTORY = {\n",
    "    'version_1': {\n",
    "        'model_type' : 'Logistic Regression',\n",
    "        'model_artifact_location': LR_ML_ARTIFACT_PATH\n",
    "    }\n",
    "}\n",
    "    "
   ]
  }
 ],
 "metadata": {
  "kernelspec": {
   "display_name": "Python 3",
   "language": "python",
   "name": "python3"
  },
  "language_info": {
   "codemirror_mode": {
    "name": "ipython",
    "version": 3
   },
   "file_extension": ".py",
   "mimetype": "text/x-python",
   "name": "python",
   "nbconvert_exporter": "python",
   "pygments_lexer": "ipython3",
   "version": "3.8.8"
  }
 },
 "nbformat": 4,
 "nbformat_minor": 5
}
