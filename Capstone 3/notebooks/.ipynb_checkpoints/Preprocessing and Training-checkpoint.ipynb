{
 "cells": [
  {
   "cell_type": "markdown",
   "id": "4a273b6e",
   "metadata": {},
   "source": [
    "# Processing and Training \n",
    "\n",
    "Now, we've explored the tweets, cleaned up our text, and extracted numerical features from them, we have to prepare our tweets for machine learning algorithms and for a deep learning neural network. \n",
    "\n",
    "## 1. Machine Learning Algorithms for Binary Classification\n",
    "\n",
    "First, we will try and determine an optimal ML model which has high degree of accuracy in classifying whether a tweet is of a real disaster or non related disasters. As this is a binary classification model, we will use a series of classification models, optimize them using GridSearchCV, and then evaluate them using the classification report, confusion matrix, Matthew's correlation coefficient, and the area under the curve of the Receiver Operating Characteristics curve. <br>\n",
    "**Models**\n",
    "> Multinomial Naive Bayes Classifier <br>\n",
    "> Logistic Regression <br>\n",
    "> K Nearest Neighbours Classifier <br>\n",
    "> Random Forest Classifier <br>\n",
    "> Gradient Boosting Classifer <br>\n",
    "> XGBoost Classifer <br>\n",
    "\n",
    "### 1.1  Imports"
   ]
  },
  {
   "cell_type": "code",
   "execution_count": 1,
   "id": "56322cbd",
   "metadata": {},
   "outputs": [],
   "source": [
    "import pandas as pd\n",
    "import numpy as np\n",
    "import matplotlib.pyplot as plt\n",
    "%matplotlib inline\n",
    "import seaborn as sns\n",
    "import spacy\n",
    "\n",
    "from sklearn.feature_extraction.text import CountVectorizer, TfidfVectorizer, TfidfTransformer \n",
    "from sklearn.model_selection import train_test_split, GridSearchCV, cross_validate\n",
    "from sklearn.metrics import confusion_matrix, classification_report, matthews_corrcoef, roc_auc_score, roc_curve, auc, f1_score, recall_score, precision_score, accuracy_score\n",
    "from sklearn.pipeline import Pipeline\n",
    "\n",
    "#Classifiers\n",
    "from sklearn.svm import SVC\n",
    "from sklearn.naive_bayes import MultinomialNB\n",
    "from sklearn.linear_model import LogisticRegression, SGDClassifier\n",
    "from sklearn.neighbors import KNeighborsClassifier\n",
    "from sklearn.ensemble import RandomForestClassifier, GradientBoostingClassifier\n",
    "from xgboost import XGBClassifier\n",
    "\n",
    "#reproducibility\n",
    "import os\n",
    "\n",
    "rs = {'random_state': 10}\n",
    "\n",
    "from sklearn.base import BaseEstimator\n",
    "import warnings\n",
    "warnings.filterwarnings('ignore')\n",
    "\n",
    "random_seed = 10\n",
    "\n",
    "np.random.seed(random_seed)"
   ]
  },
  {
   "cell_type": "code",
   "execution_count": 2,
   "id": "a2e569af",
   "metadata": {},
   "outputs": [],
   "source": [
    "data = pd.read_csv('tweets.csv', index_col=0)"
   ]
  },
  {
   "cell_type": "code",
   "execution_count": 3,
   "id": "640099ac",
   "metadata": {},
   "outputs": [
    {
     "data": {
      "text/html": [
       "<div>\n",
       "<style scoped>\n",
       "    .dataframe tbody tr th:only-of-type {\n",
       "        vertical-align: middle;\n",
       "    }\n",
       "\n",
       "    .dataframe tbody tr th {\n",
       "        vertical-align: top;\n",
       "    }\n",
       "\n",
       "    .dataframe thead th {\n",
       "        text-align: right;\n",
       "    }\n",
       "</style>\n",
       "<table border=\"1\" class=\"dataframe\">\n",
       "  <thead>\n",
       "    <tr style=\"text-align: right;\">\n",
       "      <th></th>\n",
       "      <th>text</th>\n",
       "      <th>target</th>\n",
       "      <th>num_hashtags</th>\n",
       "      <th>hashtags</th>\n",
       "      <th>num_mentions</th>\n",
       "      <th>mentions</th>\n",
       "      <th>emojis</th>\n",
       "      <th>num_chars</th>\n",
       "      <th>num_words</th>\n",
       "      <th>mean_word_length</th>\n",
       "      <th>num_proper_nouns</th>\n",
       "      <th>num_nouns</th>\n",
       "      <th>tokens</th>\n",
       "      <th>lemmas</th>\n",
       "    </tr>\n",
       "  </thead>\n",
       "  <tbody>\n",
       "    <tr>\n",
       "      <th>0</th>\n",
       "      <td>deeds earthquake allah forgive</td>\n",
       "      <td>1</td>\n",
       "      <td>1</td>\n",
       "      <td>['#earthquake']</td>\n",
       "      <td>0</td>\n",
       "      <td>[]</td>\n",
       "      <td>0</td>\n",
       "      <td>68</td>\n",
       "      <td>13</td>\n",
       "      <td>4.307692</td>\n",
       "      <td>0</td>\n",
       "      <td>2</td>\n",
       "      <td>['deeds', 'earthquake', 'allah', 'forgive']</td>\n",
       "      <td>['deed', 'earthquake', 'allah', 'forgive']</td>\n",
       "    </tr>\n",
       "    <tr>\n",
       "      <th>1</th>\n",
       "      <td>near ronge sask canada</td>\n",
       "      <td>1</td>\n",
       "      <td>0</td>\n",
       "      <td>[]</td>\n",
       "      <td>0</td>\n",
       "      <td>[]</td>\n",
       "      <td>0</td>\n",
       "      <td>37</td>\n",
       "      <td>7</td>\n",
       "      <td>4.428571</td>\n",
       "      <td>0</td>\n",
       "      <td>3</td>\n",
       "      <td>['near', 'ronge', 'sask', 'canada']</td>\n",
       "      <td>['near', 'ronge', 'sask', 'canada']</td>\n",
       "    </tr>\n",
       "    <tr>\n",
       "      <th>2</th>\n",
       "      <td>residents asked shelter notified officers shel...</td>\n",
       "      <td>1</td>\n",
       "      <td>0</td>\n",
       "      <td>[]</td>\n",
       "      <td>0</td>\n",
       "      <td>[]</td>\n",
       "      <td>0</td>\n",
       "      <td>130</td>\n",
       "      <td>22</td>\n",
       "      <td>4.954545</td>\n",
       "      <td>0</td>\n",
       "      <td>5</td>\n",
       "      <td>['residents', 'asked', 'shelter', 'notified', ...</td>\n",
       "      <td>['resident', 'asked', 'shelter', 'notified', '...</td>\n",
       "    </tr>\n",
       "    <tr>\n",
       "      <th>3</th>\n",
       "      <td>receive wildfires orders california</td>\n",
       "      <td>1</td>\n",
       "      <td>1</td>\n",
       "      <td>['#wildfires']</td>\n",
       "      <td>0</td>\n",
       "      <td>[]</td>\n",
       "      <td>0</td>\n",
       "      <td>56</td>\n",
       "      <td>7</td>\n",
       "      <td>7.142857</td>\n",
       "      <td>0</td>\n",
       "      <td>2</td>\n",
       "      <td>['receive', 'wildfires', 'orders', 'california']</td>\n",
       "      <td>['receive', 'wildfire', 'order', 'california']</td>\n",
       "    </tr>\n",
       "    <tr>\n",
       "      <th>4</th>\n",
       "      <td>sent ruby alaska wildfires pours</td>\n",
       "      <td>1</td>\n",
       "      <td>2</td>\n",
       "      <td>['#Alaska', '#wildfires']</td>\n",
       "      <td>0</td>\n",
       "      <td>[]</td>\n",
       "      <td>0</td>\n",
       "      <td>85</td>\n",
       "      <td>16</td>\n",
       "      <td>4.375000</td>\n",
       "      <td>0</td>\n",
       "      <td>3</td>\n",
       "      <td>['sent', 'ruby', 'alaska', 'wildfires', 'pours']</td>\n",
       "      <td>['sent', 'ruby', 'alaska', 'wildfire', 'pours']</td>\n",
       "    </tr>\n",
       "  </tbody>\n",
       "</table>\n",
       "</div>"
      ],
      "text/plain": [
       "                                                text  target  num_hashtags  \\\n",
       "0                     deeds earthquake allah forgive       1             1   \n",
       "1                             near ronge sask canada       1             0   \n",
       "2  residents asked shelter notified officers shel...       1             0   \n",
       "3                receive wildfires orders california       1             1   \n",
       "4                   sent ruby alaska wildfires pours       1             2   \n",
       "\n",
       "                    hashtags  num_mentions mentions  emojis  num_chars  \\\n",
       "0            ['#earthquake']             0       []       0         68   \n",
       "1                         []             0       []       0         37   \n",
       "2                         []             0       []       0        130   \n",
       "3             ['#wildfires']             0       []       0         56   \n",
       "4  ['#Alaska', '#wildfires']             0       []       0         85   \n",
       "\n",
       "   num_words  mean_word_length  num_proper_nouns  num_nouns  \\\n",
       "0         13          4.307692                 0          2   \n",
       "1          7          4.428571                 0          3   \n",
       "2         22          4.954545                 0          5   \n",
       "3          7          7.142857                 0          2   \n",
       "4         16          4.375000                 0          3   \n",
       "\n",
       "                                              tokens  \\\n",
       "0        ['deeds', 'earthquake', 'allah', 'forgive']   \n",
       "1                ['near', 'ronge', 'sask', 'canada']   \n",
       "2  ['residents', 'asked', 'shelter', 'notified', ...   \n",
       "3   ['receive', 'wildfires', 'orders', 'california']   \n",
       "4   ['sent', 'ruby', 'alaska', 'wildfires', 'pours']   \n",
       "\n",
       "                                              lemmas  \n",
       "0         ['deed', 'earthquake', 'allah', 'forgive']  \n",
       "1                ['near', 'ronge', 'sask', 'canada']  \n",
       "2  ['resident', 'asked', 'shelter', 'notified', '...  \n",
       "3     ['receive', 'wildfire', 'order', 'california']  \n",
       "4    ['sent', 'ruby', 'alaska', 'wildfire', 'pours']  "
      ]
     },
     "execution_count": 3,
     "metadata": {},
     "output_type": "execute_result"
    }
   ],
   "source": [
    "data.head()"
   ]
  },
  {
   "cell_type": "markdown",
   "id": "825118eb",
   "metadata": {},
   "source": [
    "### 1.2  Dataframe of Models \n",
    "We shall save our models in a dataframe so we can later assess the best suitable model to use for deployment. "
   ]
  },
  {
   "cell_type": "code",
   "execution_count": 68,
   "id": "cee08e89",
   "metadata": {},
   "outputs": [],
   "source": [
    "column_names = ['Classifier', 'Parameters' ,'F1', 'MCC', 'Accuracy', 'ROC_AUC', 'Recall',]\n",
    "models = pd.DataFrame(columns= column_names)"
   ]
  },
  {
   "cell_type": "markdown",
   "id": "ae57f139",
   "metadata": {},
   "source": [
    "### 1.3 Text Preprocessing for Machine Learning Algorithms \n",
    "\n",
    "We can essentially drop all our columns apart from the target classes and the lemmas. Then, we must vectorize our lemmas before tranforming and fitting the numericalised data into ML algorithms. "
   ]
  },
  {
   "cell_type": "code",
   "execution_count": 5,
   "id": "d7dc0c4e",
   "metadata": {},
   "outputs": [
    {
     "data": {
      "text/plain": [
       "Index(['text', 'target', 'num_hashtags', 'hashtags', 'num_mentions',\n",
       "       'mentions', 'emojis', 'num_chars', 'num_words', 'mean_word_length',\n",
       "       'num_proper_nouns', 'num_nouns', 'tokens', 'lemmas'],\n",
       "      dtype='object')"
      ]
     },
     "execution_count": 5,
     "metadata": {},
     "output_type": "execute_result"
    }
   ],
   "source": [
    "data.columns"
   ]
  },
  {
   "cell_type": "code",
   "execution_count": 6,
   "id": "e9b744dc",
   "metadata": {},
   "outputs": [],
   "source": [
    "data = data.drop(['text','num_hashtags', 'hashtags', 'num_mentions',\n",
    "       'mentions', 'emojis', 'num_chars', 'num_words', 'mean_word_length',\n",
    "       'num_proper_nouns', 'num_nouns', 'tokens'], axis = 1)"
   ]
  },
  {
   "cell_type": "code",
   "execution_count": 7,
   "id": "1d034055",
   "metadata": {},
   "outputs": [
    {
     "data": {
      "text/html": [
       "<div>\n",
       "<style scoped>\n",
       "    .dataframe tbody tr th:only-of-type {\n",
       "        vertical-align: middle;\n",
       "    }\n",
       "\n",
       "    .dataframe tbody tr th {\n",
       "        vertical-align: top;\n",
       "    }\n",
       "\n",
       "    .dataframe thead th {\n",
       "        text-align: right;\n",
       "    }\n",
       "</style>\n",
       "<table border=\"1\" class=\"dataframe\">\n",
       "  <thead>\n",
       "    <tr style=\"text-align: right;\">\n",
       "      <th></th>\n",
       "      <th>target</th>\n",
       "      <th>lemmas</th>\n",
       "    </tr>\n",
       "  </thead>\n",
       "  <tbody>\n",
       "    <tr>\n",
       "      <th>0</th>\n",
       "      <td>1</td>\n",
       "      <td>['deed', 'earthquake', 'allah', 'forgive']</td>\n",
       "    </tr>\n",
       "    <tr>\n",
       "      <th>1</th>\n",
       "      <td>1</td>\n",
       "      <td>['near', 'ronge', 'sask', 'canada']</td>\n",
       "    </tr>\n",
       "  </tbody>\n",
       "</table>\n",
       "</div>"
      ],
      "text/plain": [
       "   target                                      lemmas\n",
       "0       1  ['deed', 'earthquake', 'allah', 'forgive']\n",
       "1       1         ['near', 'ronge', 'sask', 'canada']"
      ]
     },
     "execution_count": 7,
     "metadata": {},
     "output_type": "execute_result"
    }
   ],
   "source": [
    "data.head(2)"
   ]
  },
  {
   "cell_type": "markdown",
   "id": "7d753c2f",
   "metadata": {},
   "source": [
    "### 1.4  Baseline Model - Naive Bayes Classifier"
   ]
  },
  {
   "cell_type": "code",
   "execution_count": 8,
   "id": "31f8916c",
   "metadata": {},
   "outputs": [
    {
     "name": "stdout",
     "output_type": "stream",
     "text": [
      "Fitting 2 folds for each of 12 candidates, totalling 24 fits\n",
      "Best parameters set: [('vect', TfidfVectorizer(max_df=0.25)), ('clf', MultinomialNB())]\n"
     ]
    }
   ],
   "source": [
    "X= data['lemmas'].values\n",
    "y = data['target'].values\n",
    "X_train, X_test, y_train, y_test = train_test_split(X, y, test_size=0.2)\n",
    "\n",
    "pipeline = Pipeline([\n",
    "    ('vect', TfidfVectorizer()), \n",
    "    ('clf', MultinomialNB(fit_prior=True, class_prior=None))\n",
    "])\n",
    "parameters = {\n",
    "    'vect__ngram_range': [(1, 1), (1, 2), (1, 3)],\n",
    "    'vect__max_df': [0.01, 0.25, 0.1, 0.5]\n",
    "}\n",
    "grid_search_tune = GridSearchCV(pipeline, parameters, cv=2, n_jobs=2, verbose=3)\n",
    "grid_search_tune.fit(X_train, y_train)\n",
    "\n",
    "print(\"Best parameters set:\", grid_search_tune.best_estimator_.steps)"
   ]
  },
  {
   "cell_type": "code",
   "execution_count": 9,
   "id": "5624c354",
   "metadata": {},
   "outputs": [],
   "source": [
    "def evaluation(model):\n",
    "    prediction = model.predict(X_test)\n",
    "    #classification report\n",
    "    print('Classification Report: \\n',classification_report(y_test, prediction))\n",
    "    #confusion matrix\n",
    "    target_classes = ['Not Disaster', 'Disaster']\n",
    "    sns.heatmap(confusion_matrix(y_test, prediction), annot= True, cbar= False, xticklabels = target_classes, yticklabels= target_classes)\n",
    "    # ROC \n",
    "    fpr, tpr, thresholds = roc_curve(y_test, prediction)\n",
    "    roc_auc = auc(fpr, tpr)\n",
    "    plt.figure()\n",
    "    plt.plot(fpr, tpr, color='darkorange', lw=1, label='ROC curve (area = %0.2f)' % roc_auc)\n",
    "    plt.xlim([0.0, 1.0])\n",
    "    plt.ylim([0.0, 1.05])\n",
    "    plt.xlabel('False Positive Rate')\n",
    "    plt.ylabel('True Positive Rate')\n",
    "    plt.title('ROC CURVE')\n",
    "    plt.legend(loc=\"lower right\")\n",
    "    plt.show()    "
   ]
  },
  {
   "cell_type": "code",
   "execution_count": 10,
   "id": "963580b8",
   "metadata": {},
   "outputs": [
    {
     "name": "stdout",
     "output_type": "stream",
     "text": [
      "Classification Report: \n",
      "               precision    recall  f1-score   support\n",
      "\n",
      "           0       0.76      0.89      0.82       861\n",
      "           1       0.81      0.64      0.72       662\n",
      "\n",
      "    accuracy                           0.78      1523\n",
      "   macro avg       0.79      0.76      0.77      1523\n",
      "weighted avg       0.78      0.78      0.77      1523\n",
      "\n"
     ]
    },
    {
     "data": {
      "image/png": "[encoded data removed]",
      "text/plain": [
       "<Figure size 432x288 with 1 Axes>"
      ]
     },
     "metadata": {
      "needs_background": "light"
     },
     "output_type": "display_data"
    },
    {
     "data": {
      "image/png": "[encoded data removed]",
      "text/plain": [
       "<Figure size 432x288 with 1 Axes>"
      ]
     },
     "metadata": {
      "needs_background": "light"
     },
     "output_type": "display_data"
    }
   ],
   "source": [
    "evaluation(grid_search_tune)"
   ]
  },
  {
   "cell_type": "code",
   "execution_count": 11,
   "id": "87231f5b",
   "metadata": {},
   "outputs": [],
   "source": [
    "def metrics_table(model_name, model):\n",
    "    prediction = model.predict(X_test)\n",
    "    summary = {'Classifier' : model_name,\n",
    "               'F1': f1_score(y_test,prediction),\n",
    "               'MCC': matthews_corrcoef(y_test, prediction),\n",
    "               'Accuracy': accuracy_score(y_test, prediction),\n",
    "               'ROC_AUC': roc_auc_score(y_test, prediction),\n",
    "               'Recall' : recall_score(y_test, prediction),\n",
    "               'Parameters': model.best_estimator_.steps\n",
    "        }\n"
   ]
  },
  {
   "cell_type": "code",
   "execution_count": null,
   "id": "c820bb4f",
   "metadata": {},
   "outputs": [],
   "source": [
    "# let's store the model speficiations and the evaluation metrics so we can later concat this into our results dataframe. \n",
    "NBC = metrics_table(model_name = 'Naive Bayes Classifier',\n",
    "             model=grid_search_tune)"
   ]
  },
  {
   "cell_type": "markdown",
   "id": "f7af44dc",
   "metadata": {},
   "source": [
    "### 1. 5 Train Test Split\n",
    "Now let's split the data into 80:20, where 80% of our data will form the training set and the remaining will form out validation sets. "
   ]
  },
  {
   "cell_type": "code",
   "execution_count": 12,
   "id": "3448af78",
   "metadata": {},
   "outputs": [],
   "source": [
    "X= data['lemmas'].values\n",
    "y = data['target'].values\n",
    "X_train, X_test, y_train, y_test = train_test_split(X, y, test_size=0.2)"
   ]
  },
  {
   "cell_type": "markdown",
   "id": "00fc109b",
   "metadata": {},
   "source": [
    "### 1.6 Vectorize and Tranform Data\n",
    "We used TFIDF earlier alongside the Count Vectorizer to identify our stopwords. From the multinomial naive bayes model it was identified that n_gram (1,2) is optimal and max_df = 0.25. So we shall use these parameters going forwards. "
   ]
  },
  {
   "cell_type": "code",
   "execution_count": 13,
   "id": "27a502c6",
   "metadata": {},
   "outputs": [],
   "source": [
    "tfidf_vectorizer = TfidfVectorizer(max_df = 0.25, ngram_range = (1,2))\n",
    "X_train = tfidf_vectorizer.fit_transform(X_train)\n",
    "X_test = tfidf_vectorizer.transform(X_test)"
   ]
  },
  {
   "cell_type": "markdown",
   "id": "99f32730",
   "metadata": {},
   "source": [
    "### 1.7  Machine Learning Classification Models\n",
    "#### 1.7.1 Logistic Regression"
   ]
  },
  {
   "cell_type": "code",
   "execution_count": 14,
   "id": "c8d4ff92",
   "metadata": {},
   "outputs": [
    {
     "name": "stdout",
     "output_type": "stream",
     "text": [
      "Best parameters  {'C': 10.0, 'penalty': 'l2', 'solver': 'liblinear'}\n"
     ]
    }
   ],
   "source": [
    "parameters ={\"C\":np.logspace(-3,3,7), \"penalty\":[\"l1\",\"l2\"], 'solver'  : ['newton-cg', 'lbfgs', 'liblinear']}# l1 lasso l2 ridge\n",
    "model_log=LogisticRegression(random_state = 10)\n",
    "model_log_grid=GridSearchCV(model_log,parameters,cv=10)\n",
    "model_log_grid.fit(X_train,y_train)\n",
    "predictions_logreg_grid = model_log_grid.predict(X_test)\n",
    "print(\"Best parameters \",model_log_grid.best_params_)"
   ]
  },
  {
   "cell_type": "code",
   "execution_count": 15,
   "id": "1900947c",
   "metadata": {},
   "outputs": [
    {
     "name": "stdout",
     "output_type": "stream",
     "text": [
      "Classification Report: \n",
      "               precision    recall  f1-score   support\n",
      "\n",
      "           0       0.77      0.89      0.83       839\n",
      "           1       0.83      0.68      0.75       684\n",
      "\n",
      "    accuracy                           0.79      1523\n",
      "   macro avg       0.80      0.78      0.79      1523\n",
      "weighted avg       0.80      0.79      0.79      1523\n",
      "\n"
     ]
    },
    {
     "data": {
      "image/png": "[encoded data removed]",
      "text/plain": [
       "<Figure size 432x288 with 1 Axes>"
      ]
     },
     "metadata": {
      "needs_background": "light"
     },
     "output_type": "display_data"
    },
    {
     "data": {
      "image/png": "[encoded data removed]",
      "text/plain": [
       "<Figure size 432x288 with 1 Axes>"
      ]
     },
     "metadata": {
      "needs_background": "light"
     },
     "output_type": "display_data"
    }
   ],
   "source": [
    "evaluation(model_log_grid)"
   ]
  },
  {
   "cell_type": "code",
   "execution_count": 16,
   "id": "6223f2c5",
   "metadata": {},
   "outputs": [],
   "source": [
    "def metrics_table(model_name, model):\n",
    "    prediction = model.predict(X_test)\n",
    "    summary = {'Classifier' : model_name,\n",
    "               'F1': f1_score(y_test,prediction),\n",
    "               'MCC': matthews_corrcoef(y_test, prediction),\n",
    "               'Accuracy': accuracy_score(y_test, prediction),\n",
    "               'ROC_AUC': roc_auc_score(y_test, prediction),\n",
    "               'Recall' : recall_score(y_test, prediction),\n",
    "               'Parameters': model.best_params_\n",
    "        }\n",
    "    return models.append(summary, ignore_index=True)\n",
    "LR = metrics_table(model_name = 'Logistic Regression',\n",
    "             model=model_log_grid)"
   ]
  },
  {
   "cell_type": "markdown",
   "id": "c67ef374",
   "metadata": {},
   "source": [
    "#### 1.7.2 K Nearest Neighbors Classifier"
   ]
  },
  {
   "cell_type": "code",
   "execution_count": 17,
   "id": "1c208626",
   "metadata": {},
   "outputs": [
    {
     "data": {
      "text/plain": [
       "GridSearchCV(cv=10, estimator=KNeighborsClassifier(),\n",
       "             param_grid={'leaf_size': [1, 2, 3, 4, 5, 6, 7, 8, 9, 10, 11, 12,\n",
       "                                       13, 14],\n",
       "                         'n_neighbors': [1, 2, 3, 4, 5, 6, 7, 8, 9, 10, 11, 12,\n",
       "                                         13, 14],\n",
       "                         'p': [1, 2]})"
      ]
     },
     "execution_count": 17,
     "metadata": {},
     "output_type": "execute_result"
    }
   ],
   "source": [
    "#parameters for KNN\n",
    "parameters = {'leaf_size':list(range(1,15)), 'n_neighbors':list(range(1,15)), 'p':[1,2]}\n",
    "knn_best_param = KNeighborsClassifier()\n",
    "knn_best_param_grid = GridSearchCV(knn_best_param, parameters, cv=10)\n",
    "knn_best_param_grid.fit(X_train,y_train)"
   ]
  },
  {
   "cell_type": "code",
   "execution_count": 18,
   "id": "2f61707a",
   "metadata": {},
   "outputs": [
    {
     "name": "stdout",
     "output_type": "stream",
     "text": [
      "Classification Report: \n",
      "               precision    recall  f1-score   support\n",
      "\n",
      "           0       0.64      0.96      0.76       839\n",
      "           1       0.87      0.32      0.47       684\n",
      "\n",
      "    accuracy                           0.67      1523\n",
      "   macro avg       0.75      0.64      0.62      1523\n",
      "weighted avg       0.74      0.67      0.63      1523\n",
      "\n"
     ]
    },
    {
     "data": {
      "image/png": "[encoded data removed]",
      "text/plain": [
       "<Figure size 432x288 with 1 Axes>"
      ]
     },
     "metadata": {
      "needs_background": "light"
     },
     "output_type": "display_data"
    },
    {
     "data": {
      "image/png": "[encoded data removed]",
      "text/plain": [
       "<Figure size 432x288 with 1 Axes>"
      ]
     },
     "metadata": {
      "needs_background": "light"
     },
     "output_type": "display_data"
    }
   ],
   "source": [
    "evaluation(knn_best_param_grid)\n"
   ]
  },
  {
   "cell_type": "code",
   "execution_count": 19,
   "id": "af5eb1ff",
   "metadata": {},
   "outputs": [],
   "source": [
    "KNN = metrics_table(model_name = 'KNN',\n",
    "             model=knn_best_param_grid)"
   ]
  },
  {
   "cell_type": "markdown",
   "id": "fea8ebac",
   "metadata": {},
   "source": [
    "#### 1.7.3 Random Forest Classifier"
   ]
  },
  {
   "cell_type": "code",
   "execution_count": 20,
   "id": "de7d83d8",
   "metadata": {},
   "outputs": [
    {
     "data": {
      "text/plain": [
       "GridSearchCV(cv=10, estimator=RandomForestClassifier(random_state=10),\n",
       "             param_grid={'max_depth': array([1, 2, 3, 4, 5, 6, 7, 8, 9]),\n",
       "                         'n_estimators': array([ 1,  2,  3,  4,  5,  6,  7,  8,  9, 10, 11, 12, 13, 14, 15, 16, 17,\n",
       "       18, 19, 20, 21, 22, 23, 24, 25, 26, 27, 28, 29, 30, 31, 32, 33, 34,\n",
       "       35, 36, 37, 38, 39, 40, 41, 42, 43, 44, 45, 46, 47, 48, 49])})"
      ]
     },
     "execution_count": 20,
     "metadata": {},
     "output_type": "execute_result"
    }
   ],
   "source": [
    "parameters = {'n_estimators':np.arange(1,50), 'max_depth': np.arange(1,10)}\n",
    "model_rfc_grid = RandomForestClassifier(random_state = 10)\n",
    "model_rfc_grid_cv = GridSearchCV(model_rfc_grid, parameters, cv=10)\n",
    "model_rfc_grid_cv.fit(X_train,y_train)"
   ]
  },
  {
   "cell_type": "code",
   "execution_count": 21,
   "id": "1082c38c",
   "metadata": {},
   "outputs": [
    {
     "name": "stdout",
     "output_type": "stream",
     "text": [
      "Classification Report: \n",
      "               precision    recall  f1-score   support\n",
      "\n",
      "           0       0.60      0.99      0.74       839\n",
      "           1       0.94      0.17      0.29       684\n",
      "\n",
      "    accuracy                           0.62      1523\n",
      "   macro avg       0.77      0.58      0.52      1523\n",
      "weighted avg       0.75      0.62      0.54      1523\n",
      "\n"
     ]
    },
    {
     "data": {
      "image/png": "[encoded data removed]",
      "text/plain": [
       "<Figure size 432x288 with 1 Axes>"
      ]
     },
     "metadata": {
      "needs_background": "light"
     },
     "output_type": "display_data"
    },
    {
     "data": {
      "image/png": "[encoded data removed]",
      "text/plain": [
       "<Figure size 432x288 with 1 Axes>"
      ]
     },
     "metadata": {
      "needs_background": "light"
     },
     "output_type": "display_data"
    }
   ],
   "source": [
    "evaluation(model_rfc_grid_cv)\n",
    "\n",
    "RFC = metrics_table(model_name = 'Random Forest',\n",
    "             model=model_rfc_grid_cv)"
   ]
  },
  {
   "cell_type": "markdown",
   "id": "2f718561",
   "metadata": {},
   "source": [
    "#### 1.7.4 Gradient Boosting Classifier"
   ]
  },
  {
   "cell_type": "code",
   "execution_count": 22,
   "id": "d6c15abc",
   "metadata": {},
   "outputs": [
    {
     "data": {
      "text/plain": [
       "GridSearchCV(cv=10, estimator=GradientBoostingClassifier(), n_jobs=1,\n",
       "             param_grid={'learning_rate': [0.01, 0.025, 0.05, 0.075, 0.1, 0.15,\n",
       "                                           0.2],\n",
       "                         'max_depth': [3, 5, 8], 'n_estimators': [10]})"
      ]
     },
     "execution_count": 22,
     "metadata": {},
     "output_type": "execute_result"
    }
   ],
   "source": [
    "parameters = {'learning_rate': [0.01, 0.025, 0.05, 0.075, 0.1, 0.15, 0.2],\n",
    "              'n_estimators': [10],\n",
    "             'max_depth': [3,5,8]}\n",
    "model_gb_grid_cv = GridSearchCV(GradientBoostingClassifier(), parameters, refit = True, cv=10, n_jobs =1)\n",
    "model_gb_grid_cv.fit(X_train,y_train)"
   ]
  },
  {
   "cell_type": "code",
   "execution_count": 23,
   "id": "051a1e50",
   "metadata": {},
   "outputs": [],
   "source": [
    "GBC = metrics_table(model_name = 'Gradient Boosting Classifier',\n",
    "             model=model_gb_grid_cv)"
   ]
  },
  {
   "cell_type": "code",
   "execution_count": null,
   "id": "e3044d91",
   "metadata": {},
   "outputs": [],
   "source": []
  },
  {
   "cell_type": "markdown",
   "id": "591d327f",
   "metadata": {},
   "source": [
    "#### 1.7.4 XGBoost Classifier"
   ]
  },
  {
   "cell_type": "code",
   "execution_count": 24,
   "id": "60648286",
   "metadata": {},
   "outputs": [
    {
     "data": {
      "text/plain": [
       "GridSearchCV(cv=2,\n",
       "             estimator=XGBClassifier(base_score=None, booster=None,\n",
       "                                     colsample_bylevel=None,\n",
       "                                     colsample_bynode=None,\n",
       "                                     colsample_bytree=None,\n",
       "                                     enable_categorical=False,\n",
       "                                     eval_metric='mlogloss', gamma=None,\n",
       "                                     gpu_id=None, importance_type=None,\n",
       "                                     interaction_constraints=None,\n",
       "                                     learning_rate=None, max_delta_step=None,\n",
       "                                     max_depth=None, min_child_weight=None,\n",
       "                                     missing=nan, monotone_constraints=None,\n",
       "                                     n_estimators=100, n_jobs=None,\n",
       "                                     num_parallel_tree=None, predictor=None,\n",
       "                                     random_state=None, reg_alpha=None,\n",
       "                                     reg_lambda=None, scale_pos_weight=None,\n",
       "                                     subsample=None, tree_method=None,\n",
       "                                     validate_parameters=None, verbosity=None),\n",
       "             n_jobs=-1,\n",
       "             param_grid={'gamma': [1, 2], 'learning_rate': [0.1],\n",
       "                         'max_depth': [7, 10, 15, 20],\n",
       "                         'n_estimators': [10, 20]})"
      ]
     },
     "execution_count": 24,
     "metadata": {},
     "output_type": "execute_result"
    }
   ],
   "source": [
    "parameters =  {'learning_rate': [0.1], \n",
    "              'max_depth': [7,10,15,20],\n",
    "              'n_estimators': [10,20], \n",
    "               \"gamma\": [1,2]}\n",
    "model_xgb_grid_cv = GridSearchCV(XGBClassifier(eval_metric= 'mlogloss'), parameters, cv=2, n_jobs =-1)\n",
    "model_xgb_grid_cv.fit(X_train,y_train)"
   ]
  },
  {
   "cell_type": "code",
   "execution_count": 25,
   "id": "e88080f7",
   "metadata": {},
   "outputs": [
    {
     "name": "stdout",
     "output_type": "stream",
     "text": [
      "Classification Report: \n",
      "               precision    recall  f1-score   support\n",
      "\n",
      "           0       0.65      0.98      0.78       839\n",
      "           1       0.93      0.36      0.52       684\n",
      "\n",
      "    accuracy                           0.70      1523\n",
      "   macro avg       0.79      0.67      0.65      1523\n",
      "weighted avg       0.77      0.70      0.66      1523\n",
      "\n"
     ]
    },
    {
     "data": {
      "image/png": "[encoded data removed]",
      "text/plain": [
       "<Figure size 432x288 with 1 Axes>"
      ]
     },
     "metadata": {
      "needs_background": "light"
     },
     "output_type": "display_data"
    },
    {
     "data": {
      "image/png": "[encoded data removed]",
      "text/plain": [
       "<Figure size 432x288 with 1 Axes>"
      ]
     },
     "metadata": {
      "needs_background": "light"
     },
     "output_type": "display_data"
    }
   ],
   "source": [
    "evaluation(model_xgb_grid_cv)\n",
    "\n",
    "XGB = metrics_table(model_name = 'XGBoost',\n",
    "             model=model_xgb_grid_cv)"
   ]
  },
  {
   "cell_type": "markdown",
   "id": "6b677537",
   "metadata": {},
   "source": [
    "### 1.8 Conclusions "
   ]
  },
  {
   "cell_type": "code",
   "execution_count": 70,
   "id": "720bf686",
   "metadata": {},
   "outputs": [],
   "source": [
    "models = pd.concat([models, GBC,XGB, RFC, KNN, LR, NBC], axis = 0).reset_index()"
   ]
  },
  {
   "cell_type": "code",
   "execution_count": 71,
   "id": "083b23ba",
   "metadata": {},
   "outputs": [],
   "source": [
    "models = models.drop('index', axis = 1)"
   ]
  },
  {
   "cell_type": "code",
   "execution_count": 72,
   "id": "ec74ed40",
   "metadata": {},
   "outputs": [],
   "source": [
    "models = models.sort_values(by=['Accuracy', 'ROC_AUC', 'MCC'], axis = 0, ascending=[False, False, False], inplace=False, ignore_index=True, key=None )"
   ]
  },
  {
   "cell_type": "code",
   "execution_count": 73,
   "id": "71bb4f28",
   "metadata": {},
   "outputs": [
    {
     "data": {
      "text/html": [
       "<div>\n",
       "<style scoped>\n",
       "    .dataframe tbody tr th:only-of-type {\n",
       "        vertical-align: middle;\n",
       "    }\n",
       "\n",
       "    .dataframe tbody tr th {\n",
       "        vertical-align: top;\n",
       "    }\n",
       "\n",
       "    .dataframe thead th {\n",
       "        text-align: right;\n",
       "    }\n",
       "</style>\n",
       "<table border=\"1\" class=\"dataframe\">\n",
       "  <thead>\n",
       "    <tr style=\"text-align: right;\">\n",
       "      <th></th>\n",
       "      <th>Classifier</th>\n",
       "      <th>Parameters</th>\n",
       "      <th>F1</th>\n",
       "      <th>MCC</th>\n",
       "      <th>Accuracy</th>\n",
       "      <th>ROC_AUC</th>\n",
       "      <th>Recall</th>\n",
       "    </tr>\n",
       "  </thead>\n",
       "  <tbody>\n",
       "    <tr>\n",
       "      <th>0</th>\n",
       "      <td>Logistic Regression</td>\n",
       "      <td>{'C': 10.0, 'penalty': 'l2', 'solver': 'liblin...</td>\n",
       "      <td>0.747994</td>\n",
       "      <td>0.584330</td>\n",
       "      <td>0.793828</td>\n",
       "      <td>0.783432</td>\n",
       "      <td>0.681287</td>\n",
       "    </tr>\n",
       "    <tr>\n",
       "      <th>1</th>\n",
       "      <td>Naive Bayes Classifier</td>\n",
       "      <td>{'vect__max_df': 0.25, 'vect__ngram_range': (1...</td>\n",
       "      <td>0.716695</td>\n",
       "      <td>0.549923</td>\n",
       "      <td>0.779383</td>\n",
       "      <td>0.763506</td>\n",
       "      <td>0.641994</td>\n",
       "    </tr>\n",
       "    <tr>\n",
       "      <th>2</th>\n",
       "      <td>XGBoost</td>\n",
       "      <td>{'gamma': 2, 'learning_rate': 0.1, 'max_depth'...</td>\n",
       "      <td>0.519453</td>\n",
       "      <td>0.441205</td>\n",
       "      <td>0.699934</td>\n",
       "      <td>0.668637</td>\n",
       "      <td>0.361111</td>\n",
       "    </tr>\n",
       "    <tr>\n",
       "      <th>3</th>\n",
       "      <td>Gradient Boosting Classifier</td>\n",
       "      <td>{'learning_rate': 0.2, 'max_depth': 8, 'n_esti...</td>\n",
       "      <td>0.510593</td>\n",
       "      <td>0.435844</td>\n",
       "      <td>0.696651</td>\n",
       "      <td>0.664847</td>\n",
       "      <td>0.352339</td>\n",
       "    </tr>\n",
       "    <tr>\n",
       "      <th>4</th>\n",
       "      <td>KNN</td>\n",
       "      <td>{'leaf_size': 1, 'n_neighbors': 1, 'p': 1}</td>\n",
       "      <td>0.472340</td>\n",
       "      <td>0.377812</td>\n",
       "      <td>0.674327</td>\n",
       "      <td>0.642018</td>\n",
       "      <td>0.324561</td>\n",
       "    </tr>\n",
       "    <tr>\n",
       "      <th>5</th>\n",
       "      <td>Random Forest</td>\n",
       "      <td>{'max_depth': 9, 'n_estimators': 5}</td>\n",
       "      <td>0.291718</td>\n",
       "      <td>0.297507</td>\n",
       "      <td>0.623769</td>\n",
       "      <td>0.582086</td>\n",
       "      <td>0.172515</td>\n",
       "    </tr>\n",
       "  </tbody>\n",
       "</table>\n",
       "</div>"
      ],
      "text/plain": [
       "                     Classifier  \\\n",
       "0           Logistic Regression   \n",
       "1        Naive Bayes Classifier   \n",
       "2                       XGBoost   \n",
       "3  Gradient Boosting Classifier   \n",
       "4                           KNN   \n",
       "5                 Random Forest   \n",
       "\n",
       "                                          Parameters        F1       MCC  \\\n",
       "0  {'C': 10.0, 'penalty': 'l2', 'solver': 'liblin...  0.747994  0.584330   \n",
       "1  {'vect__max_df': 0.25, 'vect__ngram_range': (1...  0.716695  0.549923   \n",
       "2  {'gamma': 2, 'learning_rate': 0.1, 'max_depth'...  0.519453  0.441205   \n",
       "3  {'learning_rate': 0.2, 'max_depth': 8, 'n_esti...  0.510593  0.435844   \n",
       "4         {'leaf_size': 1, 'n_neighbors': 1, 'p': 1}  0.472340  0.377812   \n",
       "5                {'max_depth': 9, 'n_estimators': 5}  0.291718  0.297507   \n",
       "\n",
       "   Accuracy   ROC_AUC    Recall  \n",
       "0  0.793828  0.783432  0.681287  \n",
       "1  0.779383  0.763506  0.641994  \n",
       "2  0.699934  0.668637  0.361111  \n",
       "3  0.696651  0.664847  0.352339  \n",
       "4  0.674327  0.642018  0.324561  \n",
       "5  0.623769  0.582086  0.172515  "
      ]
     },
     "execution_count": 73,
     "metadata": {},
     "output_type": "execute_result"
    }
   ],
   "source": [
    "models"
   ]
  },
  {
   "cell_type": "code",
   "execution_count": 74,
   "id": "8ce1f322",
   "metadata": {},
   "outputs": [],
   "source": [
    "models.to_csv('Metrics_Table.csv')"
   ]
  },
  {
   "cell_type": "markdown",
   "id": "ea327183",
   "metadata": {},
   "source": [
    "To determine the best model the models are ranked by decending accuracy scores, the area under the roc, and the MCC values. The logistic regression classifier has the best performance using this metric, and therefore is determined the best ML binary classificaiton model for the classification of tweets.  "
   ]
  },
  {
   "cell_type": "markdown",
   "id": "04375158",
   "metadata": {},
   "source": [
    "## 2. Deep Learning Model with Keras"
   ]
  },
  {
   "cell_type": "code",
   "execution_count": 26,
   "id": "916e7f83",
   "metadata": {},
   "outputs": [],
   "source": [
    "import gensim\n",
    "import tensorflow as tf\n",
    "\n",
    "from sklearn.preprocessing import LabelEncoder\n",
    "\n",
    "\n",
    "from tensorflow.keras.models import Sequential\n",
    "from tensorflow.keras.layers import Dropout, Activation, Dense, Conv2D, BatchNormalization, MaxPooling2D, Flatten\n",
    "\n",
    "from gensim.models import Word2Vec\n",
    "\n",
    "import json\n",
    "\n",
    "tf.random.set_seed(10)"
   ]
  },
  {
   "cell_type": "code",
   "execution_count": 27,
   "id": "0da6ed31",
   "metadata": {},
   "outputs": [
    {
     "data": {
      "text/html": [
       "<div>\n",
       "<style scoped>\n",
       "    .dataframe tbody tr th:only-of-type {\n",
       "        vertical-align: middle;\n",
       "    }\n",
       "\n",
       "    .dataframe tbody tr th {\n",
       "        vertical-align: top;\n",
       "    }\n",
       "\n",
       "    .dataframe thead th {\n",
       "        text-align: right;\n",
       "    }\n",
       "</style>\n",
       "<table border=\"1\" class=\"dataframe\">\n",
       "  <thead>\n",
       "    <tr style=\"text-align: right;\">\n",
       "      <th></th>\n",
       "      <th>target</th>\n",
       "      <th>lemmas</th>\n",
       "    </tr>\n",
       "  </thead>\n",
       "  <tbody>\n",
       "    <tr>\n",
       "      <th>0</th>\n",
       "      <td>1</td>\n",
       "      <td>['deed', 'earthquake', 'allah', 'forgive']</td>\n",
       "    </tr>\n",
       "    <tr>\n",
       "      <th>1</th>\n",
       "      <td>1</td>\n",
       "      <td>['near', 'ronge', 'sask', 'canada']</td>\n",
       "    </tr>\n",
       "    <tr>\n",
       "      <th>2</th>\n",
       "      <td>1</td>\n",
       "      <td>['resident', 'asked', 'shelter', 'notified', '...</td>\n",
       "    </tr>\n",
       "    <tr>\n",
       "      <th>3</th>\n",
       "      <td>1</td>\n",
       "      <td>['receive', 'wildfire', 'order', 'california']</td>\n",
       "    </tr>\n",
       "    <tr>\n",
       "      <th>4</th>\n",
       "      <td>1</td>\n",
       "      <td>['sent', 'ruby', 'alaska', 'wildfire', 'pours']</td>\n",
       "    </tr>\n",
       "  </tbody>\n",
       "</table>\n",
       "</div>"
      ],
      "text/plain": [
       "   target                                             lemmas\n",
       "0       1         ['deed', 'earthquake', 'allah', 'forgive']\n",
       "1       1                ['near', 'ronge', 'sask', 'canada']\n",
       "2       1  ['resident', 'asked', 'shelter', 'notified', '...\n",
       "3       1     ['receive', 'wildfire', 'order', 'california']\n",
       "4       1    ['sent', 'ruby', 'alaska', 'wildfire', 'pours']"
      ]
     },
     "execution_count": 27,
     "metadata": {},
     "output_type": "execute_result"
    }
   ],
   "source": [
    "data.head()"
   ]
  },
  {
   "cell_type": "code",
   "execution_count": 28,
   "id": "8d18575a",
   "metadata": {},
   "outputs": [],
   "source": [
    "X = data['lemmas'].values\n",
    "y = data['target'].values\n",
    "X_train, X_test, y_train, y_test = train_test_split(X, y, test_size=0.2, random_state = 10)"
   ]
  },
  {
   "cell_type": "markdown",
   "id": "f166e75b",
   "metadata": {},
   "source": [
    "### Encoding Data \n",
    "\n",
    "There are quite a few different ways we can encode our target class- we shall use the label encoder for this. "
   ]
  },
  {
   "cell_type": "code",
   "execution_count": 29,
   "id": "295335f8",
   "metadata": {},
   "outputs": [],
   "source": [
    "label_encoder = LabelEncoder()\n",
    "y_train = label_encoder.fit_transform(y_train.ravel())\n",
    "y_test = label_encoder.fit_transform(y_test.ravel())"
   ]
  },
  {
   "cell_type": "markdown",
   "id": "b6c99c7d",
   "metadata": {},
   "source": [
    "### Word Embedding\n",
    "In our ML algorithms, we had used a bag-of-words model to vectorize our lemmatized tweets. Here, let's try a word embedding model. The advantage of a word embedding model is that the contextual impoortance of words are taken into account and helps establish association of a word with similar meaning words through creating vectors. This vectorization method is slitly superior to the bag of words model as it helps maintain similarity between words. We will use Google's Word2Vec to do this. "
   ]
  },
  {
   "cell_type": "code",
   "execution_count": 79,
   "id": "20f5161a",
   "metadata": {},
   "outputs": [],
   "source": [
    "w2v_num_features = 100\n",
    "w2v_model = gensim.models.Word2Vec(X_train, vector_size=w2v_num_features, window=150,\n",
    "                                   min_count=10, workers=4, epochs=5)    \n",
    "def averaged_word2vec_vectorizer(corpus, model, num_features):\n",
    "    vocabulary = set(model.wv.index_to_key)\n",
    "    \n",
    "    def average_word_vectors(words, model, vocabulary, num_features):\n",
    "        feature_vector = np.zeros((num_features,), dtype=\"float64\")\n",
    "        nwords = 0.\n",
    "        \n",
    "        for word in words:\n",
    "            if word in vocabulary: \n",
    "                nwords = nwords + 1.\n",
    "                feature_vector = np.add(feature_vector, model.wv[word])\n",
    "        if nwords:\n",
    "            feature_vector = np.divide(feature_vector, nwords)\n",
    "\n",
    "        return feature_vector\n",
    "\n",
    "    features = [average_word_vectors(tokenized_sentence, model, vocabulary, num_features)\n",
    "                    for tokenized_sentence in corpus]\n",
    "    return np.array(features)"
   ]
  },
  {
   "cell_type": "code",
   "execution_count": 80,
   "id": "a6eb120f",
   "metadata": {},
   "outputs": [
    {
     "name": "stdout",
     "output_type": "stream",
     "text": [
      "Word2Vec model:> Train features shape: (6090, 100)  Test features shape: (1523, 100)\n",
      "Epoch 1/10\n",
      "55/55 [==============================] - 1s 12ms/step - loss: 0.6814 - accuracy: 0.5703 - val_loss: 0.6735 - val_accuracy: 0.5764\n",
      "Epoch 2/10\n",
      "55/55 [==============================] - 0s 8ms/step - loss: 0.6785 - accuracy: 0.5723 - val_loss: 0.6695 - val_accuracy: 0.5764\n",
      "Epoch 3/10\n",
      "55/55 [==============================] - 0s 7ms/step - loss: 0.6805 - accuracy: 0.5729 - val_loss: 0.6731 - val_accuracy: 0.5714\n",
      "Epoch 4/10\n",
      "55/55 [==============================] - 0s 7ms/step - loss: 0.6760 - accuracy: 0.5771 - val_loss: 0.6692 - val_accuracy: 0.5764\n",
      "Epoch 5/10\n",
      "55/55 [==============================] - 0s 6ms/step - loss: 0.6720 - accuracy: 0.5734 - val_loss: 0.6607 - val_accuracy: 0.6059\n",
      "Epoch 6/10\n",
      "55/55 [==============================] - 0s 7ms/step - loss: 0.6697 - accuracy: 0.5782 - val_loss: 0.6575 - val_accuracy: 0.6092\n",
      "Epoch 7/10\n",
      "55/55 [==============================] - 0s 7ms/step - loss: 0.6690 - accuracy: 0.5860 - val_loss: 0.6516 - val_accuracy: 0.5944\n",
      "Epoch 8/10\n",
      "55/55 [==============================] - 0s 8ms/step - loss: 0.6702 - accuracy: 0.5811 - val_loss: 0.6576 - val_accuracy: 0.5977\n",
      "Epoch 9/10\n",
      "55/55 [==============================] - 0s 8ms/step - loss: 0.6698 - accuracy: 0.5711 - val_loss: 0.6550 - val_accuracy: 0.6059\n",
      "Epoch 10/10\n",
      "55/55 [==============================] - 0s 8ms/step - loss: 0.6642 - accuracy: 0.5913 - val_loss: 0.6536 - val_accuracy: 0.6043\n",
      "              precision    recall  f1-score   support\n",
      "\n",
      "           0       0.64      0.73      0.68       861\n",
      "           1       0.57      0.46      0.51       662\n",
      "\n",
      "    accuracy                           0.61      1523\n",
      "   macro avg       0.60      0.59      0.59      1523\n",
      "weighted avg       0.61      0.61      0.60      1523\n",
      "\n"
     ]
    },
    {
     "data": {
      "text/html": [
       "<div>\n",
       "<style scoped>\n",
       "    .dataframe tbody tr th:only-of-type {\n",
       "        vertical-align: middle;\n",
       "    }\n",
       "\n",
       "    .dataframe tbody tr th {\n",
       "        vertical-align: top;\n",
       "    }\n",
       "\n",
       "    .dataframe thead th {\n",
       "        text-align: right;\n",
       "    }\n",
       "</style>\n",
       "<table border=\"1\" class=\"dataframe\">\n",
       "  <thead>\n",
       "    <tr style=\"text-align: right;\">\n",
       "      <th></th>\n",
       "      <th>negative</th>\n",
       "      <th>positive</th>\n",
       "    </tr>\n",
       "  </thead>\n",
       "  <tbody>\n",
       "    <tr>\n",
       "      <th>negative</th>\n",
       "      <td>629</td>\n",
       "      <td>232</td>\n",
       "    </tr>\n",
       "    <tr>\n",
       "      <th>positive</th>\n",
       "      <td>360</td>\n",
       "      <td>302</td>\n",
       "    </tr>\n",
       "  </tbody>\n",
       "</table>\n",
       "</div>"
      ],
      "text/plain": [
       "          negative  positive\n",
       "negative       629       232\n",
       "positive       360       302"
      ]
     },
     "execution_count": 80,
     "metadata": {},
     "output_type": "execute_result"
    }
   ],
   "source": [
    "# generate averaged word vector features from word2vec model\n",
    "avg_wv_train_features = averaged_word2vec_vectorizer(corpus=X_train, model=w2v_model,\n",
    "                                                     num_features=w2v_num_features)\n",
    "avg_wv_test_features = averaged_word2vec_vectorizer(corpus=X_test, model=w2v_model,\n",
    "                                                    num_features=w2v_num_features)\n",
    "print('Word2Vec model:> Train features shape:', avg_wv_train_features.shape, ' Test features shape:', avg_wv_test_features.shape)\n",
    "\n",
    "def construct_deepnn_architecture(num_input_features):\n",
    "    dnn_model = Sequential()\n",
    "    dnn_model.add(Dense(512, input_shape=(num_input_features,)))\n",
    "    dnn_model.add(Activation('relu'))\n",
    "    dnn_model.add(Dropout(0.2))\n",
    "    \n",
    "    dnn_model.add(Dense(256))\n",
    "    dnn_model.add(Activation('relu'))\n",
    "    dnn_model.add(Dropout(0.2))\n",
    "    \n",
    "    dnn_model.add(Dense(256))\n",
    "    dnn_model.add(Activation('relu'))\n",
    "    dnn_model.add(Dropout(0.2))\n",
    "    \n",
    "    dnn_model.add(Dense(1))\n",
    "    dnn_model.add(Activation('sigmoid'))\n",
    "\n",
    "    dnn_model.compile(loss='binary_crossentropy', optimizer='adam',                 \n",
    "                      metrics=['accuracy'])\n",
    "    return dnn_model\n",
    "\n",
    "w2v_dnn = construct_deepnn_architecture(num_input_features=w2v_num_features)\n",
    "\n",
    "batch_size = 100\n",
    "w2v_dnn.fit(avg_wv_train_features, y_train.ravel(), epochs=10, batch_size=batch_size, \n",
    "            shuffle=True, validation_split=0.1, verbose=1)\n",
    "\n",
    "y_pred = w2v_dnn.predict(avg_wv_test_features)\n",
    "predictions = label_encoder.inverse_transform((y_pred.ravel()>0.5).astype('int32') )\n",
    "labels = ['negative', 'positive']\n",
    "print(classification_report(y_test, predictions))\n",
    "pd.DataFrame(confusion_matrix(y_test, predictions), index=labels, columns=labels)\n"
   ]
  },
  {
   "cell_type": "code",
   "execution_count": 81,
   "id": "603f4b0c",
   "metadata": {},
   "outputs": [
    {
     "name": "stdout",
     "output_type": "stream",
     "text": [
      "Word2Vec model:> Train features shape: (6090, 200)  Test features shape: (1523, 200)\n",
      "Epoch 1/10\n",
      "55/55 [==============================] - 1s 16ms/step - loss: 0.6816 - accuracy: 0.5716 - val_loss: 0.6738 - val_accuracy: 0.5764\n",
      "Epoch 2/10\n",
      "55/55 [==============================] - 0s 7ms/step - loss: 0.6793 - accuracy: 0.5733 - val_loss: 0.6705 - val_accuracy: 0.5764\n",
      "Epoch 3/10\n",
      "55/55 [==============================] - 0s 8ms/step - loss: 0.6787 - accuracy: 0.5727 - val_loss: 0.6712 - val_accuracy: 0.5764\n",
      "Epoch 4/10\n",
      "55/55 [==============================] - 0s 9ms/step - loss: 0.6761 - accuracy: 0.5680 - val_loss: 0.6702 - val_accuracy: 0.5764\n",
      "Epoch 5/10\n",
      "55/55 [==============================] - 0s 8ms/step - loss: 0.6766 - accuracy: 0.5652 - val_loss: 0.6743 - val_accuracy: 0.5764\n",
      "Epoch 6/10\n",
      "55/55 [==============================] - 0s 8ms/step - loss: 0.6739 - accuracy: 0.5747 - val_loss: 0.6685 - val_accuracy: 0.5928\n",
      "Epoch 7/10\n",
      "55/55 [==============================] - 0s 9ms/step - loss: 0.6706 - accuracy: 0.5747 - val_loss: 0.6566 - val_accuracy: 0.6010\n",
      "Epoch 8/10\n",
      "55/55 [==============================] - 0s 9ms/step - loss: 0.6746 - accuracy: 0.5577 - val_loss: 0.6601 - val_accuracy: 0.5764\n",
      "Epoch 9/10\n",
      "55/55 [==============================] - 0s 8ms/step - loss: 0.6697 - accuracy: 0.5680 - val_loss: 0.6563 - val_accuracy: 0.5780\n",
      "Epoch 10/10\n",
      "55/55 [==============================] - 0s 8ms/step - loss: 0.6669 - accuracy: 0.5729 - val_loss: 0.6558 - val_accuracy: 0.5961\n",
      "              precision    recall  f1-score   support\n",
      "\n",
      "           0       0.60      0.83      0.70       861\n",
      "           1       0.56      0.27      0.37       662\n",
      "\n",
      "    accuracy                           0.59      1523\n",
      "   macro avg       0.58      0.55      0.53      1523\n",
      "weighted avg       0.58      0.59      0.55      1523\n",
      "\n"
     ]
    },
    {
     "data": {
      "text/html": [
       "<div>\n",
       "<style scoped>\n",
       "    .dataframe tbody tr th:only-of-type {\n",
       "        vertical-align: middle;\n",
       "    }\n",
       "\n",
       "    .dataframe tbody tr th {\n",
       "        vertical-align: top;\n",
       "    }\n",
       "\n",
       "    .dataframe thead th {\n",
       "        text-align: right;\n",
       "    }\n",
       "</style>\n",
       "<table border=\"1\" class=\"dataframe\">\n",
       "  <thead>\n",
       "    <tr style=\"text-align: right;\">\n",
       "      <th></th>\n",
       "      <th>negative</th>\n",
       "      <th>positive</th>\n",
       "    </tr>\n",
       "  </thead>\n",
       "  <tbody>\n",
       "    <tr>\n",
       "      <th>negative</th>\n",
       "      <td>717</td>\n",
       "      <td>144</td>\n",
       "    </tr>\n",
       "    <tr>\n",
       "      <th>positive</th>\n",
       "      <td>480</td>\n",
       "      <td>182</td>\n",
       "    </tr>\n",
       "  </tbody>\n",
       "</table>\n",
       "</div>"
      ],
      "text/plain": [
       "          negative  positive\n",
       "negative       717       144\n",
       "positive       480       182"
      ]
     },
     "execution_count": 81,
     "metadata": {},
     "output_type": "execute_result"
    }
   ],
   "source": [
    "w2v_num_features = 200\n",
    "w2v_model = gensim.models.Word2Vec(X_train, vector_size=w2v_num_features, window=150,\n",
    "                                   min_count=10, workers=4, epochs=5)    \n",
    "def averaged_word2vec_vectorizer(corpus, model, num_features):\n",
    "    vocabulary = set(model.wv.index_to_key)\n",
    "    \n",
    "    def average_word_vectors(words, model, vocabulary, num_features):\n",
    "        feature_vector = np.zeros((num_features,), dtype=\"float64\")\n",
    "        nwords = 0.\n",
    "        \n",
    "        for word in words:\n",
    "            if word in vocabulary: \n",
    "                nwords = nwords + 1.\n",
    "                feature_vector = np.add(feature_vector, model.wv[word])\n",
    "        if nwords:\n",
    "            feature_vector = np.divide(feature_vector, nwords)\n",
    "\n",
    "        return feature_vector\n",
    "\n",
    "    features = [average_word_vectors(tokenized_sentence, model, vocabulary, num_features)\n",
    "                    for tokenized_sentence in corpus]\n",
    "    return np.array(features)\n",
    "# generate averaged word vector features from word2vec model\n",
    "avg_wv_train_features = averaged_word2vec_vectorizer(corpus=X_train, model=w2v_model,\n",
    "                                                     num_features=w2v_num_features)\n",
    "avg_wv_test_features = averaged_word2vec_vectorizer(corpus=X_test, model=w2v_model,\n",
    "                                                    num_features=w2v_num_features)\n",
    "print('Word2Vec model:> Train features shape:', avg_wv_train_features.shape, ' Test features shape:', avg_wv_test_features.shape)\n",
    "\n",
    "def construct_deepnn_architecture(num_input_features):\n",
    "    dnn_model = Sequential()\n",
    "    dnn_model.add(Dense(512, input_shape=(num_input_features,)))\n",
    "    dnn_model.add(Activation('relu'))\n",
    "    dnn_model.add(Dropout(0.2))\n",
    "    \n",
    "    dnn_model.add(Dense(256))\n",
    "    dnn_model.add(Activation('relu'))\n",
    "    dnn_model.add(Dropout(0.2))\n",
    "    \n",
    "    dnn_model.add(Dense(256))\n",
    "    dnn_model.add(Activation('relu'))\n",
    "    dnn_model.add(Dropout(0.2))\n",
    "    \n",
    "    dnn_model.add(Dense(1))\n",
    "    dnn_model.add(Activation('sigmoid'))\n",
    "\n",
    "    dnn_model.compile(loss='binary_crossentropy', optimizer='adam',                 \n",
    "                      metrics=['accuracy'])\n",
    "    return dnn_model\n",
    "\n",
    "w2v_dnn = construct_deepnn_architecture(num_input_features=w2v_num_features)\n",
    "\n",
    "batch_size = 100\n",
    "w2v_dnn.fit(avg_wv_train_features, y_train.ravel(), epochs=10, batch_size=batch_size, \n",
    "            shuffle=True, validation_split=0.1, verbose=1)\n",
    "\n",
    "y_pred = w2v_dnn.predict(avg_wv_test_features)\n",
    "predictions = label_encoder.inverse_transform((y_pred.ravel()>0.5).astype('int32') )\n",
    "labels = ['negative', 'positive']\n",
    "print(classification_report(y_test, predictions))\n",
    "pd.DataFrame(confusion_matrix(y_test, predictions), index=labels, columns=labels)\n"
   ]
  },
  {
   "cell_type": "code",
   "execution_count": 77,
   "id": "9eeffffc",
   "metadata": {},
   "outputs": [
    {
     "name": "stdout",
     "output_type": "stream",
     "text": [
      "Word2Vec model:> Train features shape: (6090, 300)  Test features shape: (1523, 300)\n",
      "Epoch 1/10\n",
      "55/55 [==============================] - 1s 13ms/step - loss: 0.6813 - accuracy: 0.5702 - val_loss: 0.6736 - val_accuracy: 0.5764\n",
      "Epoch 2/10\n",
      "55/55 [==============================] - 0s 8ms/step - loss: 0.6785 - accuracy: 0.5745 - val_loss: 0.6677 - val_accuracy: 0.5764\n",
      "Epoch 3/10\n",
      "55/55 [==============================] - 0s 9ms/step - loss: 0.6808 - accuracy: 0.5678 - val_loss: 0.6715 - val_accuracy: 0.5764\n",
      "Epoch 4/10\n",
      "55/55 [==============================] - 0s 8ms/step - loss: 0.6774 - accuracy: 0.5672 - val_loss: 0.6680 - val_accuracy: 0.5764\n",
      "Epoch 5/10\n",
      "55/55 [==============================] - 0s 8ms/step - loss: 0.6756 - accuracy: 0.5707 - val_loss: 0.6653 - val_accuracy: 0.5764\n",
      "Epoch 6/10\n",
      "55/55 [==============================] - 0s 8ms/step - loss: 0.6729 - accuracy: 0.5751 - val_loss: 0.6641 - val_accuracy: 0.5878\n",
      "Epoch 7/10\n",
      "55/55 [==============================] - 0s 7ms/step - loss: 0.6709 - accuracy: 0.5707 - val_loss: 0.6546 - val_accuracy: 0.5829\n",
      "Epoch 8/10\n",
      "55/55 [==============================] - 0s 7ms/step - loss: 0.6754 - accuracy: 0.5680 - val_loss: 0.6579 - val_accuracy: 0.5747\n",
      "Epoch 9/10\n",
      "55/55 [==============================] - 0s 7ms/step - loss: 0.6715 - accuracy: 0.5672 - val_loss: 0.6557 - val_accuracy: 0.5764\n",
      "Epoch 10/10\n",
      "55/55 [==============================] - 0s 7ms/step - loss: 0.6693 - accuracy: 0.5689 - val_loss: 0.6550 - val_accuracy: 0.5731\n",
      "              precision    recall  f1-score   support\n",
      "\n",
      "           0       0.57      1.00      0.72       861\n",
      "           1       0.67      0.01      0.01       662\n",
      "\n",
      "    accuracy                           0.57      1523\n",
      "   macro avg       0.62      0.50      0.37      1523\n",
      "weighted avg       0.61      0.57      0.41      1523\n",
      "\n"
     ]
    },
    {
     "data": {
      "text/html": [
       "<div>\n",
       "<style scoped>\n",
       "    .dataframe tbody tr th:only-of-type {\n",
       "        vertical-align: middle;\n",
       "    }\n",
       "\n",
       "    .dataframe tbody tr th {\n",
       "        vertical-align: top;\n",
       "    }\n",
       "\n",
       "    .dataframe thead th {\n",
       "        text-align: right;\n",
       "    }\n",
       "</style>\n",
       "<table border=\"1\" class=\"dataframe\">\n",
       "  <thead>\n",
       "    <tr style=\"text-align: right;\">\n",
       "      <th></th>\n",
       "      <th>negative</th>\n",
       "      <th>positive</th>\n",
       "    </tr>\n",
       "  </thead>\n",
       "  <tbody>\n",
       "    <tr>\n",
       "      <th>negative</th>\n",
       "      <td>859</td>\n",
       "      <td>2</td>\n",
       "    </tr>\n",
       "    <tr>\n",
       "      <th>positive</th>\n",
       "      <td>658</td>\n",
       "      <td>4</td>\n",
       "    </tr>\n",
       "  </tbody>\n",
       "</table>\n",
       "</div>"
      ],
      "text/plain": [
       "          negative  positive\n",
       "negative       859         2\n",
       "positive       658         4"
      ]
     },
     "execution_count": 77,
     "metadata": {},
     "output_type": "execute_result"
    }
   ],
   "source": [
    "w2v_num_features = 300\n",
    "w2v_model = gensim.models.Word2Vec(X_train, vector_size=w2v_num_features, window=150,\n",
    "                                   min_count=10, workers=4, epochs=5)    \n",
    "def averaged_word2vec_vectorizer(corpus, model, num_features):\n",
    "    vocabulary = set(model.wv.index_to_key)\n",
    "    \n",
    "    def average_word_vectors(words, model, vocabulary, num_features):\n",
    "        feature_vector = np.zeros((num_features,), dtype=\"float64\")\n",
    "        nwords = 0.\n",
    "        \n",
    "        for word in words:\n",
    "            if word in vocabulary: \n",
    "                nwords = nwords + 1.\n",
    "                feature_vector = np.add(feature_vector, model.wv[word])\n",
    "        if nwords:\n",
    "            feature_vector = np.divide(feature_vector, nwords)\n",
    "\n",
    "        return feature_vector\n",
    "\n",
    "    features = [average_word_vectors(tokenized_sentence, model, vocabulary, num_features)\n",
    "                    for tokenized_sentence in corpus]\n",
    "    return np.array(features)\n",
    "# generate averaged word vector features from word2vec model\n",
    "avg_wv_train_features = averaged_word2vec_vectorizer(corpus=X_train, model=w2v_model,\n",
    "                                                     num_features=w2v_num_features)\n",
    "avg_wv_test_features = averaged_word2vec_vectorizer(corpus=X_test, model=w2v_model,\n",
    "                                                    num_features=w2v_num_features)\n",
    "print('Word2Vec model:> Train features shape:', avg_wv_train_features.shape, ' Test features shape:', avg_wv_test_features.shape)\n",
    "\n",
    "def construct_deepnn_architecture(num_input_features):\n",
    "    dnn_model = Sequential()\n",
    "    dnn_model.add(Dense(512, input_shape=(num_input_features,)))\n",
    "    dnn_model.add(Activation('relu'))\n",
    "    dnn_model.add(Dropout(0.2))\n",
    "    \n",
    "    dnn_model.add(Dense(256))\n",
    "    dnn_model.add(Activation('relu'))\n",
    "    dnn_model.add(Dropout(0.2))\n",
    "    \n",
    "    dnn_model.add(Dense(256))\n",
    "    dnn_model.add(Activation('relu'))\n",
    "    dnn_model.add(Dropout(0.2))\n",
    "    \n",
    "    dnn_model.add(Dense(1))\n",
    "    dnn_model.add(Activation('sigmoid'))\n",
    "\n",
    "    dnn_model.compile(loss='binary_crossentropy', optimizer='adam',                 \n",
    "                      metrics=['accuracy'])\n",
    "    return dnn_model\n",
    "\n",
    "w2v_dnn = construct_deepnn_architecture(num_input_features=w2v_num_features)\n",
    "\n",
    "batch_size = 100\n",
    "w2v_dnn.fit(avg_wv_train_features, y_train.ravel(), epochs=10, batch_size=batch_size, \n",
    "            shuffle=True, validation_split=0.1, verbose=1)\n",
    "\n",
    "y_pred = w2v_dnn.predict(avg_wv_test_features)\n",
    "predictions = label_encoder.inverse_transform((y_pred.ravel()>0.5).astype('int32') )\n",
    "labels = ['negative', 'positive']\n",
    "print(classification_report(y_test, predictions))\n",
    "pd.DataFrame(confusion_matrix(y_test, predictions), index=labels, columns=labels)\n"
   ]
  },
  {
   "cell_type": "code",
   "execution_count": null,
   "id": "1ce15dd1",
   "metadata": {},
   "outputs": [],
   "source": []
  },
  {
   "cell_type": "code",
   "execution_count": 82,
   "id": "2f566047",
   "metadata": {},
   "outputs": [
    {
     "ename": "NameError",
     "evalue": "name 'model' is not defined",
     "output_type": "error",
     "traceback": [
      "\u001b[1;31m---------------------------------------------------------------------------\u001b[0m",
      "\u001b[1;31mNameError\u001b[0m                                 Traceback (most recent call last)",
      "\u001b[1;32m<ipython-input-82-246cd7461f4f>\u001b[0m in \u001b[0;36m<module>\u001b[1;34m\u001b[0m\n\u001b[0;32m      2\u001b[0m \u001b[1;32mwith\u001b[0m \u001b[0mopen\u001b[0m\u001b[1;33m(\u001b[0m\u001b[1;34m\"w2v_dnn.json\"\u001b[0m\u001b[1;33m,\u001b[0m \u001b[1;34m\"w\"\u001b[0m\u001b[1;33m)\u001b[0m \u001b[1;32mas\u001b[0m \u001b[0mjson_file\u001b[0m\u001b[1;33m:\u001b[0m\u001b[1;33m\u001b[0m\u001b[1;33m\u001b[0m\u001b[0m\n\u001b[0;32m      3\u001b[0m     \u001b[0mjson_file\u001b[0m\u001b[1;33m.\u001b[0m\u001b[0mwrite\u001b[0m\u001b[1;33m(\u001b[0m\u001b[0mmodel_json\u001b[0m\u001b[1;33m)\u001b[0m\u001b[1;33m\u001b[0m\u001b[1;33m\u001b[0m\u001b[0m\n\u001b[1;32m----> 4\u001b[1;33m \u001b[0mmodel\u001b[0m\u001b[1;33m.\u001b[0m\u001b[0msave_weights\u001b[0m\u001b[1;33m(\u001b[0m\u001b[1;34m\"model.h5\"\u001b[0m\u001b[1;33m)\u001b[0m\u001b[1;33m\u001b[0m\u001b[1;33m\u001b[0m\u001b[0m\n\u001b[0m",
      "\u001b[1;31mNameError\u001b[0m: name 'model' is not defined"
     ]
    }
   ],
   "source": [
    "model_json = w2v_dnn.to_json()\n",
    "with open(\"w2v_dnn.json\", \"w\") as json_file:\n",
    "    json_file.write(model_json)\n",
    "model.save_weights(\"model.h5\")"
   ]
  },
  {
   "cell_type": "markdown",
   "id": "e7871302",
   "metadata": {},
   "source": [
    "https://towardsdatascience.com/detecting-disaster-from-tweets-classical-ml-and-lstm-approach-4566871af5f7\n",
    "https://towardsdatascience.com/detecting-disaster-from-tweets-classical-ml-and-lstm-approach-4566871af5f7\n",
    "https://www.kaggle.com/competitions/nlp-getting-started/code?competitionId=17777&sortBy=voteCount&searchQuery=word2vec\n",
    "https://www.kaggle.com/code/frankmollard/nlp-a-gentle-introduction-lstm-word2vec-bert\n",
    "https://www.kaggle.com/code/longtng/nlp-preprocessing-feature-extraction-methods-a-z\n",
    "https://www.kaggle.com/code/pavansanagapati/knowledge-graph-nlp-tutorial-bert-spacy-nltk\n",
    "https://www.kaggle.com/code/zinebkhanjari/disaster-tweets-multiple-vectorizers-and-models\n",
    "https://www.kaggle.com/code/shirishsharma/nlp-from-embeddings-and-rnns-to-bert\n",
    "https://www.kaggle.com/code/ratan123/in-depth-guide-to-google-s-bert\n",
    "https://www.kaggle.com/code/jagdmir/tweet-analysis-ann-bert-cnn-n-gram-cnn"
   ]
  }
 ],
 "metadata": {
  "kernelspec": {
   "display_name": "Python 3",
   "language": "python",
   "name": "python3"
  },
  "language_info": {
   "codemirror_mode": {
    "name": "ipython",
    "version": 3
   },
   "file_extension": ".py",
   "mimetype": "text/x-python",
   "name": "python",
   "nbconvert_exporter": "python",
   "pygments_lexer": "ipython3",
   "version": "3.8.8"
  }
 },
 "nbformat": 4,
 "nbformat_minor": 5
}
